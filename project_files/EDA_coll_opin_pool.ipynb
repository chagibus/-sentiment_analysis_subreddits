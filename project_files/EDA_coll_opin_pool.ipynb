{
 "cells": [
  {
   "cell_type": "code",
   "execution_count": 104,
   "id": "2e8c8513-331a-443d-8d94-09c3c0d715c7",
   "metadata": {},
   "outputs": [],
   "source": [
    "import pandas as pd\n",
    "import numpy as np\n",
    "import matplotlib.pyplot as plt\n",
    "import seaborn as sns\n",
    "\n",
    "import nltk\n",
    "from nltk.corpus import wordnet\n",
    "from sklearn.feature_extraction.text import CountVectorizer\n",
    "from nltk.stem import WordNetLemmatizer, PorterStemmer\n",
    "from nltk.tokenize import sent_tokenize, word_tokenize, RegexpTokenizer\n",
    "from nltk.corpus import stopwords, wordnet\n"
   ]
  },
  {
   "cell_type": "code",
   "execution_count": 105,
   "id": "f2254c1b-0ab9-4c29-be97-a215a92afbf0",
   "metadata": {},
   "outputs": [],
   "source": [
    "college = pd.read_csv('./data/college_senti_zeroed.csv')\n",
    "opins = pd.read_csv('./data/opins_senti_oned.csv')"
   ]
  },
  {
   "cell_type": "code",
   "execution_count": 106,
   "id": "4c9c9ae4-ac94-432b-9740-7bbc53d32f02",
   "metadata": {},
   "outputs": [],
   "source": [
    "df = pd.concat([opins, college], axis = 0)"
   ]
  },
  {
   "cell_type": "code",
   "execution_count": 107,
   "id": "d06cc8f3-1137-40af-b23d-1001b3071780",
   "metadata": {},
   "outputs": [],
   "source": [
    "df.to_csv('data/combined_posts.csv', index=False)"
   ]
  },
  {
   "cell_type": "code",
   "execution_count": 108,
   "id": "c5311d41-2599-49fd-b9bf-22707ad4e511",
   "metadata": {},
   "outputs": [],
   "source": [
    "data = pd.read_csv('data/combined_posts.csv')"
   ]
  },
  {
   "cell_type": "code",
   "execution_count": 109,
   "id": "137b22a4-4b2d-48c8-a949-ede8f2483e66",
   "metadata": {},
   "outputs": [
    {
     "data": {
      "text/html": [
       "<div>\n",
       "<style scoped>\n",
       "    .dataframe tbody tr th:only-of-type {\n",
       "        vertical-align: middle;\n",
       "    }\n",
       "\n",
       "    .dataframe tbody tr th {\n",
       "        vertical-align: top;\n",
       "    }\n",
       "\n",
       "    .dataframe thead th {\n",
       "        text-align: right;\n",
       "    }\n",
       "</style>\n",
       "<table border=\"1\" class=\"dataframe\">\n",
       "  <thead>\n",
       "    <tr style=\"text-align: right;\">\n",
       "      <th></th>\n",
       "      <th>created_utc</th>\n",
       "      <th>subreddit</th>\n",
       "      <th>post</th>\n",
       "      <th>post_length</th>\n",
       "      <th>post_word_count</th>\n",
       "      <th>sent_score</th>\n",
       "    </tr>\n",
       "  </thead>\n",
       "  <tbody>\n",
       "    <tr>\n",
       "      <th>0</th>\n",
       "      <td>1.597545e+09</td>\n",
       "      <td>unpopularopinion</td>\n",
       "      <td>Middle aged guys don't buy sports cars because...</td>\n",
       "      <td>1646</td>\n",
       "      <td>310</td>\n",
       "      <td>1</td>\n",
       "    </tr>\n",
       "    <tr>\n",
       "      <th>1</th>\n",
       "      <td>1.613406e+09</td>\n",
       "      <td>unpopularopinion</td>\n",
       "      <td>\"Y'all\" is a brilliant use of the English lang...</td>\n",
       "      <td>885</td>\n",
       "      <td>179</td>\n",
       "      <td>1</td>\n",
       "    </tr>\n",
       "  </tbody>\n",
       "</table>\n",
       "</div>"
      ],
      "text/plain": [
       "    created_utc         subreddit  \\\n",
       "0  1.597545e+09  unpopularopinion   \n",
       "1  1.613406e+09  unpopularopinion   \n",
       "\n",
       "                                                post  post_length  \\\n",
       "0  Middle aged guys don't buy sports cars because...         1646   \n",
       "1  \"Y'all\" is a brilliant use of the English lang...          885   \n",
       "\n",
       "   post_word_count  sent_score  \n",
       "0              310           1  \n",
       "1              179           1  "
      ]
     },
     "execution_count": 109,
     "metadata": {},
     "output_type": "execute_result"
    }
   ],
   "source": [
    "data.head(2)"
   ]
  },
  {
   "cell_type": "code",
   "execution_count": 110,
   "id": "8bc52169-a80a-46db-8802-8f260dfca614",
   "metadata": {},
   "outputs": [
    {
     "data": {
      "text/plain": [
       "(3584, 6)"
      ]
     },
     "execution_count": 110,
     "metadata": {},
     "output_type": "execute_result"
    }
   ],
   "source": [
    "data.shape"
   ]
  },
  {
   "cell_type": "code",
   "execution_count": 111,
   "id": "26e9abae-113d-4856-a56e-2b193ade96e0",
   "metadata": {},
   "outputs": [],
   "source": [
    "data.drop(['created_utc','post_length', 'post_word_count', 'subreddit'], axis = 1, inplace = True)"
   ]
  },
  {
   "cell_type": "code",
   "execution_count": 112,
   "id": "c4adb0b4-f885-4fd0-9ce0-06c604863f9d",
   "metadata": {},
   "outputs": [
    {
     "data": {
      "text/html": [
       "<div>\n",
       "<style scoped>\n",
       "    .dataframe tbody tr th:only-of-type {\n",
       "        vertical-align: middle;\n",
       "    }\n",
       "\n",
       "    .dataframe tbody tr th {\n",
       "        vertical-align: top;\n",
       "    }\n",
       "\n",
       "    .dataframe thead th {\n",
       "        text-align: right;\n",
       "    }\n",
       "</style>\n",
       "<table border=\"1\" class=\"dataframe\">\n",
       "  <thead>\n",
       "    <tr style=\"text-align: right;\">\n",
       "      <th></th>\n",
       "      <th>post</th>\n",
       "      <th>sent_score</th>\n",
       "    </tr>\n",
       "  </thead>\n",
       "  <tbody>\n",
       "    <tr>\n",
       "      <th>0</th>\n",
       "      <td>Middle aged guys don't buy sports cars because...</td>\n",
       "      <td>1</td>\n",
       "    </tr>\n",
       "    <tr>\n",
       "      <th>1</th>\n",
       "      <td>\"Y'all\" is a brilliant use of the English lang...</td>\n",
       "      <td>1</td>\n",
       "    </tr>\n",
       "  </tbody>\n",
       "</table>\n",
       "</div>"
      ],
      "text/plain": [
       "                                                post  sent_score\n",
       "0  Middle aged guys don't buy sports cars because...           1\n",
       "1  \"Y'all\" is a brilliant use of the English lang...           1"
      ]
     },
     "execution_count": 112,
     "metadata": {},
     "output_type": "execute_result"
    }
   ],
   "source": [
    "data.head(2)"
   ]
  },
  {
   "cell_type": "code",
   "execution_count": 113,
   "id": "21e47429-8b2a-46b3-ab32-ed2ad27a94bf",
   "metadata": {},
   "outputs": [
    {
     "data": {
      "text/plain": [
       "(3584, 2)"
      ]
     },
     "execution_count": 113,
     "metadata": {},
     "output_type": "execute_result"
    }
   ],
   "source": [
    "data.shape"
   ]
  },
  {
   "cell_type": "markdown",
   "id": "913f3f25-b8f8-44d2-b69e-cc8e7afc7593",
   "metadata": {},
   "source": [
    "# Preparing data for EDA"
   ]
  },
  {
   "cell_type": "code",
   "execution_count": 114,
   "id": "4ec29f10-9019-420d-b16e-f64d1ee6fe45",
   "metadata": {},
   "outputs": [],
   "source": [
    "# Converting text to lower case\n",
    "\n",
    "data['post'] = data['post'].str.lower()"
   ]
  },
  {
   "cell_type": "code",
   "execution_count": 115,
   "id": "67880262-b72f-447d-98da-78c0ae2ed8b9",
   "metadata": {},
   "outputs": [],
   "source": [
    "# removing chars and web addresses like https, www, .com from text\n",
    "import re\n",
    "def remove_chars(text):\n",
    "    text = re.sub(r'http\\S+', '', text)\n",
    "    text = re.sub(r'\\d+', ' ', text)\n",
    "    return text"
   ]
  },
  {
   "cell_type": "code",
   "execution_count": 116,
   "id": "c6ed25e4-02cb-41d8-9a92-84cf7a04d69a",
   "metadata": {},
   "outputs": [],
   "source": [
    "# removing chars and web addresses like https, www, .com from text\n",
    "data['post_nochars'] = data['post'].apply(remove_chars)"
   ]
  },
  {
   "cell_type": "code",
   "execution_count": 117,
   "id": "257471b6-0acc-453b-a0db-b667416220d2",
   "metadata": {},
   "outputs": [
    {
     "data": {
      "text/plain": [
       "'i always eat dessert before dinner at a restaurantwhen at a restaurant, waiting staff always find it weird when i order the dessert before the appetizer and the main course. they ask “oh, is that all that you’re having?”. i’m like “no… i just want my cheesecake first, please”. i have to convince them that i’m just a dessert first kinda guy. i feel like the main course is much more enjoyable when your dopamine levels are boosted.'"
      ]
     },
     "execution_count": 117,
     "metadata": {},
     "output_type": "execute_result"
    }
   ],
   "source": [
    "data['post_nochars'][2]"
   ]
  },
  {
   "cell_type": "code",
   "execution_count": null,
   "id": "b813ad1c-4043-4c3f-9dc9-0872a115ba7f",
   "metadata": {
    "scrolled": true
   },
   "outputs": [],
   "source": []
  },
  {
   "cell_type": "code",
   "execution_count": 118,
   "id": "9f643766-e517-4dab-b5de-d60d35ffcaea",
   "metadata": {},
   "outputs": [],
   "source": [
    "# text tokenization\n",
    "tokenizer = nltk.RegexpTokenizer(r'\\w+')\n",
    "data['post_tokenized'] = data['post_nochars'].apply(tokenizer.tokenize)"
   ]
  },
  {
   "cell_type": "code",
   "execution_count": 119,
   "id": "b0f6a728-3b1a-4083-a65b-55cb4dac3a28",
   "metadata": {},
   "outputs": [
    {
     "data": {
      "text/plain": [
       "81"
      ]
     },
     "execution_count": 119,
     "metadata": {},
     "output_type": "execute_result"
    }
   ],
   "source": [
    "len(data['post_tokenized'][2])"
   ]
  },
  {
   "cell_type": "code",
   "execution_count": 120,
   "id": "67144904-e680-4125-a0c2-18b0ee2f34b9",
   "metadata": {},
   "outputs": [
    {
     "name": "stdout",
     "output_type": "stream",
     "text": [
      "['i', 'always', 'eat', 'dessert', 'before', 'dinner', 'at', 'a', 'restaurantwhen', 'at', 'a', 'restaurant', 'waiting', 'staff', 'always', 'find', 'it', 'weird', 'when', 'i', 'order', 'the', 'dessert', 'before', 'the', 'appetizer', 'and', 'the', 'main', 'course', 'they', 'ask', 'oh', 'is', 'that', 'all', 'that', 'you', 're', 'having', 'i', 'm', 'like', 'no', 'i', 'just', 'want', 'my', 'cheesecake', 'first', 'please', 'i', 'have', 'to', 'convince', 'them', 'that', 'i', 'm', 'just', 'a', 'dessert', 'first', 'kinda', 'guy', 'i', 'feel', 'like', 'the', 'main', 'course', 'is', 'much', 'more', 'enjoyable', 'when', 'your', 'dopamine', 'levels', 'are', 'boosted']\n"
     ]
    }
   ],
   "source": [
    "print(data['post_tokenized'][2])"
   ]
  },
  {
   "cell_type": "code",
   "execution_count": 121,
   "id": "bcfeee5b-d371-4b7f-9e8f-e1fb0bfbe7e3",
   "metadata": {},
   "outputs": [],
   "source": [
    "# remove stopwords\n",
    "def remove_stopwords(words):\n",
    "    new_words = [token for token in words if token not in stopwords.words('english')]\n",
    "    return new_words"
   ]
  },
  {
   "cell_type": "code",
   "execution_count": 122,
   "id": "daae9cf3-9932-49b6-ac77-414ccce3960d",
   "metadata": {},
   "outputs": [],
   "source": [
    "data['post_tokenized'] = data['post_tokenized'].apply(remove_stopwords)"
   ]
  },
  {
   "cell_type": "code",
   "execution_count": 123,
   "id": "eb5fe596-e6c8-4733-b9f2-8a82a0aa44f7",
   "metadata": {
    "scrolled": true
   },
   "outputs": [
    {
     "data": {
      "text/plain": [
       "['always',\n",
       " 'eat',\n",
       " 'dessert',\n",
       " 'dinner',\n",
       " 'restaurantwhen',\n",
       " 'restaurant',\n",
       " 'waiting',\n",
       " 'staff',\n",
       " 'always',\n",
       " 'find',\n",
       " 'weird',\n",
       " 'order',\n",
       " 'dessert',\n",
       " 'appetizer',\n",
       " 'main',\n",
       " 'course',\n",
       " 'ask',\n",
       " 'oh',\n",
       " 'like',\n",
       " 'want',\n",
       " 'cheesecake',\n",
       " 'first',\n",
       " 'please',\n",
       " 'convince',\n",
       " 'dessert',\n",
       " 'first',\n",
       " 'kinda',\n",
       " 'guy',\n",
       " 'feel',\n",
       " 'like',\n",
       " 'main',\n",
       " 'course',\n",
       " 'much',\n",
       " 'enjoyable',\n",
       " 'dopamine',\n",
       " 'levels',\n",
       " 'boosted']"
      ]
     },
     "execution_count": 123,
     "metadata": {},
     "output_type": "execute_result"
    }
   ],
   "source": [
    "data['post_tokenized'][2]"
   ]
  },
  {
   "cell_type": "markdown",
   "id": "3e22da31-05a8-45da-a0b4-ad69cbcfa005",
   "metadata": {},
   "source": [
    "#### Text lemmatization"
   ]
  },
  {
   "cell_type": "code",
   "execution_count": 124,
   "id": "42272b54-ac98-46b9-96fd-6d42a1c0774b",
   "metadata": {},
   "outputs": [],
   "source": [
    "# Parts-of-speech tagging \n",
    "\n",
    "#https://stackoverflow.com/questions/15586721/wordnet-lemmatization-and-pos-tagging-in-python\n",
    "from nltk.corpus import wordnet\n",
    "\n",
    "def get_wordnet_pos(treebank_tag):\n",
    "\n",
    "    if treebank_tag.startswith('J'):\n",
    "        return wordnet.ADJ\n",
    "    elif treebank_tag.startswith('V'):\n",
    "        return wordnet.VERB\n",
    "    elif treebank_tag.startswith('N'):\n",
    "        return wordnet.NOUN\n",
    "    elif treebank_tag.startswith('R'):\n",
    "        return wordnet.ADV\n",
    "    else:\n",
    "        return ''"
   ]
  },
  {
   "cell_type": "code",
   "execution_count": 125,
   "id": "e2841451-9082-48a3-a62d-dc89ba224d60",
   "metadata": {},
   "outputs": [],
   "source": [
    "wn = WordNetLemmatizer()\n",
    "def lemmatize_list(lwords):\n",
    "    tags = nltk.pos_tag(lwords)\n",
    "    tagged = [(word, get_wordnet_pos(tag)) for (word, tag) in tags]\n",
    "    lemmatized_words = [wn.lemmatize(word, tag) if tag != '' else word for (word, tag) in tagged]\n",
    "    return lemmatized_words"
   ]
  },
  {
   "cell_type": "code",
   "execution_count": 126,
   "id": "5503033b-67d7-482a-ac7d-3b2e24296f67",
   "metadata": {},
   "outputs": [],
   "source": [
    "# lemmatizing the text\n",
    "data['post_lemmatized'] = data['post_tokenized'].apply(lemmatize_list)"
   ]
  },
  {
   "cell_type": "code",
   "execution_count": 127,
   "id": "9f751b8c-e33e-4155-875a-c10a401e7959",
   "metadata": {},
   "outputs": [
    {
     "data": {
      "text/plain": [
       "0       [middle, age, guy, buy, sport, car, mid, life,...\n",
       "1       [brilliant, use, english, language, refuse, te...\n",
       "2       [always, eat, dessert, dinner, restaurantwhen,...\n",
       "3       [illegal, company, list, entry, level, job, re...\n",
       "4       [news, dry, recitation, fact, opinion, intend,...\n",
       "                              ...                        \n",
       "3579    [rough, st, semesteri, finish, first, semester...\n",
       "3580    [many, flashcard, make, study, exam, take, try...\n",
       "3581    [grade, receive, first, ever, uni, college, es...\n",
       "3582    [mental, health, kill, semester, campus, resou...\n",
       "3583    [mess, please, help, maintain, attendance, int...\n",
       "Name: post_lemmatized, Length: 3584, dtype: object"
      ]
     },
     "execution_count": 127,
     "metadata": {},
     "output_type": "execute_result"
    }
   ],
   "source": [
    "data['post_lemmatized']"
   ]
  },
  {
   "cell_type": "code",
   "execution_count": 128,
   "id": "d0556a32-c92b-4275-ad3f-447f0d2558c4",
   "metadata": {},
   "outputs": [
    {
     "data": {
      "text/html": [
       "<div>\n",
       "<style scoped>\n",
       "    .dataframe tbody tr th:only-of-type {\n",
       "        vertical-align: middle;\n",
       "    }\n",
       "\n",
       "    .dataframe tbody tr th {\n",
       "        vertical-align: top;\n",
       "    }\n",
       "\n",
       "    .dataframe thead th {\n",
       "        text-align: right;\n",
       "    }\n",
       "</style>\n",
       "<table border=\"1\" class=\"dataframe\">\n",
       "  <thead>\n",
       "    <tr style=\"text-align: right;\">\n",
       "      <th></th>\n",
       "      <th>post</th>\n",
       "      <th>sent_score</th>\n",
       "      <th>post_nochars</th>\n",
       "      <th>post_tokenized</th>\n",
       "      <th>post_lemmatized</th>\n",
       "      <th>joined_words</th>\n",
       "    </tr>\n",
       "  </thead>\n",
       "  <tbody>\n",
       "    <tr>\n",
       "      <th>0</th>\n",
       "      <td>middle aged guys don't buy sports cars because...</td>\n",
       "      <td>1</td>\n",
       "      <td>middle aged guys don't buy sports cars because...</td>\n",
       "      <td>[middle, aged, guys, buy, sports, cars, mid, l...</td>\n",
       "      <td>[middle, age, guy, buy, sport, car, mid, life,...</td>\n",
       "      <td>middle age guy buy sport car mid life crisis f...</td>\n",
       "    </tr>\n",
       "    <tr>\n",
       "      <th>1</th>\n",
       "      <td>\"y'all\" is a brilliant use of the english lang...</td>\n",
       "      <td>1</td>\n",
       "      <td>\"y'all\" is a brilliant use of the english lang...</td>\n",
       "      <td>[brilliant, use, english, language, refuse, to...</td>\n",
       "      <td>[brilliant, use, english, language, refuse, te...</td>\n",
       "      <td>brilliant use english language refuse tell oth...</td>\n",
       "    </tr>\n",
       "    <tr>\n",
       "      <th>2</th>\n",
       "      <td>i always eat dessert before dinner at a restau...</td>\n",
       "      <td>1</td>\n",
       "      <td>i always eat dessert before dinner at a restau...</td>\n",
       "      <td>[always, eat, dessert, dinner, restaurantwhen,...</td>\n",
       "      <td>[always, eat, dessert, dinner, restaurantwhen,...</td>\n",
       "      <td>always eat dessert dinner restaurantwhen resta...</td>\n",
       "    </tr>\n",
       "    <tr>\n",
       "      <th>3</th>\n",
       "      <td>it should be illegal for a company to list an ...</td>\n",
       "      <td>1</td>\n",
       "      <td>it should be illegal for a company to list an ...</td>\n",
       "      <td>[illegal, company, list, entry, level, job, re...</td>\n",
       "      <td>[illegal, company, list, entry, level, job, re...</td>\n",
       "      <td>illegal company list entry level job require y...</td>\n",
       "    </tr>\n",
       "    <tr>\n",
       "      <th>4</th>\n",
       "      <td>news should be a dry recitation of facts. if i...</td>\n",
       "      <td>1</td>\n",
       "      <td>news should be a dry recitation of facts. if i...</td>\n",
       "      <td>[news, dry, recitation, facts, opinion, intend...</td>\n",
       "      <td>[news, dry, recitation, fact, opinion, intend,...</td>\n",
       "      <td>news dry recitation fact opinion intend stir e...</td>\n",
       "    </tr>\n",
       "  </tbody>\n",
       "</table>\n",
       "</div>"
      ],
      "text/plain": [
       "                                                post  sent_score  \\\n",
       "0  middle aged guys don't buy sports cars because...           1   \n",
       "1  \"y'all\" is a brilliant use of the english lang...           1   \n",
       "2  i always eat dessert before dinner at a restau...           1   \n",
       "3  it should be illegal for a company to list an ...           1   \n",
       "4  news should be a dry recitation of facts. if i...           1   \n",
       "\n",
       "                                        post_nochars  \\\n",
       "0  middle aged guys don't buy sports cars because...   \n",
       "1  \"y'all\" is a brilliant use of the english lang...   \n",
       "2  i always eat dessert before dinner at a restau...   \n",
       "3  it should be illegal for a company to list an ...   \n",
       "4  news should be a dry recitation of facts. if i...   \n",
       "\n",
       "                                      post_tokenized  \\\n",
       "0  [middle, aged, guys, buy, sports, cars, mid, l...   \n",
       "1  [brilliant, use, english, language, refuse, to...   \n",
       "2  [always, eat, dessert, dinner, restaurantwhen,...   \n",
       "3  [illegal, company, list, entry, level, job, re...   \n",
       "4  [news, dry, recitation, facts, opinion, intend...   \n",
       "\n",
       "                                     post_lemmatized  \\\n",
       "0  [middle, age, guy, buy, sport, car, mid, life,...   \n",
       "1  [brilliant, use, english, language, refuse, te...   \n",
       "2  [always, eat, dessert, dinner, restaurantwhen,...   \n",
       "3  [illegal, company, list, entry, level, job, re...   \n",
       "4  [news, dry, recitation, fact, opinion, intend,...   \n",
       "\n",
       "                                        joined_words  \n",
       "0  middle age guy buy sport car mid life crisis f...  \n",
       "1  brilliant use english language refuse tell oth...  \n",
       "2  always eat dessert dinner restaurantwhen resta...  \n",
       "3  illegal company list entry level job require y...  \n",
       "4  news dry recitation fact opinion intend stir e...  "
      ]
     },
     "execution_count": 128,
     "metadata": {},
     "output_type": "execute_result"
    }
   ],
   "source": [
    "data['joined_words'] = data[\"post_lemmatized\"].map(' '.join)\n",
    "data.head(5)"
   ]
  },
  {
   "cell_type": "code",
   "execution_count": 129,
   "id": "6a8eb651-51b5-47e9-8fc1-865e324c5f8b",
   "metadata": {},
   "outputs": [],
   "source": [
    "# drop redundant columns\n",
    "data.drop(columns = ['post_lemmatized', 'post_nochars', 'post_tokenized','post_tokenized'], inplace = True)"
   ]
  },
  {
   "cell_type": "code",
   "execution_count": 130,
   "id": "ba4ca3e0-51f8-4580-b6b9-d31ac0295231",
   "metadata": {},
   "outputs": [],
   "source": [
    "# reorganize columns\n",
    "data = data.reindex(columns=['sent_score', 'post', 'joined_words'])"
   ]
  },
  {
   "cell_type": "code",
   "execution_count": 131,
   "id": "ce6422c8-369e-4bce-913d-bf3d767b9afc",
   "metadata": {},
   "outputs": [
    {
     "data": {
      "text/html": [
       "<div>\n",
       "<style scoped>\n",
       "    .dataframe tbody tr th:only-of-type {\n",
       "        vertical-align: middle;\n",
       "    }\n",
       "\n",
       "    .dataframe tbody tr th {\n",
       "        vertical-align: top;\n",
       "    }\n",
       "\n",
       "    .dataframe thead th {\n",
       "        text-align: right;\n",
       "    }\n",
       "</style>\n",
       "<table border=\"1\" class=\"dataframe\">\n",
       "  <thead>\n",
       "    <tr style=\"text-align: right;\">\n",
       "      <th></th>\n",
       "      <th>sent_score</th>\n",
       "      <th>post</th>\n",
       "      <th>joined_words</th>\n",
       "    </tr>\n",
       "  </thead>\n",
       "  <tbody>\n",
       "    <tr>\n",
       "      <th>0</th>\n",
       "      <td>1</td>\n",
       "      <td>middle aged guys don't buy sports cars because...</td>\n",
       "      <td>middle age guy buy sport car mid life crisis f...</td>\n",
       "    </tr>\n",
       "    <tr>\n",
       "      <th>1</th>\n",
       "      <td>1</td>\n",
       "      <td>\"y'all\" is a brilliant use of the english lang...</td>\n",
       "      <td>brilliant use english language refuse tell oth...</td>\n",
       "    </tr>\n",
       "    <tr>\n",
       "      <th>2</th>\n",
       "      <td>1</td>\n",
       "      <td>i always eat dessert before dinner at a restau...</td>\n",
       "      <td>always eat dessert dinner restaurantwhen resta...</td>\n",
       "    </tr>\n",
       "  </tbody>\n",
       "</table>\n",
       "</div>"
      ],
      "text/plain": [
       "   sent_score                                               post  \\\n",
       "0           1  middle aged guys don't buy sports cars because...   \n",
       "1           1  \"y'all\" is a brilliant use of the english lang...   \n",
       "2           1  i always eat dessert before dinner at a restau...   \n",
       "\n",
       "                                        joined_words  \n",
       "0  middle age guy buy sport car mid life crisis f...  \n",
       "1  brilliant use english language refuse tell oth...  \n",
       "2  always eat dessert dinner restaurantwhen resta...  "
      ]
     },
     "execution_count": 131,
     "metadata": {},
     "output_type": "execute_result"
    }
   ],
   "source": [
    "data.head(3)"
   ]
  },
  {
   "cell_type": "code",
   "execution_count": 132,
   "id": "9a162137-ed73-4e28-b4ad-293b302bb651",
   "metadata": {},
   "outputs": [],
   "source": [
    "# create new columns for post_lengths before and after lemmatization\n",
    "data['post_length'] = data['post'].str.len()\n",
    "data['joined_length'] = data['joined_words'].str.len()"
   ]
  },
  {
   "cell_type": "code",
   "execution_count": 133,
   "id": "c1bf1b0b-113c-4e3a-a2d5-15c526af615b",
   "metadata": {},
   "outputs": [
    {
     "data": {
      "text/html": [
       "<div>\n",
       "<style scoped>\n",
       "    .dataframe tbody tr th:only-of-type {\n",
       "        vertical-align: middle;\n",
       "    }\n",
       "\n",
       "    .dataframe tbody tr th {\n",
       "        vertical-align: top;\n",
       "    }\n",
       "\n",
       "    .dataframe thead th {\n",
       "        text-align: right;\n",
       "    }\n",
       "</style>\n",
       "<table border=\"1\" class=\"dataframe\">\n",
       "  <thead>\n",
       "    <tr style=\"text-align: right;\">\n",
       "      <th></th>\n",
       "      <th>sent_score</th>\n",
       "      <th>post</th>\n",
       "      <th>joined_words</th>\n",
       "      <th>post_length</th>\n",
       "      <th>joined_length</th>\n",
       "    </tr>\n",
       "  </thead>\n",
       "  <tbody>\n",
       "    <tr>\n",
       "      <th>0</th>\n",
       "      <td>1</td>\n",
       "      <td>middle aged guys don't buy sports cars because...</td>\n",
       "      <td>middle age guy buy sport car mid life crisis f...</td>\n",
       "      <td>1646</td>\n",
       "      <td>938</td>\n",
       "    </tr>\n",
       "    <tr>\n",
       "      <th>1</th>\n",
       "      <td>1</td>\n",
       "      <td>\"y'all\" is a brilliant use of the english lang...</td>\n",
       "      <td>brilliant use english language refuse tell oth...</td>\n",
       "      <td>885</td>\n",
       "      <td>452</td>\n",
       "    </tr>\n",
       "  </tbody>\n",
       "</table>\n",
       "</div>"
      ],
      "text/plain": [
       "   sent_score                                               post  \\\n",
       "0           1  middle aged guys don't buy sports cars because...   \n",
       "1           1  \"y'all\" is a brilliant use of the english lang...   \n",
       "\n",
       "                                        joined_words  post_length  \\\n",
       "0  middle age guy buy sport car mid life crisis f...         1646   \n",
       "1  brilliant use english language refuse tell oth...          885   \n",
       "\n",
       "   joined_length  \n",
       "0            938  \n",
       "1            452  "
      ]
     },
     "execution_count": 133,
     "metadata": {},
     "output_type": "execute_result"
    }
   ],
   "source": [
    "data.head(2)"
   ]
  },
  {
   "cell_type": "code",
   "execution_count": 134,
   "id": "57cba2fa-a5fb-4b2f-ab8e-4b2902b3b95c",
   "metadata": {},
   "outputs": [],
   "source": [
    "data['pst_wrd_cnt'] = data['post'].str.split().str.len()"
   ]
  },
  {
   "cell_type": "code",
   "execution_count": 135,
   "id": "098230e6-8b84-4de6-8a88-9d0469360ea9",
   "metadata": {},
   "outputs": [],
   "source": [
    "data['jnd_wrd_cnt'] = data['joined_words'].str.split().str.len()"
   ]
  },
  {
   "cell_type": "code",
   "execution_count": 156,
   "id": "382c7adf-2941-408e-bb0b-0c2a184590ef",
   "metadata": {},
   "outputs": [
    {
     "data": {
      "text/html": [
       "<div>\n",
       "<style scoped>\n",
       "    .dataframe tbody tr th:only-of-type {\n",
       "        vertical-align: middle;\n",
       "    }\n",
       "\n",
       "    .dataframe tbody tr th {\n",
       "        vertical-align: top;\n",
       "    }\n",
       "\n",
       "    .dataframe thead th {\n",
       "        text-align: right;\n",
       "    }\n",
       "</style>\n",
       "<table border=\"1\" class=\"dataframe\">\n",
       "  <thead>\n",
       "    <tr style=\"text-align: right;\">\n",
       "      <th></th>\n",
       "      <th>sent_score</th>\n",
       "      <th>post</th>\n",
       "      <th>joined_words</th>\n",
       "      <th>post_length</th>\n",
       "      <th>joined_length</th>\n",
       "      <th>pst_wrd_cnt</th>\n",
       "      <th>jnd_wrd_cnt</th>\n",
       "    </tr>\n",
       "  </thead>\n",
       "  <tbody>\n",
       "    <tr>\n",
       "      <th>0</th>\n",
       "      <td>1</td>\n",
       "      <td>middle aged guys don't buy sports cars because...</td>\n",
       "      <td>middle age guy buy sport car mid life crisis f...</td>\n",
       "      <td>1646</td>\n",
       "      <td>938</td>\n",
       "      <td>310</td>\n",
       "      <td>145</td>\n",
       "    </tr>\n",
       "    <tr>\n",
       "      <th>1</th>\n",
       "      <td>1</td>\n",
       "      <td>\"y'all\" is a brilliant use of the english lang...</td>\n",
       "      <td>brilliant use english language refuse tell oth...</td>\n",
       "      <td>885</td>\n",
       "      <td>452</td>\n",
       "      <td>179</td>\n",
       "      <td>75</td>\n",
       "    </tr>\n",
       "  </tbody>\n",
       "</table>\n",
       "</div>"
      ],
      "text/plain": [
       "   sent_score                                               post  \\\n",
       "0           1  middle aged guys don't buy sports cars because...   \n",
       "1           1  \"y'all\" is a brilliant use of the english lang...   \n",
       "\n",
       "                                        joined_words  post_length  \\\n",
       "0  middle age guy buy sport car mid life crisis f...         1646   \n",
       "1  brilliant use english language refuse tell oth...          885   \n",
       "\n",
       "   joined_length  pst_wrd_cnt  jnd_wrd_cnt  \n",
       "0            938          310          145  \n",
       "1            452          179           75  "
      ]
     },
     "execution_count": 156,
     "metadata": {},
     "output_type": "execute_result"
    }
   ],
   "source": [
    "data.head(2)"
   ]
  },
  {
   "cell_type": "code",
   "execution_count": 159,
   "id": "20b0b7cf-0734-48c5-9516-8a54f0027c3a",
   "metadata": {},
   "outputs": [
    {
     "data": {
      "text/plain": [
       "590194"
      ]
     },
     "execution_count": 159,
     "metadata": {},
     "output_type": "execute_result"
    }
   ],
   "source": [
    "data['pst_wrd_cnt'].sum()"
   ]
  },
  {
   "cell_type": "code",
   "execution_count": 158,
   "id": "75e49e8f-87b0-4fb3-9596-d33d1684f835",
   "metadata": {},
   "outputs": [
    {
     "data": {
      "text/plain": [
       "285079"
      ]
     },
     "execution_count": 158,
     "metadata": {},
     "output_type": "execute_result"
    }
   ],
   "source": [
    "data['jnd_wrd_cnt'].sum()"
   ]
  },
  {
   "cell_type": "code",
   "execution_count": 137,
   "id": "0ea116e5-151d-48ad-a458-ce753cf873c5",
   "metadata": {},
   "outputs": [
    {
     "data": {
      "image/png": "[encoded data removed]",
      "text/plain": [
       "<Figure size 1000x400 with 2 Axes>"
      ]
     },
     "metadata": {},
     "output_type": "display_data"
    }
   ],
   "source": [
    "# Distribution of words in each post before and after lemmatization\n",
    "\n",
    "fig, (axes) = plt.subplots(1,2, figsize = (10, 4))\n",
    "axes[0].hist(data['pst_wrd_cnt'], color = 'teal', bins = 100)\n",
    "axes[1].hist(data['jnd_wrd_cnt'], color = 'maroon', bins = 100)\n",
    "\n",
    "axes[0].set_xlabel('Number of words before Lemmatization')\n",
    "axes[0].set_ylabel('Frequency')\n",
    "axes[1].set_xlabel('Number of words after Lemmatization')\n",
    "fig.suptitle(' Post length distribution', weight ='bold', fontsize = 14);"
   ]
  },
  {
   "cell_type": "code",
   "execution_count": 138,
   "id": "1adc2c05-8508-48ea-aff9-c61835ed3c17",
   "metadata": {},
   "outputs": [
    {
     "data": {
      "text/html": [
       "<div>\n",
       "<style scoped>\n",
       "    .dataframe tbody tr th:only-of-type {\n",
       "        vertical-align: middle;\n",
       "    }\n",
       "\n",
       "    .dataframe tbody tr th {\n",
       "        vertical-align: top;\n",
       "    }\n",
       "\n",
       "    .dataframe thead th {\n",
       "        text-align: right;\n",
       "    }\n",
       "</style>\n",
       "<table border=\"1\" class=\"dataframe\">\n",
       "  <thead>\n",
       "    <tr style=\"text-align: right;\">\n",
       "      <th></th>\n",
       "      <th>post</th>\n",
       "      <th>joined_words</th>\n",
       "      <th>post_length</th>\n",
       "      <th>joined_length</th>\n",
       "      <th>pst_wrd_cnt</th>\n",
       "      <th>jnd_wrd_cnt</th>\n",
       "    </tr>\n",
       "    <tr>\n",
       "      <th>sent_score</th>\n",
       "      <th></th>\n",
       "      <th></th>\n",
       "      <th></th>\n",
       "      <th></th>\n",
       "      <th></th>\n",
       "      <th></th>\n",
       "    </tr>\n",
       "  </thead>\n",
       "  <tbody>\n",
       "    <tr>\n",
       "      <th>0</th>\n",
       "      <td>1670</td>\n",
       "      <td>1670</td>\n",
       "      <td>1670</td>\n",
       "      <td>1670</td>\n",
       "      <td>1670</td>\n",
       "      <td>1670</td>\n",
       "    </tr>\n",
       "    <tr>\n",
       "      <th>1</th>\n",
       "      <td>1914</td>\n",
       "      <td>1914</td>\n",
       "      <td>1914</td>\n",
       "      <td>1914</td>\n",
       "      <td>1914</td>\n",
       "      <td>1914</td>\n",
       "    </tr>\n",
       "  </tbody>\n",
       "</table>\n",
       "</div>"
      ],
      "text/plain": [
       "            post  joined_words  post_length  joined_length  pst_wrd_cnt  \\\n",
       "sent_score                                                                \n",
       "0           1670          1670         1670           1670         1670   \n",
       "1           1914          1914         1914           1914         1914   \n",
       "\n",
       "            jnd_wrd_cnt  \n",
       "sent_score               \n",
       "0                  1670  \n",
       "1                  1914  "
      ]
     },
     "execution_count": 138,
     "metadata": {},
     "output_type": "execute_result"
    }
   ],
   "source": [
    "grouped_posts = data.groupby('sent_score')\n",
    "grouped_posts.count()"
   ]
  },
  {
   "cell_type": "code",
   "execution_count": 139,
   "id": "cd844eca-1529-4234-a01c-658406fb4b7d",
   "metadata": {},
   "outputs": [
    {
     "data": {
      "image/png": "[encoded data removed]",
      "text/plain": [
       "<Figure size 400x400 with 1 Axes>"
      ]
     },
     "metadata": {},
     "output_type": "display_data"
    }
   ],
   "source": [
    "plt.figure(figsize = (4,4))\n",
    "sns.countplot(x = 'sent_score', data = data, width = 0.5)\n",
    "plt.xlabel('sentiment score')\n",
    "plt.ylabel('posts, number')\n",
    "plt.title('Sample size', weight ='bold');"
   ]
  },
  {
   "cell_type": "code",
   "execution_count": 140,
   "id": "4d882ac1-06c2-4ace-9a92-23e595dac1d2",
   "metadata": {},
   "outputs": [],
   "source": [
    "# Descriptive stat on word count before and after lemmatization\n",
    "stat = data[['pst_wrd_cnt', 'jnd_wrd_cnt']].describe().round(2)"
   ]
  },
  {
   "cell_type": "code",
   "execution_count": 141,
   "id": "bbde7f74-907e-4ba3-914d-104ed4425abe",
   "metadata": {},
   "outputs": [
    {
     "data": {
      "text/html": [
       "<div>\n",
       "<style scoped>\n",
       "    .dataframe tbody tr th:only-of-type {\n",
       "        vertical-align: middle;\n",
       "    }\n",
       "\n",
       "    .dataframe tbody tr th {\n",
       "        vertical-align: top;\n",
       "    }\n",
       "\n",
       "    .dataframe thead th {\n",
       "        text-align: right;\n",
       "    }\n",
       "</style>\n",
       "<table border=\"1\" class=\"dataframe\">\n",
       "  <thead>\n",
       "    <tr style=\"text-align: right;\">\n",
       "      <th></th>\n",
       "      <th>pst_wrd_cnt</th>\n",
       "      <th>jnd_wrd_cnt</th>\n",
       "    </tr>\n",
       "  </thead>\n",
       "  <tbody>\n",
       "    <tr>\n",
       "      <th>count</th>\n",
       "      <td>3584.00</td>\n",
       "      <td>3584.00</td>\n",
       "    </tr>\n",
       "    <tr>\n",
       "      <th>mean</th>\n",
       "      <td>164.67</td>\n",
       "      <td>79.54</td>\n",
       "    </tr>\n",
       "    <tr>\n",
       "      <th>std</th>\n",
       "      <td>148.26</td>\n",
       "      <td>72.60</td>\n",
       "    </tr>\n",
       "    <tr>\n",
       "      <th>min</th>\n",
       "      <td>5.00</td>\n",
       "      <td>2.00</td>\n",
       "    </tr>\n",
       "    <tr>\n",
       "      <th>25%</th>\n",
       "      <td>76.00</td>\n",
       "      <td>37.00</td>\n",
       "    </tr>\n",
       "    <tr>\n",
       "      <th>50%</th>\n",
       "      <td>125.00</td>\n",
       "      <td>61.00</td>\n",
       "    </tr>\n",
       "    <tr>\n",
       "      <th>75%</th>\n",
       "      <td>204.00</td>\n",
       "      <td>97.00</td>\n",
       "    </tr>\n",
       "    <tr>\n",
       "      <th>max</th>\n",
       "      <td>2044.00</td>\n",
       "      <td>1352.00</td>\n",
       "    </tr>\n",
       "  </tbody>\n",
       "</table>\n",
       "</div>"
      ],
      "text/plain": [
       "       pst_wrd_cnt  jnd_wrd_cnt\n",
       "count      3584.00      3584.00\n",
       "mean        164.67        79.54\n",
       "std         148.26        72.60\n",
       "min           5.00         2.00\n",
       "25%          76.00        37.00\n",
       "50%         125.00        61.00\n",
       "75%         204.00        97.00\n",
       "max        2044.00      1352.00"
      ]
     },
     "execution_count": 141,
     "metadata": {},
     "output_type": "execute_result"
    }
   ],
   "source": [
    "stat"
   ]
  },
  {
   "cell_type": "markdown",
   "id": "d57c2bec-885d-4604-b8bc-781c2021a40b",
   "metadata": {},
   "source": [
    "### EDA on Word Counts"
   ]
  },
  {
   "cell_type": "code",
   "execution_count": 142,
   "id": "bf103b6f-5f91-4615-b8b7-ca349cbe143b",
   "metadata": {},
   "outputs": [],
   "source": [
    "fre_words = data['joined_words']"
   ]
  },
  {
   "cell_type": "code",
   "execution_count": 143,
   "id": "09746e3f-93d8-408e-850c-1bd127136434",
   "metadata": {},
   "outputs": [
    {
     "data": {
      "text/html": [
       "<style>#sk-container-id-1 {color: black;background-color: white;}#sk-container-id-1 pre{padding: 0;}#sk-container-id-1 div.sk-toggleable {background-color: white;}#sk-container-id-1 label.sk-toggleable__label {cursor: pointer;display: block;width: 100%;margin-bottom: 0;padding: 0.3em;box-sizing: border-box;text-align: center;}#sk-container-id-1 label.sk-toggleable__label-arrow:before {content: \"▸\";float: left;margin-right: 0.25em;color: #696969;}#sk-container-id-1 label.sk-toggleable__label-arrow:hover:before {color: black;}#sk-container-id-1 div.sk-estimator:hover label.sk-toggleable__label-arrow:before {color: black;}#sk-container-id-1 div.sk-toggleable__content {max-height: 0;max-width: 0;overflow: hidden;text-align: left;background-color: #f0f8ff;}#sk-container-id-1 div.sk-toggleable__content pre {margin: 0.2em;color: black;border-radius: 0.25em;background-color: #f0f8ff;}#sk-container-id-1 input.sk-toggleable__control:checked~div.sk-toggleable__content {max-height: 200px;max-width: 100%;overflow: auto;}#sk-container-id-1 input.sk-toggleable__control:checked~label.sk-toggleable__label-arrow:before {content: \"▾\";}#sk-container-id-1 div.sk-estimator input.sk-toggleable__control:checked~label.sk-toggleable__label {background-color: #d4ebff;}#sk-container-id-1 div.sk-label input.sk-toggleable__control:checked~label.sk-toggleable__label {background-color: #d4ebff;}#sk-container-id-1 input.sk-hidden--visually {border: 0;clip: rect(1px 1px 1px 1px);clip: rect(1px, 1px, 1px, 1px);height: 1px;margin: -1px;overflow: hidden;padding: 0;position: absolute;width: 1px;}#sk-container-id-1 div.sk-estimator {font-family: monospace;background-color: #f0f8ff;border: 1px dotted black;border-radius: 0.25em;box-sizing: border-box;margin-bottom: 0.5em;}#sk-container-id-1 div.sk-estimator:hover {background-color: #d4ebff;}#sk-container-id-1 div.sk-parallel-item::after {content: \"\";width: 100%;border-bottom: 1px solid gray;flex-grow: 1;}#sk-container-id-1 div.sk-label:hover label.sk-toggleable__label {background-color: #d4ebff;}#sk-container-id-1 div.sk-serial::before {content: \"\";position: absolute;border-left: 1px solid gray;box-sizing: border-box;top: 0;bottom: 0;left: 50%;z-index: 0;}#sk-container-id-1 div.sk-serial {display: flex;flex-direction: column;align-items: center;background-color: white;padding-right: 0.2em;padding-left: 0.2em;position: relative;}#sk-container-id-1 div.sk-item {position: relative;z-index: 1;}#sk-container-id-1 div.sk-parallel {display: flex;align-items: stretch;justify-content: center;background-color: white;position: relative;}#sk-container-id-1 div.sk-item::before, #sk-container-id-1 div.sk-parallel-item::before {content: \"\";position: absolute;border-left: 1px solid gray;box-sizing: border-box;top: 0;bottom: 0;left: 50%;z-index: -1;}#sk-container-id-1 div.sk-parallel-item {display: flex;flex-direction: column;z-index: 1;position: relative;background-color: white;}#sk-container-id-1 div.sk-parallel-item:first-child::after {align-self: flex-end;width: 50%;}#sk-container-id-1 div.sk-parallel-item:last-child::after {align-self: flex-start;width: 50%;}#sk-container-id-1 div.sk-parallel-item:only-child::after {width: 0;}#sk-container-id-1 div.sk-dashed-wrapped {border: 1px dashed gray;margin: 0 0.4em 0.5em 0.4em;box-sizing: border-box;padding-bottom: 0.4em;background-color: white;}#sk-container-id-1 div.sk-label label {font-family: monospace;font-weight: bold;display: inline-block;line-height: 1.2em;}#sk-container-id-1 div.sk-label-container {text-align: center;}#sk-container-id-1 div.sk-container {/* jupyter's `normalize.less` sets `[hidden] { display: none; }` but bootstrap.min.css set `[hidden] { display: none !important; }` so we also need the `!important` here to be able to override the default hidden behavior on the sphinx rendered scikit-learn.org. See: https://github.com/scikit-learn/scikit-learn/issues/21755 */display: inline-block !important;position: relative;}#sk-container-id-1 div.sk-text-repr-fallback {display: none;}</style><div id=\"sk-container-id-1\" class=\"sk-top-container\"><div class=\"sk-text-repr-fallback\"><pre>CountVectorizer()</pre><b>In a Jupyter environment, please rerun this cell to show the HTML representation or trust the notebook. <br />On GitHub, the HTML representation is unable to render, please try loading this page with nbviewer.org.</b></div><div class=\"sk-container\" hidden><div class=\"sk-item\"><div class=\"sk-estimator sk-toggleable\"><input class=\"sk-toggleable__control sk-hidden--visually\" id=\"sk-estimator-id-1\" type=\"checkbox\" checked><label for=\"sk-estimator-id-1\" class=\"sk-toggleable__label sk-toggleable__label-arrow\">CountVectorizer</label><div class=\"sk-toggleable__content\"><pre>CountVectorizer()</pre></div></div></div></div></div>"
      ],
      "text/plain": [
       "CountVectorizer()"
      ]
     },
     "execution_count": 143,
     "metadata": {},
     "output_type": "execute_result"
    }
   ],
   "source": [
    "#instantiate a CounterVectorizer\n",
    "cvec = CountVectorizer()\n",
    "cvec.fit(fre_words)"
   ]
  },
  {
   "cell_type": "code",
   "execution_count": 144,
   "id": "081bb91e-37f7-44c7-b2c8-087c1b93a6f6",
   "metadata": {},
   "outputs": [],
   "source": [
    "fre_words_vecs = cvec.fit_transform(fre_words)"
   ]
  },
  {
   "cell_type": "code",
   "execution_count": 145,
   "id": "de430bf0-6e9b-491b-a619-45e77d79b90d",
   "metadata": {},
   "outputs": [
    {
     "data": {
      "text/plain": [
       "(<3584x17255 sparse matrix of type '<class 'numpy.int64'>'\n",
       " \twith 208228 stored elements in Compressed Sparse Row format>,\n",
       " 208228)"
      ]
     },
     "execution_count": 145,
     "metadata": {},
     "output_type": "execute_result"
    }
   ],
   "source": [
    "fre_words_vecs, fre_words_vecs.size"
   ]
  },
  {
   "cell_type": "code",
   "execution_count": 146,
   "id": "86a2ac38-803a-43ff-9a45-f4df529400c8",
   "metadata": {},
   "outputs": [],
   "source": [
    "fre_words_vec_features = cvec.get_feature_names_out()"
   ]
  },
  {
   "cell_type": "code",
   "execution_count": 147,
   "id": "d79bbe00-9d7e-41ac-a66f-543daa4f32be",
   "metadata": {},
   "outputs": [
    {
     "data": {
      "text/plain": [
       "array(['abnormal', 'abolish', 'abolished', 'abolishednow',\n",
       "       'abolishedthat', 'abomination', 'abominations', 'abort',\n",
       "       'abortion', 'abound', 'abour', 'abouti', 'aboutpart', 'aboutpoor',\n",
       "       'abouts', 'abrasive', 'abrasiveness', 'abroad', 'abruptly', 'abs',\n",
       "       'absence', 'absences', 'absent', 'absentia', 'absolute'],\n",
       "      dtype=object)"
      ]
     },
     "execution_count": 147,
     "metadata": {},
     "output_type": "execute_result"
    }
   ],
   "source": [
    "fre_words_vec_features[25:50]"
   ]
  },
  {
   "cell_type": "code",
   "execution_count": 148,
   "id": "47630ca6-ad14-4797-9cfd-22b59d0e366c",
   "metadata": {},
   "outputs": [],
   "source": [
    "data_words_df = pd.DataFrame(fre_words_vecs.toarray(),\n",
    "                    columns = cvec.get_feature_names_out())"
   ]
  },
  {
   "cell_type": "code",
   "execution_count": 149,
   "id": "b9c7b7c9-5cd4-4b28-a622-f2b417370df0",
   "metadata": {},
   "outputs": [
    {
     "data": {
      "image/png": "[encoded data removed]",
      "text/plain": [
       "<Figure size 500x400 with 1 Axes>"
      ]
     },
     "metadata": {},
     "output_type": "display_data"
    }
   ],
   "source": [
    "data_words_df.sum().sort_values(ascending = False).head(10).plot(kind = 'barh', color = 'darkgoldenrod', figsize = (5, 4));\n",
    "plt.xlabel(\"Frequency\")\n",
    "plt.ylabel(\"Frequent lemmatized unigrams\")\n",
    "plt.title(\"Frequency of the top 10 unigrams\", weight ='bold', fontsize = 12);"
   ]
  },
  {
   "cell_type": "markdown",
   "id": "ad1cbb4d-7caf-49a5-8451-4e428e2acc50",
   "metadata": {},
   "source": [
    "#### Most common bigrams"
   ]
  },
  {
   "cell_type": "code",
   "execution_count": 150,
   "id": "25bc92da-3a63-4138-af07-e7c860182abe",
   "metadata": {},
   "outputs": [],
   "source": [
    "cvec_bigrams = CountVectorizer(ngram_range = (2,2))\n",
    "\n",
    "cvec_bigrams.fit(data['joined_words'])\n",
    "\n",
    "cvec_bigram_fit = cvec_bigrams.transform(data['joined_words'])\n",
    "\n",
    "cvec_bigrams_df = pd.DataFrame(cvec_bigram_fit.toarray(),\n",
    "                    columns = cvec_bigrams.get_feature_names_out())"
   ]
  },
  {
   "cell_type": "code",
   "execution_count": 151,
   "id": "62c50298-5d9e-4829-8371-9f0c869011a2",
   "metadata": {},
   "outputs": [
    {
     "data": {
      "image/png": "[encoded data removed]",
      "text/plain": [
       "<Figure size 500x400 with 1 Axes>"
      ]
     },
     "metadata": {},
     "output_type": "display_data"
    }
   ],
   "source": [
    "cvec_bigrams_df.sum().sort_values(ascending = False).head(10).plot(kind = 'barh', color = 'maroon', figsize = (5, 4));\n",
    "plt.xlabel(\"Frequency\")\n",
    "plt.ylabel(\"Frequent lemmatized bigrams\")\n",
    "plt.title(\"Frequency of the top 10 bigrams\", weight ='bold', fontsize = 12);"
   ]
  },
  {
   "cell_type": "markdown",
   "id": "dd77df1e-ac4b-4455-8cba-4cb0cb4351bd",
   "metadata": {},
   "source": [
    "#### Most common trigrams"
   ]
  },
  {
   "cell_type": "code",
   "execution_count": 152,
   "id": "0ba080db-8279-4959-b0a1-5d573f0a4602",
   "metadata": {},
   "outputs": [],
   "source": [
    "cvec_trigrams = CountVectorizer(ngram_range = (3,3))\n",
    "#fit\n",
    "cvec_trigrams.fit(data['joined_words'])\n",
    "#Transform\n",
    "cvec_trigrams_fit = cvec_trigrams.transform(data['joined_words'])\n",
    "\n",
    "cvec_trigrams_df = pd.DataFrame(cvec_trigrams_fit.toarray(),\n",
    "                    columns = cvec_trigrams.get_feature_names_out())"
   ]
  },
  {
   "cell_type": "code",
   "execution_count": 153,
   "id": "55e65d70-e190-4713-a5b2-6b828606233a",
   "metadata": {},
   "outputs": [
    {
     "data": {
      "image/png": "[encoded data removed]",
      "text/plain": [
       "<Figure size 500x400 with 1 Axes>"
      ]
     },
     "metadata": {},
     "output_type": "display_data"
    }
   ],
   "source": [
    "cvec_trigrams_df.sum().sort_values(ascending = False).head(10).plot(kind = 'barh', color = 'orange', figsize = (5, 4));\n",
    "plt.xlabel(\"Frequency\")\n",
    "plt.ylabel(\"Frequent lemmatized bigrams\")\n",
    "plt.title(\"Frequency of the top 10 trigrams\", weight ='bold', fontsize = 12);"
   ]
  },
  {
   "cell_type": "code",
   "execution_count": null,
   "id": "770eab62-263f-4eaa-8647-6aec16924fa3",
   "metadata": {},
   "outputs": [],
   "source": []
  }
 ],
 "metadata": {
  "kernelspec": {
   "display_name": "Python 3 (ipykernel)",
   "language": "python",
   "name": "python3"
  },
  "language_info": {
   "codemirror_mode": {
    "name": "ipython",
    "version": 3
   },
   "file_extension": ".py",
   "mimetype": "text/x-python",
   "name": "python",
   "nbconvert_exporter": "python",
   "pygments_lexer": "ipython3",
   "version": "3.12.2"
  }
 },
 "nbformat": 4,
 "nbformat_minor": 5
}

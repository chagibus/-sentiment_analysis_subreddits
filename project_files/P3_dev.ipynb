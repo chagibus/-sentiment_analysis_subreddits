{
 "cells": [
  {
   "cell_type": "markdown",
   "id": "47d3d4fe-7fd9-427b-9000-2838a211f35e",
   "metadata": {},
   "source": [
    "### Project 3 Title: *Sentiment prediction of subreddit posts*\n",
    "### Created by **Devaraja Mudeppa**"
   ]
  },
  {
   "cell_type": "markdown",
   "id": "8bf8cdb8-f14d-4d4f-9606-138e51df195e",
   "metadata": {},
   "source": [
    "### Executive summary"
   ]
  },
  {
   "cell_type": "markdown",
   "id": "f741a255-29bd-4e66-b1a8-6b544285b238",
   "metadata": {},
   "source": [
    "#### **The folder contains the following data files** "
   ]
  },
  {
   "cell_type": "markdown",
   "id": "72b39dc8-ccb8-4a8e-9799-c08fa370f680",
   "metadata": {},
   "source": [
    "**The folder contains the following data files** \n",
    "\n",
    "1. Two files on data scarping code from two different subreddits -- r/UnpopularOpnion (**scrape_unpopular_subr.ipynb**) and r/College (**scrape_college_subr.ipynb**)\n",
    "\n",
    "2. **EDA_coll_opin_pool.ipynb** is a code file EDA on pooled two subreddit posts \n",
    "\n",
    "3. **lemmatization_pooled_college_opin.ipynb** is a code file on removal chars and stopwords, tokenization, and lemmatization of posts\n",
    "   \n",
    "4. The files **logreg_coll_opin.ipynb, randforrest_coll_opin.ipynb, SVM_coll_opin.ipynb, and BernoulliNB_coll_opin.ipynb, multinomialNB_coll_opin.ipynb** is on training and testing of LogisticRgression, Random Forest, and SVM and Bernoulli and multinomial Naive Bayes ML models. Each of these files also has a code for predictions on college posts.\n",
    "\n",
    "**The data subfolder has the following files**\n",
    "\n",
    "6. The Scrapped data as  .csv file from r/College as **college.csv** and r/UnpopularOpinion as **unpopularopnion.csv**.\n",
    "\n",
    "7. Sentiment_scored data files of college as **college_senti_zeroed.csv** and unpopularopinion as **opins_senti_oned.csv**\n",
    "\n",
    "8. Combined sentiment scored college and unpopularopinion as **combined_posts.csv**\n",
    "\n",
    "9. Lemmatized text file as **combined_posts.csv**\n",
    "\n",
    "10. Lemmatized college posts as **coll_lemmatized_posts.csv**"
   ]
  },
  {
   "cell_type": "markdown",
   "id": "67377ff4-86a0-468a-acf7-29600ff62bb2",
   "metadata": {},
   "source": [
    "### Executive summary"
   ]
  },
  {
   "cell_type": "markdown",
   "id": "78582a3e-40d1-4bc7-be06-748cf8bb44c7",
   "metadata": {},
   "source": [
    "###### Natural language processing (NLP) models are powerful tools for finding the emotion behind social media posts. In this project, my company, I was asked to find out if we can accurately detect the sentiment behind social media posts. The NLPs and predictive machine learning models are employed to find the emotion behind the Reddit posts. The College and Unpopularopinion subreddits corpus were scrapped and cleaned for text analysis.  The binary sentiment score (1 and 0) was assigned as the target variable to these two subreddit-scarped corpora to calculate the accuracy of predictions. The corpora were pooled, and emojis, unwanted characters, and stop-words were removed. With the help of tokenization, each post was split into words. The parts of speech in the sentences were tagged, then lemmatizing each word from each post. This cleaning process helped reduce the total words from 590194 to 285079 in the pooled 3581 posts—four machine learning models trained and tested predictive powers on the pooled corpus. Multinomial Naïve Bayes (MNB) predicted with the highest accuracy and precision of 98.6 % and 100% recall/sensitivity.  What it means is that the trained MNB ML model correctly classified 100% of predictions (matched with true labels). Only 1.4% of predictions were incorrectly classified.  Of the 1670 predictions, only 23 were incorrectly classified (false negatives). By manually looking at a few posts from these incorrect predictions, it was found that slang,  irony, sarcasm, and expressions of emotions from different cultural backgrounds contributed to the false negatives.  I am confident that by sensitizing the model to slang, sarcasm, and phrases from various cultural backgrounds, the incorrect predictions can be reduced to zero. The more the model we train with vocab from different parts of the world, the better the model gets at prediction. "
   ]
  },
  {
   "cell_type": "code",
   "execution_count": null,
   "id": "2dc49d44-fdb0-46b3-8f0f-5dacd7b2aa64",
   "metadata": {},
   "outputs": [],
   "source": []
  }
 ],
 "metadata": {
  "kernelspec": {
   "display_name": "Python 3 (ipykernel)",
   "language": "python",
   "name": "python3"
  },
  "language_info": {
   "codemirror_mode": {
    "name": "ipython",
    "version": 3
   },
   "file_extension": ".py",
   "mimetype": "text/x-python",
   "name": "python",
   "nbconvert_exporter": "python",
   "pygments_lexer": "ipython3",
   "version": "3.11.5"
  }
 },
 "nbformat": 4,
 "nbformat_minor": 5
}

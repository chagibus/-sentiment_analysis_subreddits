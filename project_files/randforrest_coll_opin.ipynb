{
 "cells": [
  {
   "cell_type": "code",
   "execution_count": 126,
   "id": "2e8c8513-331a-443d-8d94-09c3c0d715c7",
   "metadata": {},
   "outputs": [],
   "source": [
    "import pandas as pd\n",
    "import numpy as np\n",
    "import matplotlib.pyplot as plt\n",
    "import seaborn as sns\n",
    "\n",
    "# from sklearn.feature_extraction.text import CountVectorizer\n",
    "from sklearn.model_selection import train_test_split, GridSearchCV,  RandomizedSearchCV\n",
    "from sklearn.pipeline import Pipeline\n",
    "from sklearn.ensemble import RandomForestClassifier, ExtraTreesClassifier\n",
    "from sklearn.metrics import confusion_matrix, ConfusionMatrixDisplay\n",
    "from sklearn.metrics import classification_report"
   ]
  },
  {
   "cell_type": "markdown",
   "id": "e9f571e4-cf90-4a6d-93ee-ec0420f29a12",
   "metadata": {},
   "source": [
    "# Load lemmatized data"
   ]
  },
  {
   "cell_type": "code",
   "execution_count": 84,
   "id": "eef99a44-a9b2-4963-8e96-58f0ea83562d",
   "metadata": {},
   "outputs": [],
   "source": [
    "data = pd.read_csv('./data/lemmatized_posts.csv')"
   ]
  },
  {
   "cell_type": "code",
   "execution_count": 85,
   "id": "00b500b9-c552-4eaf-9405-5c1e4cd00742",
   "metadata": {},
   "outputs": [
    {
     "data": {
      "text/html": [
       "<div>\n",
       "<style scoped>\n",
       "    .dataframe tbody tr th:only-of-type {\n",
       "        vertical-align: middle;\n",
       "    }\n",
       "\n",
       "    .dataframe tbody tr th {\n",
       "        vertical-align: top;\n",
       "    }\n",
       "\n",
       "    .dataframe thead th {\n",
       "        text-align: right;\n",
       "    }\n",
       "</style>\n",
       "<table border=\"1\" class=\"dataframe\">\n",
       "  <thead>\n",
       "    <tr style=\"text-align: right;\">\n",
       "      <th></th>\n",
       "      <th>post</th>\n",
       "      <th>sent_score</th>\n",
       "      <th>post_nochars</th>\n",
       "      <th>post_tokenized</th>\n",
       "      <th>post_lemmatized</th>\n",
       "      <th>joined_words</th>\n",
       "    </tr>\n",
       "  </thead>\n",
       "  <tbody>\n",
       "    <tr>\n",
       "      <th>0</th>\n",
       "      <td>middle aged guys don't buy sports cars because...</td>\n",
       "      <td>1</td>\n",
       "      <td>middle aged guys don't buy sports cars because...</td>\n",
       "      <td>['middle', 'aged', 'guys', 'buy', 'sports', 'c...</td>\n",
       "      <td>['middle', 'age', 'guy', 'buy', 'sport', 'car'...</td>\n",
       "      <td>middle age guy buy sport car mid life crisis f...</td>\n",
       "    </tr>\n",
       "    <tr>\n",
       "      <th>1</th>\n",
       "      <td>\"y'all\" is a brilliant use of the english lang...</td>\n",
       "      <td>1</td>\n",
       "      <td>\"y'all\" is a brilliant use of the english lang...</td>\n",
       "      <td>['brilliant', 'use', 'english', 'language', 'r...</td>\n",
       "      <td>['brilliant', 'use', 'english', 'language', 'r...</td>\n",
       "      <td>brilliant use english language refuse tell oth...</td>\n",
       "    </tr>\n",
       "    <tr>\n",
       "      <th>2</th>\n",
       "      <td>i always eat dessert before dinner at a restau...</td>\n",
       "      <td>1</td>\n",
       "      <td>i always eat dessert before dinner at a restau...</td>\n",
       "      <td>['always', 'eat', 'dessert', 'dinner', 'restau...</td>\n",
       "      <td>['always', 'eat', 'dessert', 'dinner', 'restau...</td>\n",
       "      <td>always eat dessert dinner restaurantwhen resta...</td>\n",
       "    </tr>\n",
       "    <tr>\n",
       "      <th>3</th>\n",
       "      <td>it should be illegal for a company to list an ...</td>\n",
       "      <td>1</td>\n",
       "      <td>it should be illegal for a company to list an ...</td>\n",
       "      <td>['illegal', 'company', 'list', 'entry', 'level...</td>\n",
       "      <td>['illegal', 'company', 'list', 'entry', 'level...</td>\n",
       "      <td>illegal company list entry level job require y...</td>\n",
       "    </tr>\n",
       "    <tr>\n",
       "      <th>4</th>\n",
       "      <td>news should be a dry recitation of facts. if i...</td>\n",
       "      <td>1</td>\n",
       "      <td>news should be a dry recitation of facts. if i...</td>\n",
       "      <td>['news', 'dry', 'recitation', 'facts', 'opinio...</td>\n",
       "      <td>['news', 'dry', 'recitation', 'fact', 'opinion...</td>\n",
       "      <td>news dry recitation fact opinion intend stir e...</td>\n",
       "    </tr>\n",
       "  </tbody>\n",
       "</table>\n",
       "</div>"
      ],
      "text/plain": [
       "                                                post  sent_score  \\\n",
       "0  middle aged guys don't buy sports cars because...           1   \n",
       "1  \"y'all\" is a brilliant use of the english lang...           1   \n",
       "2  i always eat dessert before dinner at a restau...           1   \n",
       "3  it should be illegal for a company to list an ...           1   \n",
       "4  news should be a dry recitation of facts. if i...           1   \n",
       "\n",
       "                                        post_nochars  \\\n",
       "0  middle aged guys don't buy sports cars because...   \n",
       "1  \"y'all\" is a brilliant use of the english lang...   \n",
       "2  i always eat dessert before dinner at a restau...   \n",
       "3  it should be illegal for a company to list an ...   \n",
       "4  news should be a dry recitation of facts. if i...   \n",
       "\n",
       "                                      post_tokenized  \\\n",
       "0  ['middle', 'aged', 'guys', 'buy', 'sports', 'c...   \n",
       "1  ['brilliant', 'use', 'english', 'language', 'r...   \n",
       "2  ['always', 'eat', 'dessert', 'dinner', 'restau...   \n",
       "3  ['illegal', 'company', 'list', 'entry', 'level...   \n",
       "4  ['news', 'dry', 'recitation', 'facts', 'opinio...   \n",
       "\n",
       "                                     post_lemmatized  \\\n",
       "0  ['middle', 'age', 'guy', 'buy', 'sport', 'car'...   \n",
       "1  ['brilliant', 'use', 'english', 'language', 'r...   \n",
       "2  ['always', 'eat', 'dessert', 'dinner', 'restau...   \n",
       "3  ['illegal', 'company', 'list', 'entry', 'level...   \n",
       "4  ['news', 'dry', 'recitation', 'fact', 'opinion...   \n",
       "\n",
       "                                        joined_words  \n",
       "0  middle age guy buy sport car mid life crisis f...  \n",
       "1  brilliant use english language refuse tell oth...  \n",
       "2  always eat dessert dinner restaurantwhen resta...  \n",
       "3  illegal company list entry level job require y...  \n",
       "4  news dry recitation fact opinion intend stir e...  "
      ]
     },
     "execution_count": 85,
     "metadata": {},
     "output_type": "execute_result"
    }
   ],
   "source": [
    "data.head()"
   ]
  },
  {
   "cell_type": "code",
   "execution_count": 86,
   "id": "21e47429-8b2a-46b3-ab32-ed2ad27a94bf",
   "metadata": {},
   "outputs": [
    {
     "data": {
      "text/plain": [
       "(3584, 6)"
      ]
     },
     "execution_count": 86,
     "metadata": {},
     "output_type": "execute_result"
    }
   ],
   "source": [
    "data.shape"
   ]
  },
  {
   "cell_type": "markdown",
   "id": "01b7feeb-17fd-4c7b-b500-a598ff953aa1",
   "metadata": {},
   "source": [
    "### Train Random Forests ensemble ML model using lammatized data"
   ]
  },
  {
   "cell_type": "code",
   "execution_count": 87,
   "id": "bf103b6f-5f91-4615-b8b7-ca349cbe143b",
   "metadata": {},
   "outputs": [],
   "source": [
    "X = data['joined_words']\n",
    "y = data['sent_score']"
   ]
  },
  {
   "cell_type": "code",
   "execution_count": 88,
   "id": "5a7c344f-0269-40f1-835b-74a20d7b18df",
   "metadata": {},
   "outputs": [
    {
     "data": {
      "text/plain": [
       "0.4659598214285714"
      ]
     },
     "execution_count": 88,
     "metadata": {},
     "output_type": "execute_result"
    }
   ],
   "source": [
    "1 - y.mean()"
   ]
  },
  {
   "cell_type": "code",
   "execution_count": 89,
   "id": "81ab2c76-2966-45c2-b889-5c52483fc6c3",
   "metadata": {},
   "outputs": [],
   "source": [
    "# split the data\n",
    "X_train, X_test, y_train, y_test = train_test_split(X,y, test_size = 0.4, random_state = 2024)"
   ]
  },
  {
   "cell_type": "code",
   "execution_count": 90,
   "id": "09746e3f-93d8-408e-850c-1bd127136434",
   "metadata": {},
   "outputs": [
    {
     "data": {
      "text/html": [
       "<style>#sk-container-id-7 {color: black;background-color: white;}#sk-container-id-7 pre{padding: 0;}#sk-container-id-7 div.sk-toggleable {background-color: white;}#sk-container-id-7 label.sk-toggleable__label {cursor: pointer;display: block;width: 100%;margin-bottom: 0;padding: 0.3em;box-sizing: border-box;text-align: center;}#sk-container-id-7 label.sk-toggleable__label-arrow:before {content: \"▸\";float: left;margin-right: 0.25em;color: #696969;}#sk-container-id-7 label.sk-toggleable__label-arrow:hover:before {color: black;}#sk-container-id-7 div.sk-estimator:hover label.sk-toggleable__label-arrow:before {color: black;}#sk-container-id-7 div.sk-toggleable__content {max-height: 0;max-width: 0;overflow: hidden;text-align: left;background-color: #f0f8ff;}#sk-container-id-7 div.sk-toggleable__content pre {margin: 0.2em;color: black;border-radius: 0.25em;background-color: #f0f8ff;}#sk-container-id-7 input.sk-toggleable__control:checked~div.sk-toggleable__content {max-height: 200px;max-width: 100%;overflow: auto;}#sk-container-id-7 input.sk-toggleable__control:checked~label.sk-toggleable__label-arrow:before {content: \"▾\";}#sk-container-id-7 div.sk-estimator input.sk-toggleable__control:checked~label.sk-toggleable__label {background-color: #d4ebff;}#sk-container-id-7 div.sk-label input.sk-toggleable__control:checked~label.sk-toggleable__label {background-color: #d4ebff;}#sk-container-id-7 input.sk-hidden--visually {border: 0;clip: rect(1px 1px 1px 1px);clip: rect(1px, 1px, 1px, 1px);height: 1px;margin: -1px;overflow: hidden;padding: 0;position: absolute;width: 1px;}#sk-container-id-7 div.sk-estimator {font-family: monospace;background-color: #f0f8ff;border: 1px dotted black;border-radius: 0.25em;box-sizing: border-box;margin-bottom: 0.5em;}#sk-container-id-7 div.sk-estimator:hover {background-color: #d4ebff;}#sk-container-id-7 div.sk-parallel-item::after {content: \"\";width: 100%;border-bottom: 1px solid gray;flex-grow: 1;}#sk-container-id-7 div.sk-label:hover label.sk-toggleable__label {background-color: #d4ebff;}#sk-container-id-7 div.sk-serial::before {content: \"\";position: absolute;border-left: 1px solid gray;box-sizing: border-box;top: 0;bottom: 0;left: 50%;z-index: 0;}#sk-container-id-7 div.sk-serial {display: flex;flex-direction: column;align-items: center;background-color: white;padding-right: 0.2em;padding-left: 0.2em;position: relative;}#sk-container-id-7 div.sk-item {position: relative;z-index: 1;}#sk-container-id-7 div.sk-parallel {display: flex;align-items: stretch;justify-content: center;background-color: white;position: relative;}#sk-container-id-7 div.sk-item::before, #sk-container-id-7 div.sk-parallel-item::before {content: \"\";position: absolute;border-left: 1px solid gray;box-sizing: border-box;top: 0;bottom: 0;left: 50%;z-index: -1;}#sk-container-id-7 div.sk-parallel-item {display: flex;flex-direction: column;z-index: 1;position: relative;background-color: white;}#sk-container-id-7 div.sk-parallel-item:first-child::after {align-self: flex-end;width: 50%;}#sk-container-id-7 div.sk-parallel-item:last-child::after {align-self: flex-start;width: 50%;}#sk-container-id-7 div.sk-parallel-item:only-child::after {width: 0;}#sk-container-id-7 div.sk-dashed-wrapped {border: 1px dashed gray;margin: 0 0.4em 0.5em 0.4em;box-sizing: border-box;padding-bottom: 0.4em;background-color: white;}#sk-container-id-7 div.sk-label label {font-family: monospace;font-weight: bold;display: inline-block;line-height: 1.2em;}#sk-container-id-7 div.sk-label-container {text-align: center;}#sk-container-id-7 div.sk-container {/* jupyter's `normalize.less` sets `[hidden] { display: none; }` but bootstrap.min.css set `[hidden] { display: none !important; }` so we also need the `!important` here to be able to override the default hidden behavior on the sphinx rendered scikit-learn.org. See: https://github.com/scikit-learn/scikit-learn/issues/21755 */display: inline-block !important;position: relative;}#sk-container-id-7 div.sk-text-repr-fallback {display: none;}</style><div id=\"sk-container-id-7\" class=\"sk-top-container\"><div class=\"sk-text-repr-fallback\"><pre>CountVectorizer()</pre><b>In a Jupyter environment, please rerun this cell to show the HTML representation or trust the notebook. <br />On GitHub, the HTML representation is unable to render, please try loading this page with nbviewer.org.</b></div><div class=\"sk-container\" hidden><div class=\"sk-item\"><div class=\"sk-estimator sk-toggleable\"><input class=\"sk-toggleable__control sk-hidden--visually\" id=\"sk-estimator-id-9\" type=\"checkbox\" checked><label for=\"sk-estimator-id-9\" class=\"sk-toggleable__label sk-toggleable__label-arrow\">CountVectorizer</label><div class=\"sk-toggleable__content\"><pre>CountVectorizer()</pre></div></div></div></div></div>"
      ],
      "text/plain": [
       "CountVectorizer()"
      ]
     },
     "execution_count": 90,
     "metadata": {},
     "output_type": "execute_result"
    }
   ],
   "source": [
    "#instantiate a CounterVectorizer\n",
    "cvec = CountVectorizer()\n",
    "cvec.fit(X_train)"
   ]
  },
  {
   "cell_type": "code",
   "execution_count": 91,
   "id": "ac97d83a-d162-4e02-bda9-d784b4206b03",
   "metadata": {},
   "outputs": [],
   "source": [
    "X_train_cv = cvec.transform(X_train)\n",
    "X_test_cv = cvec.transform(X_test)"
   ]
  },
  {
   "cell_type": "code",
   "execution_count": 92,
   "id": "c0e7dd36-5cc6-4a01-b54b-5c5ad62616fe",
   "metadata": {},
   "outputs": [
    {
     "data": {
      "text/plain": [
       "(2150, 13220)"
      ]
     },
     "execution_count": 92,
     "metadata": {},
     "output_type": "execute_result"
    }
   ],
   "source": [
    "X_train_cv.shape"
   ]
  },
  {
   "cell_type": "code",
   "execution_count": 93,
   "id": "02f74b34-bb6d-4e44-a2b2-b5e74975b84b",
   "metadata": {},
   "outputs": [],
   "source": [
    "rf = RandomForestClassifier(n_estimators = 500, oob_score = True,\n",
    "                           random_state = 2024)"
   ]
  },
  {
   "cell_type": "code",
   "execution_count": 94,
   "id": "5540b14b-e379-4900-b41f-ada8b74c9ff5",
   "metadata": {},
   "outputs": [
    {
     "data": {
      "text/html": [
       "<style>#sk-container-id-8 {color: black;background-color: white;}#sk-container-id-8 pre{padding: 0;}#sk-container-id-8 div.sk-toggleable {background-color: white;}#sk-container-id-8 label.sk-toggleable__label {cursor: pointer;display: block;width: 100%;margin-bottom: 0;padding: 0.3em;box-sizing: border-box;text-align: center;}#sk-container-id-8 label.sk-toggleable__label-arrow:before {content: \"▸\";float: left;margin-right: 0.25em;color: #696969;}#sk-container-id-8 label.sk-toggleable__label-arrow:hover:before {color: black;}#sk-container-id-8 div.sk-estimator:hover label.sk-toggleable__label-arrow:before {color: black;}#sk-container-id-8 div.sk-toggleable__content {max-height: 0;max-width: 0;overflow: hidden;text-align: left;background-color: #f0f8ff;}#sk-container-id-8 div.sk-toggleable__content pre {margin: 0.2em;color: black;border-radius: 0.25em;background-color: #f0f8ff;}#sk-container-id-8 input.sk-toggleable__control:checked~div.sk-toggleable__content {max-height: 200px;max-width: 100%;overflow: auto;}#sk-container-id-8 input.sk-toggleable__control:checked~label.sk-toggleable__label-arrow:before {content: \"▾\";}#sk-container-id-8 div.sk-estimator input.sk-toggleable__control:checked~label.sk-toggleable__label {background-color: #d4ebff;}#sk-container-id-8 div.sk-label input.sk-toggleable__control:checked~label.sk-toggleable__label {background-color: #d4ebff;}#sk-container-id-8 input.sk-hidden--visually {border: 0;clip: rect(1px 1px 1px 1px);clip: rect(1px, 1px, 1px, 1px);height: 1px;margin: -1px;overflow: hidden;padding: 0;position: absolute;width: 1px;}#sk-container-id-8 div.sk-estimator {font-family: monospace;background-color: #f0f8ff;border: 1px dotted black;border-radius: 0.25em;box-sizing: border-box;margin-bottom: 0.5em;}#sk-container-id-8 div.sk-estimator:hover {background-color: #d4ebff;}#sk-container-id-8 div.sk-parallel-item::after {content: \"\";width: 100%;border-bottom: 1px solid gray;flex-grow: 1;}#sk-container-id-8 div.sk-label:hover label.sk-toggleable__label {background-color: #d4ebff;}#sk-container-id-8 div.sk-serial::before {content: \"\";position: absolute;border-left: 1px solid gray;box-sizing: border-box;top: 0;bottom: 0;left: 50%;z-index: 0;}#sk-container-id-8 div.sk-serial {display: flex;flex-direction: column;align-items: center;background-color: white;padding-right: 0.2em;padding-left: 0.2em;position: relative;}#sk-container-id-8 div.sk-item {position: relative;z-index: 1;}#sk-container-id-8 div.sk-parallel {display: flex;align-items: stretch;justify-content: center;background-color: white;position: relative;}#sk-container-id-8 div.sk-item::before, #sk-container-id-8 div.sk-parallel-item::before {content: \"\";position: absolute;border-left: 1px solid gray;box-sizing: border-box;top: 0;bottom: 0;left: 50%;z-index: -1;}#sk-container-id-8 div.sk-parallel-item {display: flex;flex-direction: column;z-index: 1;position: relative;background-color: white;}#sk-container-id-8 div.sk-parallel-item:first-child::after {align-self: flex-end;width: 50%;}#sk-container-id-8 div.sk-parallel-item:last-child::after {align-self: flex-start;width: 50%;}#sk-container-id-8 div.sk-parallel-item:only-child::after {width: 0;}#sk-container-id-8 div.sk-dashed-wrapped {border: 1px dashed gray;margin: 0 0.4em 0.5em 0.4em;box-sizing: border-box;padding-bottom: 0.4em;background-color: white;}#sk-container-id-8 div.sk-label label {font-family: monospace;font-weight: bold;display: inline-block;line-height: 1.2em;}#sk-container-id-8 div.sk-label-container {text-align: center;}#sk-container-id-8 div.sk-container {/* jupyter's `normalize.less` sets `[hidden] { display: none; }` but bootstrap.min.css set `[hidden] { display: none !important; }` so we also need the `!important` here to be able to override the default hidden behavior on the sphinx rendered scikit-learn.org. See: https://github.com/scikit-learn/scikit-learn/issues/21755 */display: inline-block !important;position: relative;}#sk-container-id-8 div.sk-text-repr-fallback {display: none;}</style><div id=\"sk-container-id-8\" class=\"sk-top-container\"><div class=\"sk-text-repr-fallback\"><pre>RandomForestClassifier(n_estimators=500, oob_score=True, random_state=2024)</pre><b>In a Jupyter environment, please rerun this cell to show the HTML representation or trust the notebook. <br />On GitHub, the HTML representation is unable to render, please try loading this page with nbviewer.org.</b></div><div class=\"sk-container\" hidden><div class=\"sk-item\"><div class=\"sk-estimator sk-toggleable\"><input class=\"sk-toggleable__control sk-hidden--visually\" id=\"sk-estimator-id-10\" type=\"checkbox\" checked><label for=\"sk-estimator-id-10\" class=\"sk-toggleable__label sk-toggleable__label-arrow\">RandomForestClassifier</label><div class=\"sk-toggleable__content\"><pre>RandomForestClassifier(n_estimators=500, oob_score=True, random_state=2024)</pre></div></div></div></div></div>"
      ],
      "text/plain": [
       "RandomForestClassifier(n_estimators=500, oob_score=True, random_state=2024)"
      ]
     },
     "execution_count": 94,
     "metadata": {},
     "output_type": "execute_result"
    }
   ],
   "source": [
    "rf.fit(X_train_cv, y_train)"
   ]
  },
  {
   "cell_type": "code",
   "execution_count": 95,
   "id": "59f5c153-630d-45f4-9d5c-465ea4a1d66d",
   "metadata": {},
   "outputs": [
    {
     "data": {
      "text/plain": [
       "1.0"
      ]
     },
     "execution_count": 95,
     "metadata": {},
     "output_type": "execute_result"
    }
   ],
   "source": [
    "rf.score(X_train_cv, y_train)"
   ]
  },
  {
   "cell_type": "code",
   "execution_count": 96,
   "id": "19b5b0ba-853c-4a7f-a58a-bbc2c0a944f8",
   "metadata": {},
   "outputs": [
    {
     "data": {
      "text/plain": [
       "0.9518828451882845"
      ]
     },
     "execution_count": 96,
     "metadata": {},
     "output_type": "execute_result"
    }
   ],
   "source": [
    "rf.score(X_test_cv, y_test)"
   ]
  },
  {
   "cell_type": "code",
   "execution_count": 97,
   "id": "455929cc-1ded-4c26-b6ab-f3672833b2fe",
   "metadata": {},
   "outputs": [
    {
     "data": {
      "text/plain": [
       "0.9544186046511628"
      ]
     },
     "execution_count": 97,
     "metadata": {},
     "output_type": "execute_result"
    }
   ],
   "source": [
    "rf.oob_score_"
   ]
  },
  {
   "cell_type": "code",
   "execution_count": 98,
   "id": "d6c02812-f03c-42b3-b08e-46a535d26c66",
   "metadata": {},
   "outputs": [
    {
     "data": {
      "text/plain": [
       "array([8.44697511e-06, 3.59789263e-06, 5.08195708e-06, ...,\n",
       "       6.21110894e-06, 5.89521627e-06, 0.00000000e+00])"
      ]
     },
     "execution_count": 98,
     "metadata": {},
     "output_type": "execute_result"
    }
   ],
   "source": [
    "rf.feature_importances_"
   ]
  },
  {
   "cell_type": "code",
   "execution_count": 99,
   "id": "6b9388f1-54b2-43f0-8975-fb4d2cfc5614",
   "metadata": {},
   "outputs": [],
   "source": [
    "p = X_train_cv.shape[1]"
   ]
  },
  {
   "cell_type": "markdown",
   "id": "7b664431-966b-46bf-818d-fda884d49eb1",
   "metadata": {},
   "source": [
    "### Search for best parameters for RandomForestClassifier"
   ]
  },
  {
   "cell_type": "code",
   "execution_count": 100,
   "id": "a00a1bed-0936-4a51-8ab7-cd790b4dfebf",
   "metadata": {},
   "outputs": [],
   "source": [
    "params = {\n",
    "    'max_features': np.arange(1, p+1),\n",
    "    'max_depth': np.append(np.arange(1,9), None),\n",
    "    'min_samples_leaf': np.arange(1, 31)\n",
    "}\n",
    "rf = RandomForestClassifier(\n",
    "    n_estimators=100,\n",
    "    random_state=2023)\n",
    "    \n",
    "rs = RandomizedSearchCV(\n",
    "    rf, param_distributions=params, n_iter=100, cv=5, n_jobs=8 )"
   ]
  },
  {
   "cell_type": "code",
   "execution_count": 101,
   "id": "4e49f58c-8c1a-4a68-a86a-861ae18dab16",
   "metadata": {},
   "outputs": [
    {
     "name": "stdout",
     "output_type": "stream",
     "text": [
      "CPU times: total: 13 s\n",
      "Wall time: 13min 41s\n"
     ]
    },
    {
     "data": {
      "text/html": [
       "<style>#sk-container-id-9 {color: black;background-color: white;}#sk-container-id-9 pre{padding: 0;}#sk-container-id-9 div.sk-toggleable {background-color: white;}#sk-container-id-9 label.sk-toggleable__label {cursor: pointer;display: block;width: 100%;margin-bottom: 0;padding: 0.3em;box-sizing: border-box;text-align: center;}#sk-container-id-9 label.sk-toggleable__label-arrow:before {content: \"▸\";float: left;margin-right: 0.25em;color: #696969;}#sk-container-id-9 label.sk-toggleable__label-arrow:hover:before {color: black;}#sk-container-id-9 div.sk-estimator:hover label.sk-toggleable__label-arrow:before {color: black;}#sk-container-id-9 div.sk-toggleable__content {max-height: 0;max-width: 0;overflow: hidden;text-align: left;background-color: #f0f8ff;}#sk-container-id-9 div.sk-toggleable__content pre {margin: 0.2em;color: black;border-radius: 0.25em;background-color: #f0f8ff;}#sk-container-id-9 input.sk-toggleable__control:checked~div.sk-toggleable__content {max-height: 200px;max-width: 100%;overflow: auto;}#sk-container-id-9 input.sk-toggleable__control:checked~label.sk-toggleable__label-arrow:before {content: \"▾\";}#sk-container-id-9 div.sk-estimator input.sk-toggleable__control:checked~label.sk-toggleable__label {background-color: #d4ebff;}#sk-container-id-9 div.sk-label input.sk-toggleable__control:checked~label.sk-toggleable__label {background-color: #d4ebff;}#sk-container-id-9 input.sk-hidden--visually {border: 0;clip: rect(1px 1px 1px 1px);clip: rect(1px, 1px, 1px, 1px);height: 1px;margin: -1px;overflow: hidden;padding: 0;position: absolute;width: 1px;}#sk-container-id-9 div.sk-estimator {font-family: monospace;background-color: #f0f8ff;border: 1px dotted black;border-radius: 0.25em;box-sizing: border-box;margin-bottom: 0.5em;}#sk-container-id-9 div.sk-estimator:hover {background-color: #d4ebff;}#sk-container-id-9 div.sk-parallel-item::after {content: \"\";width: 100%;border-bottom: 1px solid gray;flex-grow: 1;}#sk-container-id-9 div.sk-label:hover label.sk-toggleable__label {background-color: #d4ebff;}#sk-container-id-9 div.sk-serial::before {content: \"\";position: absolute;border-left: 1px solid gray;box-sizing: border-box;top: 0;bottom: 0;left: 50%;z-index: 0;}#sk-container-id-9 div.sk-serial {display: flex;flex-direction: column;align-items: center;background-color: white;padding-right: 0.2em;padding-left: 0.2em;position: relative;}#sk-container-id-9 div.sk-item {position: relative;z-index: 1;}#sk-container-id-9 div.sk-parallel {display: flex;align-items: stretch;justify-content: center;background-color: white;position: relative;}#sk-container-id-9 div.sk-item::before, #sk-container-id-9 div.sk-parallel-item::before {content: \"\";position: absolute;border-left: 1px solid gray;box-sizing: border-box;top: 0;bottom: 0;left: 50%;z-index: -1;}#sk-container-id-9 div.sk-parallel-item {display: flex;flex-direction: column;z-index: 1;position: relative;background-color: white;}#sk-container-id-9 div.sk-parallel-item:first-child::after {align-self: flex-end;width: 50%;}#sk-container-id-9 div.sk-parallel-item:last-child::after {align-self: flex-start;width: 50%;}#sk-container-id-9 div.sk-parallel-item:only-child::after {width: 0;}#sk-container-id-9 div.sk-dashed-wrapped {border: 1px dashed gray;margin: 0 0.4em 0.5em 0.4em;box-sizing: border-box;padding-bottom: 0.4em;background-color: white;}#sk-container-id-9 div.sk-label label {font-family: monospace;font-weight: bold;display: inline-block;line-height: 1.2em;}#sk-container-id-9 div.sk-label-container {text-align: center;}#sk-container-id-9 div.sk-container {/* jupyter's `normalize.less` sets `[hidden] { display: none; }` but bootstrap.min.css set `[hidden] { display: none !important; }` so we also need the `!important` here to be able to override the default hidden behavior on the sphinx rendered scikit-learn.org. See: https://github.com/scikit-learn/scikit-learn/issues/21755 */display: inline-block !important;position: relative;}#sk-container-id-9 div.sk-text-repr-fallback {display: none;}</style><div id=\"sk-container-id-9\" class=\"sk-top-container\"><div class=\"sk-text-repr-fallback\"><pre>RandomizedSearchCV(cv=5, estimator=RandomForestClassifier(random_state=2023),\n",
       "                   n_iter=100, n_jobs=8,\n",
       "                   param_distributions={&#x27;max_depth&#x27;: array([1, 2, 3, 4, 5, 6, 7, 8, None], dtype=object),\n",
       "                                        &#x27;max_features&#x27;: array([    1,     2,     3, ..., 13218, 13219, 13220]),\n",
       "                                        &#x27;min_samples_leaf&#x27;: array([ 1,  2,  3,  4,  5,  6,  7,  8,  9, 10, 11, 12, 13, 14, 15, 16, 17,\n",
       "       18, 19, 20, 21, 22, 23, 24, 25, 26, 27, 28, 29, 30])})</pre><b>In a Jupyter environment, please rerun this cell to show the HTML representation or trust the notebook. <br />On GitHub, the HTML representation is unable to render, please try loading this page with nbviewer.org.</b></div><div class=\"sk-container\" hidden><div class=\"sk-item sk-dashed-wrapped\"><div class=\"sk-label-container\"><div class=\"sk-label sk-toggleable\"><input class=\"sk-toggleable__control sk-hidden--visually\" id=\"sk-estimator-id-11\" type=\"checkbox\" ><label for=\"sk-estimator-id-11\" class=\"sk-toggleable__label sk-toggleable__label-arrow\">RandomizedSearchCV</label><div class=\"sk-toggleable__content\"><pre>RandomizedSearchCV(cv=5, estimator=RandomForestClassifier(random_state=2023),\n",
       "                   n_iter=100, n_jobs=8,\n",
       "                   param_distributions={&#x27;max_depth&#x27;: array([1, 2, 3, 4, 5, 6, 7, 8, None], dtype=object),\n",
       "                                        &#x27;max_features&#x27;: array([    1,     2,     3, ..., 13218, 13219, 13220]),\n",
       "                                        &#x27;min_samples_leaf&#x27;: array([ 1,  2,  3,  4,  5,  6,  7,  8,  9, 10, 11, 12, 13, 14, 15, 16, 17,\n",
       "       18, 19, 20, 21, 22, 23, 24, 25, 26, 27, 28, 29, 30])})</pre></div></div></div><div class=\"sk-parallel\"><div class=\"sk-parallel-item\"><div class=\"sk-item\"><div class=\"sk-label-container\"><div class=\"sk-label sk-toggleable\"><input class=\"sk-toggleable__control sk-hidden--visually\" id=\"sk-estimator-id-12\" type=\"checkbox\" ><label for=\"sk-estimator-id-12\" class=\"sk-toggleable__label sk-toggleable__label-arrow\">estimator: RandomForestClassifier</label><div class=\"sk-toggleable__content\"><pre>RandomForestClassifier(random_state=2023)</pre></div></div></div><div class=\"sk-serial\"><div class=\"sk-item\"><div class=\"sk-estimator sk-toggleable\"><input class=\"sk-toggleable__control sk-hidden--visually\" id=\"sk-estimator-id-13\" type=\"checkbox\" ><label for=\"sk-estimator-id-13\" class=\"sk-toggleable__label sk-toggleable__label-arrow\">RandomForestClassifier</label><div class=\"sk-toggleable__content\"><pre>RandomForestClassifier(random_state=2023)</pre></div></div></div></div></div></div></div></div></div></div>"
      ],
      "text/plain": [
       "RandomizedSearchCV(cv=5, estimator=RandomForestClassifier(random_state=2023),\n",
       "                   n_iter=100, n_jobs=8,\n",
       "                   param_distributions={'max_depth': array([1, 2, 3, 4, 5, 6, 7, 8, None], dtype=object),\n",
       "                                        'max_features': array([    1,     2,     3, ..., 13218, 13219, 13220]),\n",
       "                                        'min_samples_leaf': array([ 1,  2,  3,  4,  5,  6,  7,  8,  9, 10, 11, 12, 13, 14, 15, 16, 17,\n",
       "       18, 19, 20, 21, 22, 23, 24, 25, 26, 27, 28, 29, 30])})"
      ]
     },
     "execution_count": 101,
     "metadata": {},
     "output_type": "execute_result"
    }
   ],
   "source": [
    "%%time\n",
    "rs.fit(X_train_cv, y_train)"
   ]
  },
  {
   "cell_type": "code",
   "execution_count": 111,
   "id": "b06d2de8-583c-455e-99bd-4cc0883e108e",
   "metadata": {},
   "outputs": [
    {
     "data": {
      "text/plain": [
       "0.98"
      ]
     },
     "execution_count": 111,
     "metadata": {},
     "output_type": "execute_result"
    }
   ],
   "source": [
    "rs.score(X_train_cv, y_train)"
   ]
  },
  {
   "cell_type": "code",
   "execution_count": 112,
   "id": "d71fac50-9d86-4b17-a011-a53803c10747",
   "metadata": {},
   "outputs": [
    {
     "data": {
      "text/plain": [
       "0.9232914923291492"
      ]
     },
     "execution_count": 112,
     "metadata": {},
     "output_type": "execute_result"
    }
   ],
   "source": [
    "rs.score(X_test_cv, y_test)"
   ]
  },
  {
   "cell_type": "code",
   "execution_count": 113,
   "id": "4e6d6130-1670-4c78-9e48-a0cf455980ad",
   "metadata": {},
   "outputs": [
    {
     "data": {
      "text/plain": [
       "{'min_samples_leaf': 2, 'max_features': 4540, 'max_depth': None}"
      ]
     },
     "execution_count": 113,
     "metadata": {},
     "output_type": "execute_result"
    }
   ],
   "source": [
    "rs.best_params_"
   ]
  },
  {
   "cell_type": "markdown",
   "id": "0d146ac1-55b7-4476-b79a-a7e45001bc65",
   "metadata": {},
   "source": [
    "#### Apply trained random forest  ML for Sentiment prediction of  college posts."
   ]
  },
  {
   "cell_type": "code",
   "execution_count": 114,
   "id": "f2df1db8-9ce8-485c-91b4-b6e69c390d72",
   "metadata": {},
   "outputs": [],
   "source": [
    "college = pd.read_csv('./data/coll_lemmatized_posts.csv')"
   ]
  },
  {
   "cell_type": "code",
   "execution_count": 115,
   "id": "0022ea86-2ab5-4f4f-af60-04e1012a8e82",
   "metadata": {},
   "outputs": [
    {
     "data": {
      "text/html": [
       "<div>\n",
       "<style scoped>\n",
       "    .dataframe tbody tr th:only-of-type {\n",
       "        vertical-align: middle;\n",
       "    }\n",
       "\n",
       "    .dataframe tbody tr th {\n",
       "        vertical-align: top;\n",
       "    }\n",
       "\n",
       "    .dataframe thead th {\n",
       "        text-align: right;\n",
       "    }\n",
       "</style>\n",
       "<table border=\"1\" class=\"dataframe\">\n",
       "  <thead>\n",
       "    <tr style=\"text-align: right;\">\n",
       "      <th></th>\n",
       "      <th>post</th>\n",
       "      <th>sent_score</th>\n",
       "      <th>post_tokenized</th>\n",
       "      <th>post_lemmatized</th>\n",
       "      <th>joined_words</th>\n",
       "    </tr>\n",
       "  </thead>\n",
       "  <tbody>\n",
       "    <tr>\n",
       "      <th>0</th>\n",
       "      <td>ever have a kid in class show up and realize i...</td>\n",
       "      <td>0</td>\n",
       "      <td>['ever', 'kid', 'class', 'show', 'realize', 'e...</td>\n",
       "      <td>['ever', 'kid', 'class', 'show', 'realize', 'e...</td>\n",
       "      <td>ever kid class show realize exam day get leave...</td>\n",
       "    </tr>\n",
       "    <tr>\n",
       "      <th>1</th>\n",
       "      <td>it’s the little things that count, this profes...</td>\n",
       "      <td>0</td>\n",
       "      <td>['little', 'things', 'count', 'professor', 'ge...</td>\n",
       "      <td>['little', 'thing', 'count', 'professor', 'gem...</td>\n",
       "      <td>little thing count professor gem stay late com...</td>\n",
       "    </tr>\n",
       "    <tr>\n",
       "      <th>2</th>\n",
       "      <td>professor saved my assduring winter term at my...</td>\n",
       "      <td>0</td>\n",
       "      <td>['professor', 'saved', 'assduring', 'winter', ...</td>\n",
       "      <td>['professor', 'save', 'assduring', 'winter', '...</td>\n",
       "      <td>professor save assduring winter term uni bad m...</td>\n",
       "    </tr>\n",
       "    <tr>\n",
       "      <th>3</th>\n",
       "      <td>my professor gave out all the answers to the f...</td>\n",
       "      <td>0</td>\n",
       "      <td>['professor', 'gave', 'answers', 'final', 'lef...</td>\n",
       "      <td>['professor', 'give', 'answer', 'final', 'leav...</td>\n",
       "      <td>professor give answer final leave exam hall ce...</td>\n",
       "    </tr>\n",
       "    <tr>\n",
       "      <th>4</th>\n",
       "      <td>an honest letter from your university presiden...</td>\n",
       "      <td>0</td>\n",
       "      <td>['honest', 'letter', 'university', 'president'...</td>\n",
       "      <td>['honest', 'letter', 'university', 'president'...</td>\n",
       "      <td>honest letter university president open fallde...</td>\n",
       "    </tr>\n",
       "  </tbody>\n",
       "</table>\n",
       "</div>"
      ],
      "text/plain": [
       "                                                post  sent_score  \\\n",
       "0  ever have a kid in class show up and realize i...           0   \n",
       "1  it’s the little things that count, this profes...           0   \n",
       "2  professor saved my assduring winter term at my...           0   \n",
       "3  my professor gave out all the answers to the f...           0   \n",
       "4  an honest letter from your university presiden...           0   \n",
       "\n",
       "                                      post_tokenized  \\\n",
       "0  ['ever', 'kid', 'class', 'show', 'realize', 'e...   \n",
       "1  ['little', 'things', 'count', 'professor', 'ge...   \n",
       "2  ['professor', 'saved', 'assduring', 'winter', ...   \n",
       "3  ['professor', 'gave', 'answers', 'final', 'lef...   \n",
       "4  ['honest', 'letter', 'university', 'president'...   \n",
       "\n",
       "                                     post_lemmatized  \\\n",
       "0  ['ever', 'kid', 'class', 'show', 'realize', 'e...   \n",
       "1  ['little', 'thing', 'count', 'professor', 'gem...   \n",
       "2  ['professor', 'save', 'assduring', 'winter', '...   \n",
       "3  ['professor', 'give', 'answer', 'final', 'leav...   \n",
       "4  ['honest', 'letter', 'university', 'president'...   \n",
       "\n",
       "                                        joined_words  \n",
       "0  ever kid class show realize exam day get leave...  \n",
       "1  little thing count professor gem stay late com...  \n",
       "2  professor save assduring winter term uni bad m...  \n",
       "3  professor give answer final leave exam hall ce...  \n",
       "4  honest letter university president open fallde...  "
      ]
     },
     "execution_count": 115,
     "metadata": {},
     "output_type": "execute_result"
    }
   ],
   "source": [
    "college.head()"
   ]
  },
  {
   "cell_type": "code",
   "execution_count": 116,
   "id": "3e0ae82f-e7e6-4fc0-bcf8-91d9a2bcaa2a",
   "metadata": {},
   "outputs": [],
   "source": [
    "X_coll = college['joined_words']\n",
    "y_coll = college['sent_score']"
   ]
  },
  {
   "cell_type": "code",
   "execution_count": 120,
   "id": "b22d4392-d7b4-46b1-a2df-68d39807a5ab",
   "metadata": {},
   "outputs": [
    {
     "data": {
      "text/html": [
       "<style>#sk-container-id-12 {color: black;background-color: white;}#sk-container-id-12 pre{padding: 0;}#sk-container-id-12 div.sk-toggleable {background-color: white;}#sk-container-id-12 label.sk-toggleable__label {cursor: pointer;display: block;width: 100%;margin-bottom: 0;padding: 0.3em;box-sizing: border-box;text-align: center;}#sk-container-id-12 label.sk-toggleable__label-arrow:before {content: \"▸\";float: left;margin-right: 0.25em;color: #696969;}#sk-container-id-12 label.sk-toggleable__label-arrow:hover:before {color: black;}#sk-container-id-12 div.sk-estimator:hover label.sk-toggleable__label-arrow:before {color: black;}#sk-container-id-12 div.sk-toggleable__content {max-height: 0;max-width: 0;overflow: hidden;text-align: left;background-color: #f0f8ff;}#sk-container-id-12 div.sk-toggleable__content pre {margin: 0.2em;color: black;border-radius: 0.25em;background-color: #f0f8ff;}#sk-container-id-12 input.sk-toggleable__control:checked~div.sk-toggleable__content {max-height: 200px;max-width: 100%;overflow: auto;}#sk-container-id-12 input.sk-toggleable__control:checked~label.sk-toggleable__label-arrow:before {content: \"▾\";}#sk-container-id-12 div.sk-estimator input.sk-toggleable__control:checked~label.sk-toggleable__label {background-color: #d4ebff;}#sk-container-id-12 div.sk-label input.sk-toggleable__control:checked~label.sk-toggleable__label {background-color: #d4ebff;}#sk-container-id-12 input.sk-hidden--visually {border: 0;clip: rect(1px 1px 1px 1px);clip: rect(1px, 1px, 1px, 1px);height: 1px;margin: -1px;overflow: hidden;padding: 0;position: absolute;width: 1px;}#sk-container-id-12 div.sk-estimator {font-family: monospace;background-color: #f0f8ff;border: 1px dotted black;border-radius: 0.25em;box-sizing: border-box;margin-bottom: 0.5em;}#sk-container-id-12 div.sk-estimator:hover {background-color: #d4ebff;}#sk-container-id-12 div.sk-parallel-item::after {content: \"\";width: 100%;border-bottom: 1px solid gray;flex-grow: 1;}#sk-container-id-12 div.sk-label:hover label.sk-toggleable__label {background-color: #d4ebff;}#sk-container-id-12 div.sk-serial::before {content: \"\";position: absolute;border-left: 1px solid gray;box-sizing: border-box;top: 0;bottom: 0;left: 50%;z-index: 0;}#sk-container-id-12 div.sk-serial {display: flex;flex-direction: column;align-items: center;background-color: white;padding-right: 0.2em;padding-left: 0.2em;position: relative;}#sk-container-id-12 div.sk-item {position: relative;z-index: 1;}#sk-container-id-12 div.sk-parallel {display: flex;align-items: stretch;justify-content: center;background-color: white;position: relative;}#sk-container-id-12 div.sk-item::before, #sk-container-id-12 div.sk-parallel-item::before {content: \"\";position: absolute;border-left: 1px solid gray;box-sizing: border-box;top: 0;bottom: 0;left: 50%;z-index: -1;}#sk-container-id-12 div.sk-parallel-item {display: flex;flex-direction: column;z-index: 1;position: relative;background-color: white;}#sk-container-id-12 div.sk-parallel-item:first-child::after {align-self: flex-end;width: 50%;}#sk-container-id-12 div.sk-parallel-item:last-child::after {align-self: flex-start;width: 50%;}#sk-container-id-12 div.sk-parallel-item:only-child::after {width: 0;}#sk-container-id-12 div.sk-dashed-wrapped {border: 1px dashed gray;margin: 0 0.4em 0.5em 0.4em;box-sizing: border-box;padding-bottom: 0.4em;background-color: white;}#sk-container-id-12 div.sk-label label {font-family: monospace;font-weight: bold;display: inline-block;line-height: 1.2em;}#sk-container-id-12 div.sk-label-container {text-align: center;}#sk-container-id-12 div.sk-container {/* jupyter's `normalize.less` sets `[hidden] { display: none; }` but bootstrap.min.css set `[hidden] { display: none !important; }` so we also need the `!important` here to be able to override the default hidden behavior on the sphinx rendered scikit-learn.org. See: https://github.com/scikit-learn/scikit-learn/issues/21755 */display: inline-block !important;position: relative;}#sk-container-id-12 div.sk-text-repr-fallback {display: none;}</style><div id=\"sk-container-id-12\" class=\"sk-top-container\"><div class=\"sk-text-repr-fallback\"><pre>CountVectorizer()</pre><b>In a Jupyter environment, please rerun this cell to show the HTML representation or trust the notebook. <br />On GitHub, the HTML representation is unable to render, please try loading this page with nbviewer.org.</b></div><div class=\"sk-container\" hidden><div class=\"sk-item\"><div class=\"sk-estimator sk-toggleable\"><input class=\"sk-toggleable__control sk-hidden--visually\" id=\"sk-estimator-id-16\" type=\"checkbox\" checked><label for=\"sk-estimator-id-16\" class=\"sk-toggleable__label sk-toggleable__label-arrow\">CountVectorizer</label><div class=\"sk-toggleable__content\"><pre>CountVectorizer()</pre></div></div></div></div></div>"
      ],
      "text/plain": [
       "CountVectorizer()"
      ]
     },
     "execution_count": 120,
     "metadata": {},
     "output_type": "execute_result"
    }
   ],
   "source": [
    "cvec = CountVectorizer()\n",
    "cvec.fit(X_train)"
   ]
  },
  {
   "cell_type": "code",
   "execution_count": 121,
   "id": "59279fc1-c30b-455d-b772-3d0a5098bce5",
   "metadata": {},
   "outputs": [],
   "source": [
    "X_coll_cv = cvec.transform(X_coll)"
   ]
  },
  {
   "cell_type": "code",
   "execution_count": 123,
   "id": "bde35a84-4c21-4a0f-8a97-854be9e54148",
   "metadata": {},
   "outputs": [],
   "source": [
    "rf.fit(X_train_cv, y_train)\n",
    "coll_predictions = rf.predict(X_coll_cv)"
   ]
  },
  {
   "cell_type": "code",
   "execution_count": 124,
   "id": "7ba086d1-9997-4e50-9b78-273938d35cb0",
   "metadata": {},
   "outputs": [
    {
     "name": "stdout",
     "output_type": "stream",
     "text": [
      "              precision    recall  f1-score   support\n",
      "\n",
      "           0      0.977     1.000     0.988      1632\n",
      "           1      0.000     0.000     0.000        38\n",
      "\n",
      "    accuracy                          0.977      1670\n",
      "   macro avg      0.489     0.500     0.494      1670\n",
      "weighted avg      0.955     0.977     0.966      1670\n",
      "\n"
     ]
    },
    {
     "name": "stderr",
     "output_type": "stream",
     "text": [
      "C:\\Users\\mudep\\anaconda3\\Lib\\site-packages\\sklearn\\metrics\\_classification.py:1344: UndefinedMetricWarning: Precision and F-score are ill-defined and being set to 0.0 in labels with no predicted samples. Use `zero_division` parameter to control this behavior.\n",
      "  _warn_prf(average, modifier, msg_start, len(result))\n",
      "C:\\Users\\mudep\\anaconda3\\Lib\\site-packages\\sklearn\\metrics\\_classification.py:1344: UndefinedMetricWarning: Precision and F-score are ill-defined and being set to 0.0 in labels with no predicted samples. Use `zero_division` parameter to control this behavior.\n",
      "  _warn_prf(average, modifier, msg_start, len(result))\n",
      "C:\\Users\\mudep\\anaconda3\\Lib\\site-packages\\sklearn\\metrics\\_classification.py:1344: UndefinedMetricWarning: Precision and F-score are ill-defined and being set to 0.0 in labels with no predicted samples. Use `zero_division` parameter to control this behavior.\n",
      "  _warn_prf(average, modifier, msg_start, len(result))\n"
     ]
    }
   ],
   "source": [
    "print(classification_report(coll_predictions, y_coll, digits = 3))"
   ]
  },
  {
   "cell_type": "code",
   "execution_count": 125,
   "id": "c32979e8-e0cb-43cb-85a6-176fbff5b0de",
   "metadata": {},
   "outputs": [
    {
     "data": {
      "image/png": "[encoded data removed]",
      "text/plain": [
       "<Figure size 640x480 with 2 Axes>"
      ]
     },
     "metadata": {},
     "output_type": "display_data"
    }
   ],
   "source": [
    "ConfusionMatrixDisplay.from_predictions(y_coll, coll_predictions, cmap = 'Blues')\n",
    "plt.title('Correlation between True and Predicted label', weight = 'bold');"
   ]
  },
  {
   "cell_type": "markdown",
   "id": "a7c0a2d5-48be-4930-a4a0-bc6b202ba94f",
   "metadata": {},
   "source": [
    "## *Vulgar language warning!!!!*\n",
    "\n",
    "#### List of all false predicetd posts "
   ]
  },
  {
   "cell_type": "code",
   "execution_count": 45,
   "id": "1718c284-195f-4d03-a0d4-139e02235bd0",
   "metadata": {},
   "outputs": [],
   "source": [
    "pred_colls = pd.DataFrame(coll_predictions, columns=['predictions'])"
   ]
  },
  {
   "cell_type": "code",
   "execution_count": 72,
   "id": "7ccd4aa5-92e8-4e6d-a398-eef7e19a1199",
   "metadata": {
    "scrolled": true
   },
   "outputs": [
    {
     "data": {
      "text/html": [
       "<div>\n",
       "<style scoped>\n",
       "    .dataframe tbody tr th:only-of-type {\n",
       "        vertical-align: middle;\n",
       "    }\n",
       "\n",
       "    .dataframe tbody tr th {\n",
       "        vertical-align: top;\n",
       "    }\n",
       "\n",
       "    .dataframe thead th {\n",
       "        text-align: right;\n",
       "    }\n",
       "</style>\n",
       "<table border=\"1\" class=\"dataframe\">\n",
       "  <thead>\n",
       "    <tr style=\"text-align: right;\">\n",
       "      <th></th>\n",
       "      <th>post</th>\n",
       "      <th>sent_score</th>\n",
       "      <th>post_tokenized</th>\n",
       "      <th>post_lemmatized</th>\n",
       "      <th>joined_words</th>\n",
       "    </tr>\n",
       "  </thead>\n",
       "  <tbody>\n",
       "    <tr>\n",
       "      <th>41</th>\n",
       "      <td>walked in on my roommate sucking his own dicki...</td>\n",
       "      <td>0</td>\n",
       "      <td>['walked', 'roommate', 'sucking', 'dicki', 'ho...</td>\n",
       "      <td>['walked', 'roommate', 'suck', 'dicki', 'hones...</td>\n",
       "      <td>walked roommate suck dicki honestly mind much ...</td>\n",
       "    </tr>\n",
       "    <tr>\n",
       "      <th>43</th>\n",
       "      <td>tip for people using zoomyour teachers will kn...</td>\n",
       "      <td>0</td>\n",
       "      <td>['tip', 'people', 'using', 'zoomyour', 'teache...</td>\n",
       "      <td>['tip', 'people', 'use', 'zoomyour', 'teacher'...</td>\n",
       "      <td>tip people use zoomyour teacher know zoom like...</td>\n",
       "    </tr>\n",
       "    <tr>\n",
       "      <th>45</th>\n",
       "      <td>it’s honestly disgusting what happened to easy...</td>\n",
       "      <td>0</td>\n",
       "      <td>['honestly', 'disgusting', 'happened', 'easybi...</td>\n",
       "      <td>['honestly', 'disgust', 'happen', 'easybibyoun...</td>\n",
       "      <td>honestly disgust happen easybibyounger zoomers...</td>\n",
       "    </tr>\n",
       "    <tr>\n",
       "      <th>51</th>\n",
       "      <td>roomate goes to bed so early and gets annoyed ...</td>\n",
       "      <td>0</td>\n",
       "      <td>['roomate', 'goes', 'bed', 'early', 'gets', 'a...</td>\n",
       "      <td>['roomate', 'go', 'bed', 'early', 'get', 'anno...</td>\n",
       "      <td>roomate go bed early get annoy tok move dorm f...</td>\n",
       "    </tr>\n",
       "    <tr>\n",
       "      <th>100</th>\n",
       "      <td>i don't know who needs to hear this, but... . ...</td>\n",
       "      <td>0</td>\n",
       "      <td>['know', 'needs', 'hear', 'go', 'drink', 'glas...</td>\n",
       "      <td>['know', 'need', 'hear', 'go', 'drink', 'glass...</td>\n",
       "      <td>know need hear go drink glass water eat health...</td>\n",
       "    </tr>\n",
       "    <tr>\n",
       "      <th>129</th>\n",
       "      <td>quarantine group chatbecause you’re bored and ...</td>\n",
       "      <td>0</td>\n",
       "      <td>['quarantine', 'group', 'chatbecause', 'bored'...</td>\n",
       "      <td>['quarantine', 'group', 'chatbecause', 'bore',...</td>\n",
       "      <td>quarantine group chatbecause bore new</td>\n",
       "    </tr>\n",
       "    <tr>\n",
       "      <th>133</th>\n",
       "      <td>ladies, if your backpack is fully pulling up t...</td>\n",
       "      <td>0</td>\n",
       "      <td>['ladies', 'backpack', 'fully', 'pulling', 'ba...</td>\n",
       "      <td>['lady', 'backpack', 'fully', 'pull', 'back', ...</td>\n",
       "      <td>lady backpack fully pull back skirt tell every...</td>\n",
       "    </tr>\n",
       "    <tr>\n",
       "      <th>158</th>\n",
       "      <td>should i tell my roommate he shakes our bunk b...</td>\n",
       "      <td>0</td>\n",
       "      <td>['tell', 'roommate', 'shakes', 'bunk', 'beds',...</td>\n",
       "      <td>['tell', 'roommate', 'shake', 'bunk', 'bed', '...</td>\n",
       "      <td>tell roommate shake bunk bed he rub one roomma...</td>\n",
       "    </tr>\n",
       "    <tr>\n",
       "      <th>173</th>\n",
       "      <td>get your flu shotsseriously guys. just go to c...</td>\n",
       "      <td>0</td>\n",
       "      <td>['get', 'flu', 'shotsseriously', 'guys', 'go',...</td>\n",
       "      <td>['get', 'flu', 'shotsseriously', 'guy', 'go', ...</td>\n",
       "      <td>get flu shotsseriously guy go cvs get free flu...</td>\n",
       "    </tr>\n",
       "    <tr>\n",
       "      <th>210</th>\n",
       "      <td>people who's schools skipped spring break, how...</td>\n",
       "      <td>0</td>\n",
       "      <td>['people', 'schools', 'skipped', 'spring', 'br...</td>\n",
       "      <td>['people', 'school', 'skip', 'spring', 'break'...</td>\n",
       "      <td>people school skip spring break well</td>\n",
       "    </tr>\n",
       "    <tr>\n",
       "      <th>254</th>\n",
       "      <td>is it rude to my dorm roommate if i go home ev...</td>\n",
       "      <td>0</td>\n",
       "      <td>['rude', 'dorm', 'roommate', 'go', 'home', 'ev...</td>\n",
       "      <td>['rude', 'dorm', 'roommate', 'go', 'home', 'ev...</td>\n",
       "      <td>rude dorm roommate go home every weekendokay g...</td>\n",
       "    </tr>\n",
       "    <tr>\n",
       "      <th>278</th>\n",
       "      <td>do not, under any circumstances, attempt to ma...</td>\n",
       "      <td>0</td>\n",
       "      <td>['circumstances', 'attempt', 'make', 'macaroni...</td>\n",
       "      <td>['circumstance', 'attempt', 'make', 'macaroni'...</td>\n",
       "      <td>circumstance attempt make macaroni cheese elec...</td>\n",
       "    </tr>\n",
       "    <tr>\n",
       "      <th>330</th>\n",
       "      <td>let's share misunderstandings about college!i ...</td>\n",
       "      <td>0</td>\n",
       "      <td>['let', 'share', 'misunderstandings', 'college...</td>\n",
       "      <td>['let', 'share', 'misunderstanding', 'college'...</td>\n",
       "      <td>let share misunderstanding college one story s...</td>\n",
       "    </tr>\n",
       "    <tr>\n",
       "      <th>376</th>\n",
       "      <td>just wet my bed what do i doi wet my bed last ...</td>\n",
       "      <td>0</td>\n",
       "      <td>['wet', 'bed', 'doi', 'wet', 'bed', 'last', 'n...</td>\n",
       "      <td>['wet', 'bed', 'doi', 'wet', 'bed', 'last', 'n...</td>\n",
       "      <td>wet bed doi wet bed last night right go remove...</td>\n",
       "    </tr>\n",
       "    <tr>\n",
       "      <th>398</th>\n",
       "      <td>i know you’re procrastinatingget off reddit</td>\n",
       "      <td>0</td>\n",
       "      <td>['know', 'procrastinatingget', 'reddit']</td>\n",
       "      <td>['know', 'procrastinatingget', 'reddit']</td>\n",
       "      <td>know procrastinatingget reddit</td>\n",
       "    </tr>\n",
       "    <tr>\n",
       "      <th>405</th>\n",
       "      <td>slader is gone, and it should be missed.can we...</td>\n",
       "      <td>0</td>\n",
       "      <td>['slader', 'gone', 'missed', 'get', 'f', 'chat...</td>\n",
       "      <td>['slader', 'go', 'missed', 'get', 'f', 'chat',...</td>\n",
       "      <td>slader go missed get f chat slader punt shadow...</td>\n",
       "    </tr>\n",
       "    <tr>\n",
       "      <th>443</th>\n",
       "      <td>don’t compete over your trialsyou guys are all...</td>\n",
       "      <td>0</td>\n",
       "      <td>['compete', 'trialsyou', 'guys', 'great', 'thi...</td>\n",
       "      <td>['compete', 'trialsyou', 'guy', 'great', 'thin...</td>\n",
       "      <td>compete trialsyou guy great thing concern freq...</td>\n",
       "    </tr>\n",
       "    <tr>\n",
       "      <th>533</th>\n",
       "      <td>well it’s officially spring break, and to cele...</td>\n",
       "      <td>0</td>\n",
       "      <td>['well', 'officially', 'spring', 'break', 'cel...</td>\n",
       "      <td>['well', 'officially', 'spring', 'break', 'cel...</td>\n",
       "      <td>well officially spring break celebrate bomb mi...</td>\n",
       "    </tr>\n",
       "    <tr>\n",
       "      <th>574</th>\n",
       "      <td>how is respondus browser even legal.it’s such ...</td>\n",
       "      <td>0</td>\n",
       "      <td>['respondus', 'browser', 'even', 'legal', 'inv...</td>\n",
       "      <td>['respondus', 'browser', 'even', 'legal', 'inv...</td>\n",
       "      <td>respondus browser even legal invasion privacy ...</td>\n",
       "    </tr>\n",
       "    <tr>\n",
       "      <th>606</th>\n",
       "      <td>[meta] can we please ban \"am it too old for x\"...</td>\n",
       "      <td>0</td>\n",
       "      <td>['meta', 'please', 'ban', 'old', 'x', 'posts',...</td>\n",
       "      <td>['meta', 'please', 'ban', 'old', 'x', 'post', ...</td>\n",
       "      <td>meta please ban old x post answer always there...</td>\n",
       "    </tr>\n",
       "    <tr>\n",
       "      <th>626</th>\n",
       "      <td>just found out i need a   on my chem final for...</td>\n",
       "      <td>0</td>\n",
       "      <td>['found', 'need', 'chem', 'final', 'ahype', 'x...</td>\n",
       "      <td>['find', 'need', 'chem', 'final', 'ahype', 'x'...</td>\n",
       "      <td>find need chem final ahype x b edit end get fi...</td>\n",
       "    </tr>\n",
       "    <tr>\n",
       "      <th>659</th>\n",
       "      <td>i love it when teachers put memes on their sli...</td>\n",
       "      <td>0</td>\n",
       "      <td>['love', 'teachers', 'put', 'memes', 'slidesi'...</td>\n",
       "      <td>['love', 'teacher', 'put', 'meme', 'slidesi', ...</td>\n",
       "      <td>love teacher put meme slidesi notice friend fi...</td>\n",
       "    </tr>\n",
       "    <tr>\n",
       "      <th>761</th>\n",
       "      <td>i need to conjure up the motivation to do my o...</td>\n",
       "      <td>0</td>\n",
       "      <td>['need', 'conjure', 'motivation', 'online', 'c...</td>\n",
       "      <td>['need', 'conjure', 'motivation', 'online', 'c...</td>\n",
       "      <td>need conjure motivation online classwork work ...</td>\n",
       "    </tr>\n",
       "    <tr>\n",
       "      <th>865</th>\n",
       "      <td>how to deal with a loud snoreri think its simp...</td>\n",
       "      <td>0</td>\n",
       "      <td>['deal', 'loud', 'snoreri', 'think', 'simply',...</td>\n",
       "      <td>['deal', 'loud', 'snoreri', 'think', 'simply',...</td>\n",
       "      <td>deal loud snoreri think simply unfair loud as ...</td>\n",
       "    </tr>\n",
       "    <tr>\n",
       "      <th>868</th>\n",
       "      <td>what would you suggest for new grads?hey. what...</td>\n",
       "      <td>0</td>\n",
       "      <td>['would', 'suggest', 'new', 'grads', 'hey', 'w...</td>\n",
       "      <td>['would', 'suggest', 'new', 'grad', 'hey', 'wo...</td>\n",
       "      <td>would suggest new grad hey would suggest new g...</td>\n",
       "    </tr>\n",
       "    <tr>\n",
       "      <th>883</th>\n",
       "      <td>msc business analytics sopi’m writing my sop f...</td>\n",
       "      <td>0</td>\n",
       "      <td>['msc', 'business', 'analytics', 'sopi', 'writ...</td>\n",
       "      <td>['msc', 'business', 'analytics', 'sopi', 'writ...</td>\n",
       "      <td>msc business analytics sopi write sop msc busi...</td>\n",
       "    </tr>\n",
       "    <tr>\n",
       "      <th>955</th>\n",
       "      <td>archaeology degreei really want to pursue arch...</td>\n",
       "      <td>0</td>\n",
       "      <td>['archaeology', 'degreei', 'really', 'want', '...</td>\n",
       "      <td>['archaeology', 'degreei', 'really', 'want', '...</td>\n",
       "      <td>archaeology degreei really want pursue archaeo...</td>\n",
       "    </tr>\n",
       "    <tr>\n",
       "      <th>1003</th>\n",
       "      <td>should i get an acting degree of drama degree?...</td>\n",
       "      <td>0</td>\n",
       "      <td>['get', 'acting', 'degree', 'drama', 'degree',...</td>\n",
       "      <td>['get', 'acting', 'degree', 'drama', 'degree',...</td>\n",
       "      <td>get acting degree drama degree know right flai...</td>\n",
       "    </tr>\n",
       "    <tr>\n",
       "      <th>1099</th>\n",
       "      <td>microsoft two factor authentication is beyond ...</td>\n",
       "      <td>0</td>\n",
       "      <td>['microsoft', 'two', 'factor', 'authentication...</td>\n",
       "      <td>['microsoft', 'two', 'factor', 'authentication...</td>\n",
       "      <td>microsoft two factor authentication beyond inf...</td>\n",
       "    </tr>\n",
       "    <tr>\n",
       "      <th>1148</th>\n",
       "      <td>how to find fall   internships?so i have secur...</td>\n",
       "      <td>0</td>\n",
       "      <td>['find', 'fall', 'internships', 'secured', 'su...</td>\n",
       "      <td>['find', 'fall', 'internship', 'secure', 'summ...</td>\n",
       "      <td>find fall internship secure summer internship ...</td>\n",
       "    </tr>\n",
       "    <tr>\n",
       "      <th>1161</th>\n",
       "      <td>neighbors blasting bass boosted musici live in...</td>\n",
       "      <td>0</td>\n",
       "      <td>['neighbors', 'blasting', 'bass', 'boosted', '...</td>\n",
       "      <td>['neighbor', 'blast', 'bass', 'boost', 'musici...</td>\n",
       "      <td>neighbor blast bass boost musici live dorm nei...</td>\n",
       "    </tr>\n",
       "    <tr>\n",
       "      <th>1372</th>\n",
       "      <td>what hobbies/interests/passions do you keep?la...</td>\n",
       "      <td>0</td>\n",
       "      <td>['hobbies', 'interests', 'passions', 'keep', '...</td>\n",
       "      <td>['hobby', 'interest', 'passion', 'keep', 'last...</td>\n",
       "      <td>hobby interest passion keep last night think f...</td>\n",
       "    </tr>\n",
       "    <tr>\n",
       "      <th>1444</th>\n",
       "      <td>how do you chase consistent motivation?i have ...</td>\n",
       "      <td>0</td>\n",
       "      <td>['chase', 'consistent', 'motivation', 'exams',...</td>\n",
       "      <td>['chase', 'consistent', 'motivation', 'exam', ...</td>\n",
       "      <td>chase consistent motivation exam saturday feel...</td>\n",
       "    </tr>\n",
       "    <tr>\n",
       "      <th>1491</th>\n",
       "      <td>causes for disciplinary probation?i’m curious ...</td>\n",
       "      <td>0</td>\n",
       "      <td>['causes', 'disciplinary', 'probation', 'curio...</td>\n",
       "      <td>['cause', 'disciplinary', 'probation', 'curiou...</td>\n",
       "      <td>cause disciplinary probation curious bad viola...</td>\n",
       "    </tr>\n",
       "    <tr>\n",
       "      <th>1612</th>\n",
       "      <td>girls, how often do you get cold approached by...</td>\n",
       "      <td>0</td>\n",
       "      <td>['girls', 'often', 'get', 'cold', 'approached'...</td>\n",
       "      <td>['girl', 'often', 'get', 'cold', 'approach', '...</td>\n",
       "      <td>girl often get cold approach guy campus like s...</td>\n",
       "    </tr>\n",
       "  </tbody>\n",
       "</table>\n",
       "</div>"
      ],
      "text/plain": [
       "                                                   post  sent_score  \\\n",
       "41    walked in on my roommate sucking his own dicki...           0   \n",
       "43    tip for people using zoomyour teachers will kn...           0   \n",
       "45    it’s honestly disgusting what happened to easy...           0   \n",
       "51    roomate goes to bed so early and gets annoyed ...           0   \n",
       "100   i don't know who needs to hear this, but... . ...           0   \n",
       "129   quarantine group chatbecause you’re bored and ...           0   \n",
       "133   ladies, if your backpack is fully pulling up t...           0   \n",
       "158   should i tell my roommate he shakes our bunk b...           0   \n",
       "173   get your flu shotsseriously guys. just go to c...           0   \n",
       "210   people who's schools skipped spring break, how...           0   \n",
       "254   is it rude to my dorm roommate if i go home ev...           0   \n",
       "278   do not, under any circumstances, attempt to ma...           0   \n",
       "330   let's share misunderstandings about college!i ...           0   \n",
       "376   just wet my bed what do i doi wet my bed last ...           0   \n",
       "398         i know you’re procrastinatingget off reddit           0   \n",
       "405   slader is gone, and it should be missed.can we...           0   \n",
       "443   don’t compete over your trialsyou guys are all...           0   \n",
       "533   well it’s officially spring break, and to cele...           0   \n",
       "574   how is respondus browser even legal.it’s such ...           0   \n",
       "606   [meta] can we please ban \"am it too old for x\"...           0   \n",
       "626   just found out i need a   on my chem final for...           0   \n",
       "659   i love it when teachers put memes on their sli...           0   \n",
       "761   i need to conjure up the motivation to do my o...           0   \n",
       "865   how to deal with a loud snoreri think its simp...           0   \n",
       "868   what would you suggest for new grads?hey. what...           0   \n",
       "883   msc business analytics sopi’m writing my sop f...           0   \n",
       "955   archaeology degreei really want to pursue arch...           0   \n",
       "1003  should i get an acting degree of drama degree?...           0   \n",
       "1099  microsoft two factor authentication is beyond ...           0   \n",
       "1148  how to find fall   internships?so i have secur...           0   \n",
       "1161  neighbors blasting bass boosted musici live in...           0   \n",
       "1372  what hobbies/interests/passions do you keep?la...           0   \n",
       "1444  how do you chase consistent motivation?i have ...           0   \n",
       "1491  causes for disciplinary probation?i’m curious ...           0   \n",
       "1612  girls, how often do you get cold approached by...           0   \n",
       "\n",
       "                                         post_tokenized  \\\n",
       "41    ['walked', 'roommate', 'sucking', 'dicki', 'ho...   \n",
       "43    ['tip', 'people', 'using', 'zoomyour', 'teache...   \n",
       "45    ['honestly', 'disgusting', 'happened', 'easybi...   \n",
       "51    ['roomate', 'goes', 'bed', 'early', 'gets', 'a...   \n",
       "100   ['know', 'needs', 'hear', 'go', 'drink', 'glas...   \n",
       "129   ['quarantine', 'group', 'chatbecause', 'bored'...   \n",
       "133   ['ladies', 'backpack', 'fully', 'pulling', 'ba...   \n",
       "158   ['tell', 'roommate', 'shakes', 'bunk', 'beds',...   \n",
       "173   ['get', 'flu', 'shotsseriously', 'guys', 'go',...   \n",
       "210   ['people', 'schools', 'skipped', 'spring', 'br...   \n",
       "254   ['rude', 'dorm', 'roommate', 'go', 'home', 'ev...   \n",
       "278   ['circumstances', 'attempt', 'make', 'macaroni...   \n",
       "330   ['let', 'share', 'misunderstandings', 'college...   \n",
       "376   ['wet', 'bed', 'doi', 'wet', 'bed', 'last', 'n...   \n",
       "398            ['know', 'procrastinatingget', 'reddit']   \n",
       "405   ['slader', 'gone', 'missed', 'get', 'f', 'chat...   \n",
       "443   ['compete', 'trialsyou', 'guys', 'great', 'thi...   \n",
       "533   ['well', 'officially', 'spring', 'break', 'cel...   \n",
       "574   ['respondus', 'browser', 'even', 'legal', 'inv...   \n",
       "606   ['meta', 'please', 'ban', 'old', 'x', 'posts',...   \n",
       "626   ['found', 'need', 'chem', 'final', 'ahype', 'x...   \n",
       "659   ['love', 'teachers', 'put', 'memes', 'slidesi'...   \n",
       "761   ['need', 'conjure', 'motivation', 'online', 'c...   \n",
       "865   ['deal', 'loud', 'snoreri', 'think', 'simply',...   \n",
       "868   ['would', 'suggest', 'new', 'grads', 'hey', 'w...   \n",
       "883   ['msc', 'business', 'analytics', 'sopi', 'writ...   \n",
       "955   ['archaeology', 'degreei', 'really', 'want', '...   \n",
       "1003  ['get', 'acting', 'degree', 'drama', 'degree',...   \n",
       "1099  ['microsoft', 'two', 'factor', 'authentication...   \n",
       "1148  ['find', 'fall', 'internships', 'secured', 'su...   \n",
       "1161  ['neighbors', 'blasting', 'bass', 'boosted', '...   \n",
       "1372  ['hobbies', 'interests', 'passions', 'keep', '...   \n",
       "1444  ['chase', 'consistent', 'motivation', 'exams',...   \n",
       "1491  ['causes', 'disciplinary', 'probation', 'curio...   \n",
       "1612  ['girls', 'often', 'get', 'cold', 'approached'...   \n",
       "\n",
       "                                        post_lemmatized  \\\n",
       "41    ['walked', 'roommate', 'suck', 'dicki', 'hones...   \n",
       "43    ['tip', 'people', 'use', 'zoomyour', 'teacher'...   \n",
       "45    ['honestly', 'disgust', 'happen', 'easybibyoun...   \n",
       "51    ['roomate', 'go', 'bed', 'early', 'get', 'anno...   \n",
       "100   ['know', 'need', 'hear', 'go', 'drink', 'glass...   \n",
       "129   ['quarantine', 'group', 'chatbecause', 'bore',...   \n",
       "133   ['lady', 'backpack', 'fully', 'pull', 'back', ...   \n",
       "158   ['tell', 'roommate', 'shake', 'bunk', 'bed', '...   \n",
       "173   ['get', 'flu', 'shotsseriously', 'guy', 'go', ...   \n",
       "210   ['people', 'school', 'skip', 'spring', 'break'...   \n",
       "254   ['rude', 'dorm', 'roommate', 'go', 'home', 'ev...   \n",
       "278   ['circumstance', 'attempt', 'make', 'macaroni'...   \n",
       "330   ['let', 'share', 'misunderstanding', 'college'...   \n",
       "376   ['wet', 'bed', 'doi', 'wet', 'bed', 'last', 'n...   \n",
       "398            ['know', 'procrastinatingget', 'reddit']   \n",
       "405   ['slader', 'go', 'missed', 'get', 'f', 'chat',...   \n",
       "443   ['compete', 'trialsyou', 'guy', 'great', 'thin...   \n",
       "533   ['well', 'officially', 'spring', 'break', 'cel...   \n",
       "574   ['respondus', 'browser', 'even', 'legal', 'inv...   \n",
       "606   ['meta', 'please', 'ban', 'old', 'x', 'post', ...   \n",
       "626   ['find', 'need', 'chem', 'final', 'ahype', 'x'...   \n",
       "659   ['love', 'teacher', 'put', 'meme', 'slidesi', ...   \n",
       "761   ['need', 'conjure', 'motivation', 'online', 'c...   \n",
       "865   ['deal', 'loud', 'snoreri', 'think', 'simply',...   \n",
       "868   ['would', 'suggest', 'new', 'grad', 'hey', 'wo...   \n",
       "883   ['msc', 'business', 'analytics', 'sopi', 'writ...   \n",
       "955   ['archaeology', 'degreei', 'really', 'want', '...   \n",
       "1003  ['get', 'acting', 'degree', 'drama', 'degree',...   \n",
       "1099  ['microsoft', 'two', 'factor', 'authentication...   \n",
       "1148  ['find', 'fall', 'internship', 'secure', 'summ...   \n",
       "1161  ['neighbor', 'blast', 'bass', 'boost', 'musici...   \n",
       "1372  ['hobby', 'interest', 'passion', 'keep', 'last...   \n",
       "1444  ['chase', 'consistent', 'motivation', 'exam', ...   \n",
       "1491  ['cause', 'disciplinary', 'probation', 'curiou...   \n",
       "1612  ['girl', 'often', 'get', 'cold', 'approach', '...   \n",
       "\n",
       "                                           joined_words  \n",
       "41    walked roommate suck dicki honestly mind much ...  \n",
       "43    tip people use zoomyour teacher know zoom like...  \n",
       "45    honestly disgust happen easybibyounger zoomers...  \n",
       "51    roomate go bed early get annoy tok move dorm f...  \n",
       "100   know need hear go drink glass water eat health...  \n",
       "129               quarantine group chatbecause bore new  \n",
       "133   lady backpack fully pull back skirt tell every...  \n",
       "158   tell roommate shake bunk bed he rub one roomma...  \n",
       "173   get flu shotsseriously guy go cvs get free flu...  \n",
       "210                people school skip spring break well  \n",
       "254   rude dorm roommate go home every weekendokay g...  \n",
       "278   circumstance attempt make macaroni cheese elec...  \n",
       "330   let share misunderstanding college one story s...  \n",
       "376   wet bed doi wet bed last night right go remove...  \n",
       "398                      know procrastinatingget reddit  \n",
       "405   slader go missed get f chat slader punt shadow...  \n",
       "443   compete trialsyou guy great thing concern freq...  \n",
       "533   well officially spring break celebrate bomb mi...  \n",
       "574   respondus browser even legal invasion privacy ...  \n",
       "606   meta please ban old x post answer always there...  \n",
       "626   find need chem final ahype x b edit end get fi...  \n",
       "659   love teacher put meme slidesi notice friend fi...  \n",
       "761   need conjure motivation online classwork work ...  \n",
       "865   deal loud snoreri think simply unfair loud as ...  \n",
       "868   would suggest new grad hey would suggest new g...  \n",
       "883   msc business analytics sopi write sop msc busi...  \n",
       "955   archaeology degreei really want pursue archaeo...  \n",
       "1003  get acting degree drama degree know right flai...  \n",
       "1099  microsoft two factor authentication beyond inf...  \n",
       "1148  find fall internship secure summer internship ...  \n",
       "1161  neighbor blast bass boost musici live dorm nei...  \n",
       "1372  hobby interest passion keep last night think f...  \n",
       "1444  chase consistent motivation exam saturday feel...  \n",
       "1491  cause disciplinary probation curious bad viola...  \n",
       "1612  girl often get cold approach guy campus like s...  "
      ]
     },
     "execution_count": 72,
     "metadata": {},
     "output_type": "execute_result"
    }
   ],
   "source": [
    "\n",
    "false_pred = college.iloc[pred_colls[pred_colls['predictions'] == 1].index]\n",
    "false_pred"
   ]
  },
  {
   "cell_type": "markdown",
   "id": "f81d297c-4d6a-45d6-8e6e-074695494aa4",
   "metadata": {},
   "source": [
    "### Generate a plot based on scores from all models that applied to lemmetized posts"
   ]
  },
  {
   "cell_type": "code",
   "execution_count": 133,
   "id": "94728849-9f1d-4518-b1e9-6401e2777e62",
   "metadata": {},
   "outputs": [],
   "source": [
    "score = [\n",
    "    ['baseModel', 0.46, 0],\n",
    "    ['LogReg', 1, 0.96],\n",
    "    ['RandomForest', 0.96, 0.92],\n",
    "    ['MultinomialNB', 0.98, 0.95],\n",
    "    ['BernoulliNB', 0.98, 0.95],\n",
    "    ['LinearSVC', 1, 0.95]\n",
    "    \n",
    "]"
   ]
  },
  {
   "cell_type": "code",
   "execution_count": 134,
   "id": "3b809b40-cf35-4216-beb9-214afaa8dc41",
   "metadata": {},
   "outputs": [],
   "source": [
    "dfscore  = pd.DataFrame(score, columns = ['ML Model', 'Train', 'Test'])"
   ]
  },
  {
   "cell_type": "code",
   "execution_count": 135,
   "id": "901092fe-c432-4e93-8562-5c954991501b",
   "metadata": {},
   "outputs": [
    {
     "data": {
      "text/html": [
       "<div>\n",
       "<style scoped>\n",
       "    .dataframe tbody tr th:only-of-type {\n",
       "        vertical-align: middle;\n",
       "    }\n",
       "\n",
       "    .dataframe tbody tr th {\n",
       "        vertical-align: top;\n",
       "    }\n",
       "\n",
       "    .dataframe thead th {\n",
       "        text-align: right;\n",
       "    }\n",
       "</style>\n",
       "<table border=\"1\" class=\"dataframe\">\n",
       "  <thead>\n",
       "    <tr style=\"text-align: right;\">\n",
       "      <th></th>\n",
       "      <th>ML Model</th>\n",
       "      <th>Train</th>\n",
       "      <th>Test</th>\n",
       "    </tr>\n",
       "  </thead>\n",
       "  <tbody>\n",
       "    <tr>\n",
       "      <th>0</th>\n",
       "      <td>baseModel</td>\n",
       "      <td>0.46</td>\n",
       "      <td>0.00</td>\n",
       "    </tr>\n",
       "    <tr>\n",
       "      <th>1</th>\n",
       "      <td>LogReg</td>\n",
       "      <td>1.00</td>\n",
       "      <td>0.96</td>\n",
       "    </tr>\n",
       "    <tr>\n",
       "      <th>2</th>\n",
       "      <td>RandomForest</td>\n",
       "      <td>0.96</td>\n",
       "      <td>0.92</td>\n",
       "    </tr>\n",
       "    <tr>\n",
       "      <th>3</th>\n",
       "      <td>MultinomialNB</td>\n",
       "      <td>0.98</td>\n",
       "      <td>0.95</td>\n",
       "    </tr>\n",
       "    <tr>\n",
       "      <th>4</th>\n",
       "      <td>BernoulliNB</td>\n",
       "      <td>0.98</td>\n",
       "      <td>0.95</td>\n",
       "    </tr>\n",
       "    <tr>\n",
       "      <th>5</th>\n",
       "      <td>LinearSVC</td>\n",
       "      <td>1.00</td>\n",
       "      <td>0.95</td>\n",
       "    </tr>\n",
       "  </tbody>\n",
       "</table>\n",
       "</div>"
      ],
      "text/plain": [
       "        ML Model  Train  Test\n",
       "0      baseModel   0.46  0.00\n",
       "1         LogReg   1.00  0.96\n",
       "2   RandomForest   0.96  0.92\n",
       "3  MultinomialNB   0.98  0.95\n",
       "4    BernoulliNB   0.98  0.95\n",
       "5      LinearSVC   1.00  0.95"
      ]
     },
     "execution_count": 135,
     "metadata": {},
     "output_type": "execute_result"
    }
   ],
   "source": [
    "dfscore "
   ]
  },
  {
   "cell_type": "code",
   "execution_count": 136,
   "id": "f85ab912-38d5-40e1-bb0b-e1677853da2f",
   "metadata": {},
   "outputs": [
    {
     "data": {
      "text/plain": [
       "<Figure size 400x400 with 0 Axes>"
      ]
     },
     "metadata": {},
     "output_type": "display_data"
    },
    {
     "data": {
      "image/png": "[encoded data removed]",
      "text/plain": [
       "<Figure size 640x480 with 1 Axes>"
      ]
     },
     "metadata": {},
     "output_type": "display_data"
    }
   ],
   "source": [
    "plt.figure(figsize = (4,4))\n",
    "dfscore.plot(x = 'ML Model', y = ['Train', 'Test'], kind = 'bar')\n",
    "plt.xlabel('ML model')\n",
    "plt.ylabel('Score')\n",
    "plt.ylim(0.45, 1.05)\n",
    "plt.title('ML model scores from sentiment analysis', weight = 'bold');"
   ]
  },
  {
   "cell_type": "code",
   "execution_count": null,
   "id": "91dd2169-561f-4cb0-915d-8736934641c0",
   "metadata": {},
   "outputs": [],
   "source": []
  },
  {
   "cell_type": "code",
   "execution_count": null,
   "id": "860808a5-8e0d-41b1-a867-9a37492f281d",
   "metadata": {},
   "outputs": [],
   "source": []
  },
  {
   "cell_type": "code",
   "execution_count": null,
   "id": "7b68fcf7-770b-497d-b299-5963160c3cff",
   "metadata": {},
   "outputs": [],
   "source": []
  }
 ],
 "metadata": {
  "kernelspec": {
   "display_name": "Python 3 (ipykernel)",
   "language": "python",
   "name": "python3"
  },
  "language_info": {
   "codemirror_mode": {
    "name": "ipython",
    "version": 3
   },
   "file_extension": ".py",
   "mimetype": "text/x-python",
   "name": "python",
   "nbconvert_exporter": "python",
   "pygments_lexer": "ipython3",
   "version": "3.11.5"
  }
 },
 "nbformat": 4,
 "nbformat_minor": 5
}

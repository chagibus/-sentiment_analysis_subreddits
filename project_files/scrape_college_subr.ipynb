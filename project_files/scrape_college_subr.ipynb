{
 "cells": [
  {
   "cell_type": "code",
   "execution_count": 2,
   "id": "961eb169-cde1-4c0b-8f62-e2492838af3a",
   "metadata": {},
   "outputs": [],
   "source": [
    "import praw\n",
    "import pandas as pd\n",
    "from time import sleep"
   ]
  },
  {
   "cell_type": "code",
   "execution_count": 22,
   "id": "36bbfed0-1fa9-478c-9867-1179603aaea1",
   "metadata": {},
   "outputs": [],
   "source": [
    "reddit = praw.Reddit(\n",
    "    client_id=\"TGAWm3MB_auVym2epZVP2A\",\n",
    "    client_secret='NVgy-yspAtMxItvgNirUMf9JvheU5Q',\n",
    "    user_agent='RelevantBar9243_aget',\n",
    "    username='RelevantBar9243',\n",
    "    password='Reddit@2024'\n",
    ")"
   ]
  },
  {
   "cell_type": "code",
   "execution_count": 23,
   "id": "6747c0e8-1122-4b83-81c2-075ccd187a37",
   "metadata": {},
   "outputs": [
    {
     "name": "stdout",
     "output_type": "stream",
     "text": [
      "RelevantBar9243\n"
     ]
    }
   ],
   "source": [
    "print(reddit.user.me())"
   ]
  },
  {
   "cell_type": "code",
   "execution_count": 31,
   "id": "a2d22dd3-0ef7-4b9e-8714-88b83655503c",
   "metadata": {},
   "outputs": [],
   "source": [
    "subreddit = reddit.subreddit('college')"
   ]
  },
  {
   "cell_type": "code",
   "execution_count": 32,
   "id": "d9458539-4ae3-4165-8610-6beb27540c78",
   "metadata": {},
   "outputs": [],
   "source": [
    "nonoverlapp_post = []\n",
    "data = []"
   ]
  },
  {
   "cell_type": "code",
   "execution_count": 37,
   "id": "ef8b11d6-08f0-4e75-b006-f65ea65dd49c",
   "metadata": {},
   "outputs": [],
   "source": [
    "# https://www.reddit.com/r/redditdev/comments/10yuc7o/how_to_get_more_than_the_1000_post_limit_using/\n",
    "#sort by top\n",
    "posts = subreddit.hot(limit = 1000)\n",
    "for post in posts:\n",
    "    if post not in nonoverlapp_post:\n",
    "        data.append([post.created_utc, post.title, post.selftext, post.subreddit])\n",
    "        nonoverlapp_post.append(post)\n",
    "        \n",
    "# sleep(300)\n",
    "\n",
    "posts = subreddit.new(limit = 1000)\n",
    "for post in posts:\n",
    "    if post not in nonoverlapp_post:\n",
    "        data.append([post.created_utc, post.title, post.selftext, post.subreddit])\n",
    "        nonoverlapp_post.append(post)"
   ]
  },
  {
   "cell_type": "code",
   "execution_count": 38,
   "id": "056cd4fd-f28c-4646-829a-a0f37ee25317",
   "metadata": {},
   "outputs": [],
   "source": [
    "college = pd.DataFrame(data, columns = ['created_utc', 'title', 'self_text', 'subreddit'])"
   ]
  },
  {
   "cell_type": "code",
   "execution_count": 39,
   "id": "2d64c54f-b6a6-4e0d-8105-3b2883602077",
   "metadata": {},
   "outputs": [
    {
     "data": {
      "text/plain": [
       "(1920, 4)"
      ]
     },
     "execution_count": 39,
     "metadata": {},
     "output_type": "execute_result"
    }
   ],
   "source": [
    "college.shape"
   ]
  },
  {
   "cell_type": "code",
   "execution_count": 40,
   "id": "9feeb066-2d1a-426e-a482-782cf8537a0a",
   "metadata": {},
   "outputs": [
    {
     "data": {
      "text/html": [
       "<div>\n",
       "<style scoped>\n",
       "    .dataframe tbody tr th:only-of-type {\n",
       "        vertical-align: middle;\n",
       "    }\n",
       "\n",
       "    .dataframe tbody tr th {\n",
       "        vertical-align: top;\n",
       "    }\n",
       "\n",
       "    .dataframe thead th {\n",
       "        text-align: right;\n",
       "    }\n",
       "</style>\n",
       "<table border=\"1\" class=\"dataframe\">\n",
       "  <thead>\n",
       "    <tr style=\"text-align: right;\">\n",
       "      <th></th>\n",
       "      <th>created_utc</th>\n",
       "      <th>title</th>\n",
       "      <th>self_text</th>\n",
       "      <th>subreddit</th>\n",
       "    </tr>\n",
       "  </thead>\n",
       "  <tbody>\n",
       "    <tr>\n",
       "      <th>0</th>\n",
       "      <td>1.707845e+09</td>\n",
       "      <td>My professor sent this email out last night.</td>\n",
       "      <td></td>\n",
       "      <td>college</td>\n",
       "    </tr>\n",
       "    <tr>\n",
       "      <th>1</th>\n",
       "      <td>1.702500e+09</td>\n",
       "      <td>My whole state just banned DEI Centers</td>\n",
       "      <td></td>\n",
       "      <td>college</td>\n",
       "    </tr>\n",
       "    <tr>\n",
       "      <th>2</th>\n",
       "      <td>1.511987e+09</td>\n",
       "      <td>Professor learned my mom died 6 months ago and...</td>\n",
       "      <td></td>\n",
       "      <td>college</td>\n",
       "    </tr>\n",
       "    <tr>\n",
       "      <th>3</th>\n",
       "      <td>1.593280e+09</td>\n",
       "      <td>(Serious question) Can anyone tell me why this...</td>\n",
       "      <td></td>\n",
       "      <td>college</td>\n",
       "    </tr>\n",
       "    <tr>\n",
       "      <th>4</th>\n",
       "      <td>1.594214e+09</td>\n",
       "      <td>Harvard and MIT sue ICE over threat to remove ...</td>\n",
       "      <td></td>\n",
       "      <td>college</td>\n",
       "    </tr>\n",
       "    <tr>\n",
       "      <th>...</th>\n",
       "      <td>...</td>\n",
       "      <td>...</td>\n",
       "      <td>...</td>\n",
       "      <td>...</td>\n",
       "    </tr>\n",
       "    <tr>\n",
       "      <th>1915</th>\n",
       "      <td>1.707510e+09</td>\n",
       "      <td>Rough 1st Semester</td>\n",
       "      <td>I finished my first semester at a pretty hard ...</td>\n",
       "      <td>college</td>\n",
       "    </tr>\n",
       "    <tr>\n",
       "      <th>1916</th>\n",
       "      <td>1.707510e+09</td>\n",
       "      <td>How many flashcards should I make and study be...</td>\n",
       "      <td>I'm trying to reason how much is plausible to ...</td>\n",
       "      <td>college</td>\n",
       "    </tr>\n",
       "    <tr>\n",
       "      <th>1917</th>\n",
       "      <td>1.707509e+09</td>\n",
       "      <td>what grade did you receive on you first ever u...</td>\n",
       "      <td>I’m in first year and im taking my first essay...</td>\n",
       "      <td>college</td>\n",
       "    </tr>\n",
       "    <tr>\n",
       "      <th>1918</th>\n",
       "      <td>1.707506e+09</td>\n",
       "      <td>mental health killing my semester and my campu...</td>\n",
       "      <td>hello\\n\\nnon traditional covid hs graduate who...</td>\n",
       "      <td>college</td>\n",
       "    </tr>\n",
       "    <tr>\n",
       "      <th>1919</th>\n",
       "      <td>1.708660e+09</td>\n",
       "      <td>I messed up please help.</td>\n",
       "      <td>I have not maintained attendance and internal ...</td>\n",
       "      <td>college</td>\n",
       "    </tr>\n",
       "  </tbody>\n",
       "</table>\n",
       "<p>1920 rows × 4 columns</p>\n",
       "</div>"
      ],
      "text/plain": [
       "       created_utc                                              title  \\\n",
       "0     1.707845e+09       My professor sent this email out last night.   \n",
       "1     1.702500e+09             My whole state just banned DEI Centers   \n",
       "2     1.511987e+09  Professor learned my mom died 6 months ago and...   \n",
       "3     1.593280e+09  (Serious question) Can anyone tell me why this...   \n",
       "4     1.594214e+09  Harvard and MIT sue ICE over threat to remove ...   \n",
       "...            ...                                                ...   \n",
       "1915  1.707510e+09                                 Rough 1st Semester   \n",
       "1916  1.707510e+09  How many flashcards should I make and study be...   \n",
       "1917  1.707509e+09  what grade did you receive on you first ever u...   \n",
       "1918  1.707506e+09  mental health killing my semester and my campu...   \n",
       "1919  1.708660e+09                          I messed up please help.    \n",
       "\n",
       "                                              self_text subreddit  \n",
       "0                                                         college  \n",
       "1                                                         college  \n",
       "2                                                         college  \n",
       "3                                                         college  \n",
       "4                                                         college  \n",
       "...                                                 ...       ...  \n",
       "1915  I finished my first semester at a pretty hard ...   college  \n",
       "1916  I'm trying to reason how much is plausible to ...   college  \n",
       "1917  I’m in first year and im taking my first essay...   college  \n",
       "1918  hello\\n\\nnon traditional covid hs graduate who...   college  \n",
       "1919  I have not maintained attendance and internal ...   college  \n",
       "\n",
       "[1920 rows x 4 columns]"
      ]
     },
     "execution_count": 40,
     "metadata": {},
     "output_type": "execute_result"
    }
   ],
   "source": [
    "x = college.drop_duplicates()\n",
    "x"
   ]
  },
  {
   "cell_type": "code",
   "execution_count": 41,
   "id": "e0ba6223-bde5-4a82-a624-34beab9523b8",
   "metadata": {},
   "outputs": [],
   "source": [
    "college.to_csv('./data/college.csv')"
   ]
  },
  {
   "cell_type": "code",
   "execution_count": 49,
   "id": "5583452c-1d27-4d50-a2cd-3fec23199665",
   "metadata": {},
   "outputs": [
    {
     "data": {
      "text/plain": [
       "0"
      ]
     },
     "execution_count": 49,
     "metadata": {},
     "output_type": "execute_result"
    }
   ],
   "source": []
  },
  {
   "cell_type": "code",
   "execution_count": null,
   "id": "609f2f71-9612-4f3d-a803-0092c9622646",
   "metadata": {},
   "outputs": [],
   "source": []
  }
 ],
 "metadata": {
  "kernelspec": {
   "display_name": "Python 3 (ipykernel)",
   "language": "python",
   "name": "python3"
  },
  "language_info": {
   "codemirror_mode": {
    "name": "ipython",
    "version": 3
   },
   "file_extension": ".py",
   "mimetype": "text/x-python",
   "name": "python",
   "nbconvert_exporter": "python",
   "pygments_lexer": "ipython3",
   "version": "3.12.2"
  }
 },
 "nbformat": 4,
 "nbformat_minor": 5
}

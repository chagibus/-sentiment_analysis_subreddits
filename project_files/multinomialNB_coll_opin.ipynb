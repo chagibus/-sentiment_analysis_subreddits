{
 "cells": [
  {
   "cell_type": "code",
   "execution_count": 77,
   "id": "d92cff97-4ce1-4462-964e-74a764c2916c",
   "metadata": {},
   "outputs": [],
   "source": [
    "import pandas as pd\n",
    "import numpy as np\n",
    "import matplotlib.pyplot as plt\n",
    "import seaborn as sns\n",
    "\n",
    "from sklearn.feature_extraction.text import CountVectorizer\n",
    "from sklearn.model_selection import train_test_split, GridSearchCV,  RandomizedSearchCV, cross_val_score\n",
    "\n",
    "from sklearn.naive_bayes import MultinomialNB\n",
    "from sklearn.metrics import confusion_matrix, ConfusionMatrixDisplay\n",
    "from sklearn.metrics import classification_report"
   ]
  },
  {
   "cell_type": "markdown",
   "id": "4bab1b09-2a8a-48cb-ae4f-4e2cc5785f9f",
   "metadata": {},
   "source": [
    "# Load lemmatized data"
   ]
  },
  {
   "cell_type": "code",
   "execution_count": 78,
   "id": "fe193b21-aee6-4a5e-bfd4-1f4a9502383f",
   "metadata": {},
   "outputs": [],
   "source": [
    "data = pd.read_csv('./data/lemmatized_posts.csv')"
   ]
  },
  {
   "cell_type": "code",
   "execution_count": 79,
   "id": "5c0e4c55-ec59-4284-9ff1-f7a0719863e2",
   "metadata": {},
   "outputs": [
    {
     "data": {
      "text/html": [
       "<div>\n",
       "<style scoped>\n",
       "    .dataframe tbody tr th:only-of-type {\n",
       "        vertical-align: middle;\n",
       "    }\n",
       "\n",
       "    .dataframe tbody tr th {\n",
       "        vertical-align: top;\n",
       "    }\n",
       "\n",
       "    .dataframe thead th {\n",
       "        text-align: right;\n",
       "    }\n",
       "</style>\n",
       "<table border=\"1\" class=\"dataframe\">\n",
       "  <thead>\n",
       "    <tr style=\"text-align: right;\">\n",
       "      <th></th>\n",
       "      <th>post</th>\n",
       "      <th>sent_score</th>\n",
       "      <th>post_nochars</th>\n",
       "      <th>post_tokenized</th>\n",
       "      <th>post_lemmatized</th>\n",
       "      <th>joined_words</th>\n",
       "    </tr>\n",
       "  </thead>\n",
       "  <tbody>\n",
       "    <tr>\n",
       "      <th>0</th>\n",
       "      <td>middle aged guys don't buy sports cars because...</td>\n",
       "      <td>1</td>\n",
       "      <td>middle aged guys don't buy sports cars because...</td>\n",
       "      <td>['middle', 'aged', 'guys', 'buy', 'sports', 'c...</td>\n",
       "      <td>['middle', 'age', 'guy', 'buy', 'sport', 'car'...</td>\n",
       "      <td>middle age guy buy sport car mid life crisis f...</td>\n",
       "    </tr>\n",
       "    <tr>\n",
       "      <th>1</th>\n",
       "      <td>\"y'all\" is a brilliant use of the english lang...</td>\n",
       "      <td>1</td>\n",
       "      <td>\"y'all\" is a brilliant use of the english lang...</td>\n",
       "      <td>['brilliant', 'use', 'english', 'language', 'r...</td>\n",
       "      <td>['brilliant', 'use', 'english', 'language', 'r...</td>\n",
       "      <td>brilliant use english language refuse tell oth...</td>\n",
       "    </tr>\n",
       "    <tr>\n",
       "      <th>2</th>\n",
       "      <td>i always eat dessert before dinner at a restau...</td>\n",
       "      <td>1</td>\n",
       "      <td>i always eat dessert before dinner at a restau...</td>\n",
       "      <td>['always', 'eat', 'dessert', 'dinner', 'restau...</td>\n",
       "      <td>['always', 'eat', 'dessert', 'dinner', 'restau...</td>\n",
       "      <td>always eat dessert dinner restaurantwhen resta...</td>\n",
       "    </tr>\n",
       "  </tbody>\n",
       "</table>\n",
       "</div>"
      ],
      "text/plain": [
       "                                                post  sent_score  \\\n",
       "0  middle aged guys don't buy sports cars because...           1   \n",
       "1  \"y'all\" is a brilliant use of the english lang...           1   \n",
       "2  i always eat dessert before dinner at a restau...           1   \n",
       "\n",
       "                                        post_nochars  \\\n",
       "0  middle aged guys don't buy sports cars because...   \n",
       "1  \"y'all\" is a brilliant use of the english lang...   \n",
       "2  i always eat dessert before dinner at a restau...   \n",
       "\n",
       "                                      post_tokenized  \\\n",
       "0  ['middle', 'aged', 'guys', 'buy', 'sports', 'c...   \n",
       "1  ['brilliant', 'use', 'english', 'language', 'r...   \n",
       "2  ['always', 'eat', 'dessert', 'dinner', 'restau...   \n",
       "\n",
       "                                     post_lemmatized  \\\n",
       "0  ['middle', 'age', 'guy', 'buy', 'sport', 'car'...   \n",
       "1  ['brilliant', 'use', 'english', 'language', 'r...   \n",
       "2  ['always', 'eat', 'dessert', 'dinner', 'restau...   \n",
       "\n",
       "                                        joined_words  \n",
       "0  middle age guy buy sport car mid life crisis f...  \n",
       "1  brilliant use english language refuse tell oth...  \n",
       "2  always eat dessert dinner restaurantwhen resta...  "
      ]
     },
     "execution_count": 79,
     "metadata": {},
     "output_type": "execute_result"
    }
   ],
   "source": [
    "data.head(3)"
   ]
  },
  {
   "cell_type": "code",
   "execution_count": 80,
   "id": "d834a225-4044-4fed-99bb-4df129bb3dab",
   "metadata": {},
   "outputs": [
    {
     "data": {
      "text/plain": [
       "(3584, 6)"
      ]
     },
     "execution_count": 80,
     "metadata": {},
     "output_type": "execute_result"
    }
   ],
   "source": [
    "data.shape"
   ]
  },
  {
   "cell_type": "markdown",
   "id": "04da9702-6c29-4bef-b9d0-864729922f5d",
   "metadata": {},
   "source": [
    "### Train Multinomial Naive Bayes ML using lammatized data"
   ]
  },
  {
   "cell_type": "code",
   "execution_count": 81,
   "id": "340683d4-e647-4184-a4f2-5c48c57e1b6b",
   "metadata": {},
   "outputs": [],
   "source": [
    "X = data['joined_words']\n",
    "y = data['sent_score']"
   ]
  },
  {
   "cell_type": "code",
   "execution_count": 82,
   "id": "9b5f5a86-927c-45a1-8aa2-e534c3158973",
   "metadata": {},
   "outputs": [
    {
     "data": {
      "text/plain": [
       "sent_score\n",
       "1    0.53404\n",
       "0    0.46596\n",
       "Name: proportion, dtype: float64"
      ]
     },
     "execution_count": 82,
     "metadata": {},
     "output_type": "execute_result"
    }
   ],
   "source": [
    "y.value_counts(normalize = True)"
   ]
  },
  {
   "cell_type": "code",
   "execution_count": 83,
   "id": "e8446adf-3b4c-497d-961d-2d81660add28",
   "metadata": {},
   "outputs": [
    {
     "data": {
      "text/plain": [
       "0.4659598214285714"
      ]
     },
     "execution_count": 83,
     "metadata": {},
     "output_type": "execute_result"
    }
   ],
   "source": [
    "1-y.mean()"
   ]
  },
  {
   "cell_type": "code",
   "execution_count": 84,
   "id": "08886f31-ef6f-4bbb-98de-13a0460f0456",
   "metadata": {},
   "outputs": [],
   "source": [
    "# split the data\n",
    "X_train, X_test, y_train, y_test = train_test_split(X, y, test_size = 0.4, random_state=2024)"
   ]
  },
  {
   "cell_type": "code",
   "execution_count": 85,
   "id": "bce4d29d-0a1a-47f9-bdbc-f8631c0e7880",
   "metadata": {},
   "outputs": [
    {
     "data": {
      "text/html": [
       "<style>#sk-container-id-7 {color: black;background-color: white;}#sk-container-id-7 pre{padding: 0;}#sk-container-id-7 div.sk-toggleable {background-color: white;}#sk-container-id-7 label.sk-toggleable__label {cursor: pointer;display: block;width: 100%;margin-bottom: 0;padding: 0.3em;box-sizing: border-box;text-align: center;}#sk-container-id-7 label.sk-toggleable__label-arrow:before {content: \"▸\";float: left;margin-right: 0.25em;color: #696969;}#sk-container-id-7 label.sk-toggleable__label-arrow:hover:before {color: black;}#sk-container-id-7 div.sk-estimator:hover label.sk-toggleable__label-arrow:before {color: black;}#sk-container-id-7 div.sk-toggleable__content {max-height: 0;max-width: 0;overflow: hidden;text-align: left;background-color: #f0f8ff;}#sk-container-id-7 div.sk-toggleable__content pre {margin: 0.2em;color: black;border-radius: 0.25em;background-color: #f0f8ff;}#sk-container-id-7 input.sk-toggleable__control:checked~div.sk-toggleable__content {max-height: 200px;max-width: 100%;overflow: auto;}#sk-container-id-7 input.sk-toggleable__control:checked~label.sk-toggleable__label-arrow:before {content: \"▾\";}#sk-container-id-7 div.sk-estimator input.sk-toggleable__control:checked~label.sk-toggleable__label {background-color: #d4ebff;}#sk-container-id-7 div.sk-label input.sk-toggleable__control:checked~label.sk-toggleable__label {background-color: #d4ebff;}#sk-container-id-7 input.sk-hidden--visually {border: 0;clip: rect(1px 1px 1px 1px);clip: rect(1px, 1px, 1px, 1px);height: 1px;margin: -1px;overflow: hidden;padding: 0;position: absolute;width: 1px;}#sk-container-id-7 div.sk-estimator {font-family: monospace;background-color: #f0f8ff;border: 1px dotted black;border-radius: 0.25em;box-sizing: border-box;margin-bottom: 0.5em;}#sk-container-id-7 div.sk-estimator:hover {background-color: #d4ebff;}#sk-container-id-7 div.sk-parallel-item::after {content: \"\";width: 100%;border-bottom: 1px solid gray;flex-grow: 1;}#sk-container-id-7 div.sk-label:hover label.sk-toggleable__label {background-color: #d4ebff;}#sk-container-id-7 div.sk-serial::before {content: \"\";position: absolute;border-left: 1px solid gray;box-sizing: border-box;top: 0;bottom: 0;left: 50%;z-index: 0;}#sk-container-id-7 div.sk-serial {display: flex;flex-direction: column;align-items: center;background-color: white;padding-right: 0.2em;padding-left: 0.2em;position: relative;}#sk-container-id-7 div.sk-item {position: relative;z-index: 1;}#sk-container-id-7 div.sk-parallel {display: flex;align-items: stretch;justify-content: center;background-color: white;position: relative;}#sk-container-id-7 div.sk-item::before, #sk-container-id-7 div.sk-parallel-item::before {content: \"\";position: absolute;border-left: 1px solid gray;box-sizing: border-box;top: 0;bottom: 0;left: 50%;z-index: -1;}#sk-container-id-7 div.sk-parallel-item {display: flex;flex-direction: column;z-index: 1;position: relative;background-color: white;}#sk-container-id-7 div.sk-parallel-item:first-child::after {align-self: flex-end;width: 50%;}#sk-container-id-7 div.sk-parallel-item:last-child::after {align-self: flex-start;width: 50%;}#sk-container-id-7 div.sk-parallel-item:only-child::after {width: 0;}#sk-container-id-7 div.sk-dashed-wrapped {border: 1px dashed gray;margin: 0 0.4em 0.5em 0.4em;box-sizing: border-box;padding-bottom: 0.4em;background-color: white;}#sk-container-id-7 div.sk-label label {font-family: monospace;font-weight: bold;display: inline-block;line-height: 1.2em;}#sk-container-id-7 div.sk-label-container {text-align: center;}#sk-container-id-7 div.sk-container {/* jupyter's `normalize.less` sets `[hidden] { display: none; }` but bootstrap.min.css set `[hidden] { display: none !important; }` so we also need the `!important` here to be able to override the default hidden behavior on the sphinx rendered scikit-learn.org. See: https://github.com/scikit-learn/scikit-learn/issues/21755 */display: inline-block !important;position: relative;}#sk-container-id-7 div.sk-text-repr-fallback {display: none;}</style><div id=\"sk-container-id-7\" class=\"sk-top-container\"><div class=\"sk-text-repr-fallback\"><pre>CountVectorizer()</pre><b>In a Jupyter environment, please rerun this cell to show the HTML representation or trust the notebook. <br />On GitHub, the HTML representation is unable to render, please try loading this page with nbviewer.org.</b></div><div class=\"sk-container\" hidden><div class=\"sk-item\"><div class=\"sk-estimator sk-toggleable\"><input class=\"sk-toggleable__control sk-hidden--visually\" id=\"sk-estimator-id-7\" type=\"checkbox\" checked><label for=\"sk-estimator-id-7\" class=\"sk-toggleable__label sk-toggleable__label-arrow\">CountVectorizer</label><div class=\"sk-toggleable__content\"><pre>CountVectorizer()</pre></div></div></div></div></div>"
      ],
      "text/plain": [
       "CountVectorizer()"
      ]
     },
     "execution_count": 85,
     "metadata": {},
     "output_type": "execute_result"
    }
   ],
   "source": [
    "cvec = CountVectorizer()\n",
    "cvec.fit(X_train)"
   ]
  },
  {
   "cell_type": "code",
   "execution_count": 86,
   "id": "76129414-1e2c-424a-a8f5-75ffd6447d30",
   "metadata": {},
   "outputs": [],
   "source": [
    "X_train_cv = cvec.transform(X_train)\n",
    "X_test_cv = cvec.transform(X_test)"
   ]
  },
  {
   "cell_type": "code",
   "execution_count": 87,
   "id": "8cb85dbe-3223-4894-a17a-ae71371cda80",
   "metadata": {},
   "outputs": [
    {
     "data": {
      "text/plain": [
       "((2150, 13220), (1434, 13220))"
      ]
     },
     "execution_count": 87,
     "metadata": {},
     "output_type": "execute_result"
    }
   ],
   "source": [
    "X_train_cv.shape, X_test_cv.shape"
   ]
  },
  {
   "cell_type": "code",
   "execution_count": 88,
   "id": "403c3e3b-3afb-464a-a43e-ece51df10298",
   "metadata": {},
   "outputs": [],
   "source": [
    "# Bernoulli Naive Bayes\n",
    "nb = MultinomialNB()"
   ]
  },
  {
   "cell_type": "code",
   "execution_count": 89,
   "id": "b5ae54a5-0a12-4cf3-8e97-f6ed82fe924f",
   "metadata": {},
   "outputs": [
    {
     "data": {
      "text/html": [
       "<style>#sk-container-id-8 {color: black;background-color: white;}#sk-container-id-8 pre{padding: 0;}#sk-container-id-8 div.sk-toggleable {background-color: white;}#sk-container-id-8 label.sk-toggleable__label {cursor: pointer;display: block;width: 100%;margin-bottom: 0;padding: 0.3em;box-sizing: border-box;text-align: center;}#sk-container-id-8 label.sk-toggleable__label-arrow:before {content: \"▸\";float: left;margin-right: 0.25em;color: #696969;}#sk-container-id-8 label.sk-toggleable__label-arrow:hover:before {color: black;}#sk-container-id-8 div.sk-estimator:hover label.sk-toggleable__label-arrow:before {color: black;}#sk-container-id-8 div.sk-toggleable__content {max-height: 0;max-width: 0;overflow: hidden;text-align: left;background-color: #f0f8ff;}#sk-container-id-8 div.sk-toggleable__content pre {margin: 0.2em;color: black;border-radius: 0.25em;background-color: #f0f8ff;}#sk-container-id-8 input.sk-toggleable__control:checked~div.sk-toggleable__content {max-height: 200px;max-width: 100%;overflow: auto;}#sk-container-id-8 input.sk-toggleable__control:checked~label.sk-toggleable__label-arrow:before {content: \"▾\";}#sk-container-id-8 div.sk-estimator input.sk-toggleable__control:checked~label.sk-toggleable__label {background-color: #d4ebff;}#sk-container-id-8 div.sk-label input.sk-toggleable__control:checked~label.sk-toggleable__label {background-color: #d4ebff;}#sk-container-id-8 input.sk-hidden--visually {border: 0;clip: rect(1px 1px 1px 1px);clip: rect(1px, 1px, 1px, 1px);height: 1px;margin: -1px;overflow: hidden;padding: 0;position: absolute;width: 1px;}#sk-container-id-8 div.sk-estimator {font-family: monospace;background-color: #f0f8ff;border: 1px dotted black;border-radius: 0.25em;box-sizing: border-box;margin-bottom: 0.5em;}#sk-container-id-8 div.sk-estimator:hover {background-color: #d4ebff;}#sk-container-id-8 div.sk-parallel-item::after {content: \"\";width: 100%;border-bottom: 1px solid gray;flex-grow: 1;}#sk-container-id-8 div.sk-label:hover label.sk-toggleable__label {background-color: #d4ebff;}#sk-container-id-8 div.sk-serial::before {content: \"\";position: absolute;border-left: 1px solid gray;box-sizing: border-box;top: 0;bottom: 0;left: 50%;z-index: 0;}#sk-container-id-8 div.sk-serial {display: flex;flex-direction: column;align-items: center;background-color: white;padding-right: 0.2em;padding-left: 0.2em;position: relative;}#sk-container-id-8 div.sk-item {position: relative;z-index: 1;}#sk-container-id-8 div.sk-parallel {display: flex;align-items: stretch;justify-content: center;background-color: white;position: relative;}#sk-container-id-8 div.sk-item::before, #sk-container-id-8 div.sk-parallel-item::before {content: \"\";position: absolute;border-left: 1px solid gray;box-sizing: border-box;top: 0;bottom: 0;left: 50%;z-index: -1;}#sk-container-id-8 div.sk-parallel-item {display: flex;flex-direction: column;z-index: 1;position: relative;background-color: white;}#sk-container-id-8 div.sk-parallel-item:first-child::after {align-self: flex-end;width: 50%;}#sk-container-id-8 div.sk-parallel-item:last-child::after {align-self: flex-start;width: 50%;}#sk-container-id-8 div.sk-parallel-item:only-child::after {width: 0;}#sk-container-id-8 div.sk-dashed-wrapped {border: 1px dashed gray;margin: 0 0.4em 0.5em 0.4em;box-sizing: border-box;padding-bottom: 0.4em;background-color: white;}#sk-container-id-8 div.sk-label label {font-family: monospace;font-weight: bold;display: inline-block;line-height: 1.2em;}#sk-container-id-8 div.sk-label-container {text-align: center;}#sk-container-id-8 div.sk-container {/* jupyter's `normalize.less` sets `[hidden] { display: none; }` but bootstrap.min.css set `[hidden] { display: none !important; }` so we also need the `!important` here to be able to override the default hidden behavior on the sphinx rendered scikit-learn.org. See: https://github.com/scikit-learn/scikit-learn/issues/21755 */display: inline-block !important;position: relative;}#sk-container-id-8 div.sk-text-repr-fallback {display: none;}</style><div id=\"sk-container-id-8\" class=\"sk-top-container\"><div class=\"sk-text-repr-fallback\"><pre>MultinomialNB()</pre><b>In a Jupyter environment, please rerun this cell to show the HTML representation or trust the notebook. <br />On GitHub, the HTML representation is unable to render, please try loading this page with nbviewer.org.</b></div><div class=\"sk-container\" hidden><div class=\"sk-item\"><div class=\"sk-estimator sk-toggleable\"><input class=\"sk-toggleable__control sk-hidden--visually\" id=\"sk-estimator-id-8\" type=\"checkbox\" checked><label for=\"sk-estimator-id-8\" class=\"sk-toggleable__label sk-toggleable__label-arrow\">MultinomialNB</label><div class=\"sk-toggleable__content\"><pre>MultinomialNB()</pre></div></div></div></div></div>"
      ],
      "text/plain": [
       "MultinomialNB()"
      ]
     },
     "execution_count": 89,
     "metadata": {},
     "output_type": "execute_result"
    }
   ],
   "source": [
    "nb.fit(X_train_cv, y_train)"
   ]
  },
  {
   "cell_type": "code",
   "execution_count": 90,
   "id": "c392a0be-ff2d-48bd-860c-51fbf8b3761f",
   "metadata": {},
   "outputs": [
    {
     "data": {
      "text/plain": [
       "0.9767441860465116"
      ]
     },
     "execution_count": 90,
     "metadata": {},
     "output_type": "execute_result"
    }
   ],
   "source": [
    "nb.score(X_train_cv, y_train)"
   ]
  },
  {
   "cell_type": "code",
   "execution_count": 91,
   "id": "c98b88fa-64eb-4178-b1d7-d4eb7d5b71f1",
   "metadata": {},
   "outputs": [
    {
     "data": {
      "text/plain": [
       "0.9504881450488145"
      ]
     },
     "execution_count": 91,
     "metadata": {},
     "output_type": "execute_result"
    }
   ],
   "source": [
    "nb.score(X_test_cv, y_test)"
   ]
  },
  {
   "cell_type": "code",
   "execution_count": 92,
   "id": "11330265-be88-4141-809d-bcf220fbf255",
   "metadata": {},
   "outputs": [
    {
     "data": {
      "text/plain": [
       "array([0, 0, 1, ..., 1, 0, 1], dtype=int64)"
      ]
     },
     "execution_count": 92,
     "metadata": {},
     "output_type": "execute_result"
    }
   ],
   "source": [
    "nb.predict(X_test_cv)"
   ]
  },
  {
   "cell_type": "markdown",
   "id": "e317374b-ebcc-4a77-8e59-ae79d99f5689",
   "metadata": {},
   "source": [
    "#### KFold cross-validation"
   ]
  },
  {
   "cell_type": "code",
   "execution_count": 112,
   "id": "a55d6f0b-7455-4a2a-ac3b-d97d2209b664",
   "metadata": {},
   "outputs": [
    {
     "data": {
      "text/plain": [
       "array([0.95813953, 0.94186047, 0.94418605, 0.94418605, 0.95581395])"
      ]
     },
     "execution_count": 112,
     "metadata": {},
     "output_type": "execute_result"
    }
   ],
   "source": [
    "cross_val_score(nb, X_train_cv, y_train, cv=5)"
   ]
  },
  {
   "cell_type": "code",
   "execution_count": 111,
   "id": "668f6c29-2563-4580-aa64-68eab2d3f691",
   "metadata": {},
   "outputs": [
    {
     "data": {
      "text/plain": [
       "0.9488372093023255"
      ]
     },
     "execution_count": 111,
     "metadata": {},
     "output_type": "execute_result"
    }
   ],
   "source": [
    "np.mean(cross_val_score(nb, X_train_cv, y_train, cv=5))"
   ]
  },
  {
   "cell_type": "code",
   "execution_count": 113,
   "id": "59fe1240-49b0-405e-acbf-325def2dc7cf",
   "metadata": {},
   "outputs": [
    {
     "data": {
      "text/plain": [
       "array([0.94773519, 0.93031359, 0.96167247, 0.96515679, 0.94405594])"
      ]
     },
     "execution_count": 113,
     "metadata": {},
     "output_type": "execute_result"
    }
   ],
   "source": [
    "cross_val_score(nb, X_test_cv, y_test, cv=5)"
   ]
  },
  {
   "cell_type": "code",
   "execution_count": 95,
   "id": "b76b1a7a-2fe1-48e9-b8ba-4549615b04db",
   "metadata": {},
   "outputs": [
    {
     "data": {
      "text/plain": [
       "0.947906976744186"
      ]
     },
     "execution_count": 95,
     "metadata": {},
     "output_type": "execute_result"
    }
   ],
   "source": [
    "from sklearn.model_selection import KFold\n",
    "kf = KFold(n_splits=5, shuffle = True, random_state=2024)\n",
    "np.mean(cross_val_score(nb, X_train_cv, y_train, cv = kf))"
   ]
  },
  {
   "cell_type": "markdown",
   "id": "14cc8bce-e7ae-4654-a946-9069572ea2a3",
   "metadata": {},
   "source": [
    "#### Apply trained random forest  ML for Sentiment prediction of  college posts."
   ]
  },
  {
   "cell_type": "code",
   "execution_count": 96,
   "id": "cefa7555-5458-4442-b3ae-93bc303e0060",
   "metadata": {},
   "outputs": [],
   "source": [
    "college = pd.read_csv('./data/coll_lemmatized_posts.csv')"
   ]
  },
  {
   "cell_type": "code",
   "execution_count": 97,
   "id": "9bf977fe-02af-46f4-bace-ed08aa2c4bb1",
   "metadata": {},
   "outputs": [
    {
     "data": {
      "text/html": [
       "<div>\n",
       "<style scoped>\n",
       "    .dataframe tbody tr th:only-of-type {\n",
       "        vertical-align: middle;\n",
       "    }\n",
       "\n",
       "    .dataframe tbody tr th {\n",
       "        vertical-align: top;\n",
       "    }\n",
       "\n",
       "    .dataframe thead th {\n",
       "        text-align: right;\n",
       "    }\n",
       "</style>\n",
       "<table border=\"1\" class=\"dataframe\">\n",
       "  <thead>\n",
       "    <tr style=\"text-align: right;\">\n",
       "      <th></th>\n",
       "      <th>post</th>\n",
       "      <th>sent_score</th>\n",
       "      <th>post_nochars</th>\n",
       "      <th>post_tokenized</th>\n",
       "      <th>post_lemmatized</th>\n",
       "      <th>joined_words</th>\n",
       "    </tr>\n",
       "  </thead>\n",
       "  <tbody>\n",
       "    <tr>\n",
       "      <th>1159</th>\n",
       "      <td>most people are actually very happy don't get ...</td>\n",
       "      <td>1</td>\n",
       "      <td>most people are actually very happy don't get ...</td>\n",
       "      <td>['people', 'actually', 'happy', 'get', 'wrong'...</td>\n",
       "      <td>['people', 'actually', 'happy', 'get', 'wrong'...</td>\n",
       "      <td>people actually happy get wrong say everyone h...</td>\n",
       "    </tr>\n",
       "    <tr>\n",
       "      <th>710</th>\n",
       "      <td>being downvoted on reddit is a painful feeling...</td>\n",
       "      <td>1</td>\n",
       "      <td>being downvoted on reddit is a painful feeling...</td>\n",
       "      <td>['downvoted', 'reddit', 'painful', 'feeling', ...</td>\n",
       "      <td>['downvoted', 'reddit', 'painful', 'feeling', ...</td>\n",
       "      <td>downvoted reddit painful feeling know suppose ...</td>\n",
       "    </tr>\n",
       "    <tr>\n",
       "      <th>726</th>\n",
       "      <td>i'm not responsible for what your children hea...</td>\n",
       "      <td>1</td>\n",
       "      <td>i'm not responsible for what your children hea...</td>\n",
       "      <td>['responsible', 'children', 'hear', 'online', ...</td>\n",
       "      <td>['responsible', 'child', 'hear', 'online', 'ev...</td>\n",
       "      <td>responsible child hear online even one say par...</td>\n",
       "    </tr>\n",
       "  </tbody>\n",
       "</table>\n",
       "</div>"
      ],
      "text/plain": [
       "                                                   post  sent_score  \\\n",
       "1159  most people are actually very happy don't get ...           1   \n",
       "710   being downvoted on reddit is a painful feeling...           1   \n",
       "726   i'm not responsible for what your children hea...           1   \n",
       "\n",
       "                                           post_nochars  \\\n",
       "1159  most people are actually very happy don't get ...   \n",
       "710   being downvoted on reddit is a painful feeling...   \n",
       "726   i'm not responsible for what your children hea...   \n",
       "\n",
       "                                         post_tokenized  \\\n",
       "1159  ['people', 'actually', 'happy', 'get', 'wrong'...   \n",
       "710   ['downvoted', 'reddit', 'painful', 'feeling', ...   \n",
       "726   ['responsible', 'children', 'hear', 'online', ...   \n",
       "\n",
       "                                        post_lemmatized  \\\n",
       "1159  ['people', 'actually', 'happy', 'get', 'wrong'...   \n",
       "710   ['downvoted', 'reddit', 'painful', 'feeling', ...   \n",
       "726   ['responsible', 'child', 'hear', 'online', 'ev...   \n",
       "\n",
       "                                           joined_words  \n",
       "1159  people actually happy get wrong say everyone h...  \n",
       "710   downvoted reddit painful feeling know suppose ...  \n",
       "726   responsible child hear online even one say par...  "
      ]
     },
     "execution_count": 97,
     "metadata": {},
     "output_type": "execute_result"
    }
   ],
   "source": [
    "data.sample(3)"
   ]
  },
  {
   "cell_type": "code",
   "execution_count": 98,
   "id": "697d796a-889d-4362-a376-86dfec9bd4dd",
   "metadata": {},
   "outputs": [],
   "source": [
    "X_coll = college['joined_words']\n",
    "y_coll = college['sent_score']"
   ]
  },
  {
   "cell_type": "code",
   "execution_count": 99,
   "id": "988d7cf0-cd52-45a1-b616-dec1bbdeedf0",
   "metadata": {},
   "outputs": [
    {
     "data": {
      "text/html": [
       "<style>#sk-container-id-9 {color: black;background-color: white;}#sk-container-id-9 pre{padding: 0;}#sk-container-id-9 div.sk-toggleable {background-color: white;}#sk-container-id-9 label.sk-toggleable__label {cursor: pointer;display: block;width: 100%;margin-bottom: 0;padding: 0.3em;box-sizing: border-box;text-align: center;}#sk-container-id-9 label.sk-toggleable__label-arrow:before {content: \"▸\";float: left;margin-right: 0.25em;color: #696969;}#sk-container-id-9 label.sk-toggleable__label-arrow:hover:before {color: black;}#sk-container-id-9 div.sk-estimator:hover label.sk-toggleable__label-arrow:before {color: black;}#sk-container-id-9 div.sk-toggleable__content {max-height: 0;max-width: 0;overflow: hidden;text-align: left;background-color: #f0f8ff;}#sk-container-id-9 div.sk-toggleable__content pre {margin: 0.2em;color: black;border-radius: 0.25em;background-color: #f0f8ff;}#sk-container-id-9 input.sk-toggleable__control:checked~div.sk-toggleable__content {max-height: 200px;max-width: 100%;overflow: auto;}#sk-container-id-9 input.sk-toggleable__control:checked~label.sk-toggleable__label-arrow:before {content: \"▾\";}#sk-container-id-9 div.sk-estimator input.sk-toggleable__control:checked~label.sk-toggleable__label {background-color: #d4ebff;}#sk-container-id-9 div.sk-label input.sk-toggleable__control:checked~label.sk-toggleable__label {background-color: #d4ebff;}#sk-container-id-9 input.sk-hidden--visually {border: 0;clip: rect(1px 1px 1px 1px);clip: rect(1px, 1px, 1px, 1px);height: 1px;margin: -1px;overflow: hidden;padding: 0;position: absolute;width: 1px;}#sk-container-id-9 div.sk-estimator {font-family: monospace;background-color: #f0f8ff;border: 1px dotted black;border-radius: 0.25em;box-sizing: border-box;margin-bottom: 0.5em;}#sk-container-id-9 div.sk-estimator:hover {background-color: #d4ebff;}#sk-container-id-9 div.sk-parallel-item::after {content: \"\";width: 100%;border-bottom: 1px solid gray;flex-grow: 1;}#sk-container-id-9 div.sk-label:hover label.sk-toggleable__label {background-color: #d4ebff;}#sk-container-id-9 div.sk-serial::before {content: \"\";position: absolute;border-left: 1px solid gray;box-sizing: border-box;top: 0;bottom: 0;left: 50%;z-index: 0;}#sk-container-id-9 div.sk-serial {display: flex;flex-direction: column;align-items: center;background-color: white;padding-right: 0.2em;padding-left: 0.2em;position: relative;}#sk-container-id-9 div.sk-item {position: relative;z-index: 1;}#sk-container-id-9 div.sk-parallel {display: flex;align-items: stretch;justify-content: center;background-color: white;position: relative;}#sk-container-id-9 div.sk-item::before, #sk-container-id-9 div.sk-parallel-item::before {content: \"\";position: absolute;border-left: 1px solid gray;box-sizing: border-box;top: 0;bottom: 0;left: 50%;z-index: -1;}#sk-container-id-9 div.sk-parallel-item {display: flex;flex-direction: column;z-index: 1;position: relative;background-color: white;}#sk-container-id-9 div.sk-parallel-item:first-child::after {align-self: flex-end;width: 50%;}#sk-container-id-9 div.sk-parallel-item:last-child::after {align-self: flex-start;width: 50%;}#sk-container-id-9 div.sk-parallel-item:only-child::after {width: 0;}#sk-container-id-9 div.sk-dashed-wrapped {border: 1px dashed gray;margin: 0 0.4em 0.5em 0.4em;box-sizing: border-box;padding-bottom: 0.4em;background-color: white;}#sk-container-id-9 div.sk-label label {font-family: monospace;font-weight: bold;display: inline-block;line-height: 1.2em;}#sk-container-id-9 div.sk-label-container {text-align: center;}#sk-container-id-9 div.sk-container {/* jupyter's `normalize.less` sets `[hidden] { display: none; }` but bootstrap.min.css set `[hidden] { display: none !important; }` so we also need the `!important` here to be able to override the default hidden behavior on the sphinx rendered scikit-learn.org. See: https://github.com/scikit-learn/scikit-learn/issues/21755 */display: inline-block !important;position: relative;}#sk-container-id-9 div.sk-text-repr-fallback {display: none;}</style><div id=\"sk-container-id-9\" class=\"sk-top-container\"><div class=\"sk-text-repr-fallback\"><pre>CountVectorizer()</pre><b>In a Jupyter environment, please rerun this cell to show the HTML representation or trust the notebook. <br />On GitHub, the HTML representation is unable to render, please try loading this page with nbviewer.org.</b></div><div class=\"sk-container\" hidden><div class=\"sk-item\"><div class=\"sk-estimator sk-toggleable\"><input class=\"sk-toggleable__control sk-hidden--visually\" id=\"sk-estimator-id-9\" type=\"checkbox\" checked><label for=\"sk-estimator-id-9\" class=\"sk-toggleable__label sk-toggleable__label-arrow\">CountVectorizer</label><div class=\"sk-toggleable__content\"><pre>CountVectorizer()</pre></div></div></div></div></div>"
      ],
      "text/plain": [
       "CountVectorizer()"
      ]
     },
     "execution_count": 99,
     "metadata": {},
     "output_type": "execute_result"
    }
   ],
   "source": [
    "cvec = CountVectorizer()\n",
    "cvec.fit(X_train)"
   ]
  },
  {
   "cell_type": "code",
   "execution_count": null,
   "id": "746bf6d8-8ff8-4756-a36c-67dfb1f1442b",
   "metadata": {},
   "outputs": [],
   "source": []
  },
  {
   "cell_type": "code",
   "execution_count": 100,
   "id": "b49bc63f-bb1c-4874-89f7-303582a5a980",
   "metadata": {},
   "outputs": [],
   "source": [
    "X_coll_cv = cvec.transform(X_coll)"
   ]
  },
  {
   "cell_type": "code",
   "execution_count": 101,
   "id": "c26ae854-566f-4a2e-9cf3-f90c59a0032e",
   "metadata": {},
   "outputs": [
    {
     "data": {
      "text/plain": [
       "((2150, 13220), (1670, 13220))"
      ]
     },
     "execution_count": 101,
     "metadata": {},
     "output_type": "execute_result"
    }
   ],
   "source": [
    "X_train_cv.shape, X_coll_cv.shape"
   ]
  },
  {
   "cell_type": "code",
   "execution_count": 102,
   "id": "54869b07-fc4f-483f-b621-03b7a812058a",
   "metadata": {},
   "outputs": [],
   "source": [
    "coll_predictions =nb.predict(X_coll_cv)"
   ]
  },
  {
   "cell_type": "code",
   "execution_count": 103,
   "id": "6c720fdf-3404-4d35-b8ef-c6140a6cc476",
   "metadata": {},
   "outputs": [
    {
     "name": "stdout",
     "output_type": "stream",
     "text": [
      "              precision    recall  f1-score   support\n",
      "\n",
      "           0      0.986     1.000     0.993      1647\n",
      "           1      0.000     0.000     0.000        23\n",
      "\n",
      "    accuracy                          0.986      1670\n",
      "   macro avg      0.493     0.500     0.497      1670\n",
      "weighted avg      0.973     0.986     0.979      1670\n",
      "\n"
     ]
    },
    {
     "name": "stderr",
     "output_type": "stream",
     "text": [
      "C:\\Users\\mudep\\anaconda3\\Lib\\site-packages\\sklearn\\metrics\\_classification.py:1344: UndefinedMetricWarning: Precision and F-score are ill-defined and being set to 0.0 in labels with no predicted samples. Use `zero_division` parameter to control this behavior.\n",
      "  _warn_prf(average, modifier, msg_start, len(result))\n",
      "C:\\Users\\mudep\\anaconda3\\Lib\\site-packages\\sklearn\\metrics\\_classification.py:1344: UndefinedMetricWarning: Precision and F-score are ill-defined and being set to 0.0 in labels with no predicted samples. Use `zero_division` parameter to control this behavior.\n",
      "  _warn_prf(average, modifier, msg_start, len(result))\n",
      "C:\\Users\\mudep\\anaconda3\\Lib\\site-packages\\sklearn\\metrics\\_classification.py:1344: UndefinedMetricWarning: Precision and F-score are ill-defined and being set to 0.0 in labels with no predicted samples. Use `zero_division` parameter to control this behavior.\n",
      "  _warn_prf(average, modifier, msg_start, len(result))\n"
     ]
    }
   ],
   "source": [
    "print(classification_report(coll_predictions, y_coll, digits = 3))"
   ]
  },
  {
   "cell_type": "code",
   "execution_count": 104,
   "id": "1326e555-ccfe-460c-b29a-48c286e6e123",
   "metadata": {},
   "outputs": [
    {
     "data": {
      "image/png": "[encoded data removed]",
      "text/plain": [
       "<Figure size 640x480 with 2 Axes>"
      ]
     },
     "metadata": {},
     "output_type": "display_data"
    }
   ],
   "source": [
    "ConfusionMatrixDisplay.from_predictions(y_coll, coll_predictions, cmap = 'Blues')\n",
    "plt.title('Correlation between True and Predicted label', weight = 'bold');"
   ]
  },
  {
   "cell_type": "markdown",
   "id": "d7c2ac30-e3b5-4f3d-9572-d5e47fd55a4e",
   "metadata": {},
   "source": [
    "## *Vulgar language warning!!!!*\n",
    "\n",
    "#### List of all false predicetd posts "
   ]
  },
  {
   "cell_type": "code",
   "execution_count": 105,
   "id": "c042be8d-a58a-4c8a-9ee3-353817e58093",
   "metadata": {},
   "outputs": [],
   "source": [
    "pred_colls = pd.DataFrame(coll_predictions, columns=['predictions'])"
   ]
  },
  {
   "cell_type": "code",
   "execution_count": 106,
   "id": "c637e511-fd4f-472e-b694-8f8eed10d84c",
   "metadata": {},
   "outputs": [
    {
     "data": {
      "text/html": [
       "<div>\n",
       "<style scoped>\n",
       "    .dataframe tbody tr th:only-of-type {\n",
       "        vertical-align: middle;\n",
       "    }\n",
       "\n",
       "    .dataframe tbody tr th {\n",
       "        vertical-align: top;\n",
       "    }\n",
       "\n",
       "    .dataframe thead th {\n",
       "        text-align: right;\n",
       "    }\n",
       "</style>\n",
       "<table border=\"1\" class=\"dataframe\">\n",
       "  <thead>\n",
       "    <tr style=\"text-align: right;\">\n",
       "      <th></th>\n",
       "      <th>post</th>\n",
       "      <th>sent_score</th>\n",
       "      <th>post_tokenized</th>\n",
       "      <th>post_lemmatized</th>\n",
       "      <th>joined_words</th>\n",
       "    </tr>\n",
       "  </thead>\n",
       "  <tbody>\n",
       "    <tr>\n",
       "      <th>45</th>\n",
       "      <td>it’s honestly disgusting what happened to easy...</td>\n",
       "      <td>0</td>\n",
       "      <td>['honestly', 'disgusting', 'happened', 'easybi...</td>\n",
       "      <td>['honestly', 'disgust', 'happen', 'easybibyoun...</td>\n",
       "      <td>honestly disgust happen easybibyounger zoomers...</td>\n",
       "    </tr>\n",
       "    <tr>\n",
       "      <th>47</th>\n",
       "      <td>writing prof here: how to add to essay length ...</td>\n",
       "      <td>0</td>\n",
       "      <td>['writing', 'prof', 'add', 'essay', 'length', ...</td>\n",
       "      <td>['write', 'prof', 'add', 'essay', 'length', 'w...</td>\n",
       "      <td>write prof add essay length without fluff form...</td>\n",
       "    </tr>\n",
       "    <tr>\n",
       "      <th>51</th>\n",
       "      <td>roomate goes to bed so early and gets annoyed ...</td>\n",
       "      <td>0</td>\n",
       "      <td>['roomate', 'goes', 'bed', 'early', 'gets', 'a...</td>\n",
       "      <td>['roomate', 'go', 'bed', 'early', 'get', 'anno...</td>\n",
       "      <td>roomate go bed early get annoy tok move dorm f...</td>\n",
       "    </tr>\n",
       "    <tr>\n",
       "      <th>64</th>\n",
       "      <td>i just flashed in front of   peoplei was on a ...</td>\n",
       "      <td>0</td>\n",
       "      <td>['flashed', 'front', 'peoplei', 'zoom', 'call'...</td>\n",
       "      <td>['flash', 'front', 'peoplei', 'zoom', 'call', ...</td>\n",
       "      <td>flash front peoplei zoom call know camera chan...</td>\n",
       "    </tr>\n",
       "    <tr>\n",
       "      <th>100</th>\n",
       "      <td>i don't know who needs to hear this, but... . ...</td>\n",
       "      <td>0</td>\n",
       "      <td>['know', 'needs', 'hear', 'go', 'drink', 'glas...</td>\n",
       "      <td>['know', 'need', 'hear', 'go', 'drink', 'glass...</td>\n",
       "      <td>know need hear go drink glass water eat health...</td>\n",
       "    </tr>\n",
       "    <tr>\n",
       "      <th>135</th>\n",
       "      <td>just a reminder for incoming freshman to make ...</td>\n",
       "      <td>0</td>\n",
       "      <td>['reminder', 'incoming', 'freshman', 'make', '...</td>\n",
       "      <td>['reminder', 'incoming', 'freshman', 'make', '...</td>\n",
       "      <td>reminder incoming freshman make smart decision...</td>\n",
       "    </tr>\n",
       "    <tr>\n",
       "      <th>143</th>\n",
       "      <td>safety tips for college womeni am reposting fr...</td>\n",
       "      <td>0</td>\n",
       "      <td>['safety', 'tips', 'college', 'womeni', 'repos...</td>\n",
       "      <td>['safety', 'tip', 'college', 'womeni', 'repost...</td>\n",
       "      <td>safety tip college womeni reposting list make ...</td>\n",
       "    </tr>\n",
       "    <tr>\n",
       "      <th>207</th>\n",
       "      <td>yo peeps, weekends are supposed to be for rela...</td>\n",
       "      <td>0</td>\n",
       "      <td>['yo', 'peeps', 'weekends', 'supposed', 'relax...</td>\n",
       "      <td>['yo', 'peep', 'weekend', 'suppose', 'relaxati...</td>\n",
       "      <td>yo peep weekend suppose relaxation fuck much shit</td>\n",
       "    </tr>\n",
       "    <tr>\n",
       "      <th>278</th>\n",
       "      <td>do not, under any circumstances, attempt to ma...</td>\n",
       "      <td>0</td>\n",
       "      <td>['circumstances', 'attempt', 'make', 'macaroni...</td>\n",
       "      <td>['circumstance', 'attempt', 'make', 'macaroni'...</td>\n",
       "      <td>circumstance attempt make macaroni cheese elec...</td>\n",
       "    </tr>\n",
       "    <tr>\n",
       "      <th>349</th>\n",
       "      <td>what are some college culture moments or unspo...</td>\n",
       "      <td>0</td>\n",
       "      <td>['college', 'culture', 'moments', 'unspoken', ...</td>\n",
       "      <td>['college', 'culture', 'moment', 'unspoken', '...</td>\n",
       "      <td>college culture moment unspoken rulesi go firs...</td>\n",
       "    </tr>\n",
       "    <tr>\n",
       "      <th>364</th>\n",
       "      <td>don't get an animal you can't keepformer human...</td>\n",
       "      <td>0</td>\n",
       "      <td>['get', 'animal', 'keepformer', 'humane', 'soc...</td>\n",
       "      <td>['get', 'animal', 'keepformer', 'humane', 'soc...</td>\n",
       "      <td>get animal keepformer humane society volunteer...</td>\n",
       "    </tr>\n",
       "    <tr>\n",
       "      <th>376</th>\n",
       "      <td>just wet my bed what do i doi wet my bed last ...</td>\n",
       "      <td>0</td>\n",
       "      <td>['wet', 'bed', 'doi', 'wet', 'bed', 'last', 'n...</td>\n",
       "      <td>['wet', 'bed', 'doi', 'wet', 'bed', 'last', 'n...</td>\n",
       "      <td>wet bed doi wet bed last night right go remove...</td>\n",
       "    </tr>\n",
       "    <tr>\n",
       "      <th>398</th>\n",
       "      <td>i know you’re procrastinatingget off reddit</td>\n",
       "      <td>0</td>\n",
       "      <td>['know', 'procrastinatingget', 'reddit']</td>\n",
       "      <td>['know', 'procrastinatingget', 'reddit']</td>\n",
       "      <td>know procrastinatingget reddit</td>\n",
       "    </tr>\n",
       "    <tr>\n",
       "      <th>443</th>\n",
       "      <td>don’t compete over your trialsyou guys are all...</td>\n",
       "      <td>0</td>\n",
       "      <td>['compete', 'trialsyou', 'guys', 'great', 'thi...</td>\n",
       "      <td>['compete', 'trialsyou', 'guy', 'great', 'thin...</td>\n",
       "      <td>compete trialsyou guy great thing concern freq...</td>\n",
       "    </tr>\n",
       "    <tr>\n",
       "      <th>606</th>\n",
       "      <td>[meta] can we please ban \"am it too old for x\"...</td>\n",
       "      <td>0</td>\n",
       "      <td>['meta', 'please', 'ban', 'old', 'x', 'posts',...</td>\n",
       "      <td>['meta', 'please', 'ban', 'old', 'x', 'post', ...</td>\n",
       "      <td>meta please ban old x post answer always there...</td>\n",
       "    </tr>\n",
       "    <tr>\n",
       "      <th>659</th>\n",
       "      <td>i love it when teachers put memes on their sli...</td>\n",
       "      <td>0</td>\n",
       "      <td>['love', 'teachers', 'put', 'memes', 'slidesi'...</td>\n",
       "      <td>['love', 'teacher', 'put', 'meme', 'slidesi', ...</td>\n",
       "      <td>love teacher put meme slidesi notice friend fi...</td>\n",
       "    </tr>\n",
       "    <tr>\n",
       "      <th>689</th>\n",
       "      <td>dating is so hard as a woman of color in a pre...</td>\n",
       "      <td>0</td>\n",
       "      <td>['dating', 'hard', 'woman', 'color', 'predomin...</td>\n",
       "      <td>['date', 'hard', 'woman', 'color', 'predominan...</td>\n",
       "      <td>date hard woman color predominantly white coll...</td>\n",
       "    </tr>\n",
       "    <tr>\n",
       "      <th>714</th>\n",
       "      <td>what is up with all these absolute garbage stu...</td>\n",
       "      <td>0</td>\n",
       "      <td>['absolute', 'garbage', 'student', 'apartments...</td>\n",
       "      <td>['absolute', 'garbage', 'student', 'apartment'...</td>\n",
       "      <td>absolute garbage student apartment right outsi...</td>\n",
       "    </tr>\n",
       "    <tr>\n",
       "      <th>794</th>\n",
       "      <td>my roommates are greedy and lazy and i can’t t...</td>\n",
       "      <td>0</td>\n",
       "      <td>['roommates', 'greedy', 'lazy', 'take', 'anymo...</td>\n",
       "      <td>['roommate', 'greedy', 'lazy', 'take', 'anymor...</td>\n",
       "      <td>roommate greedy lazy take anymoreto preface li...</td>\n",
       "    </tr>\n",
       "    <tr>\n",
       "      <th>828</th>\n",
       "      <td>why do only so little colleges offer men’s vol...</td>\n",
       "      <td>0</td>\n",
       "      <td>['little', 'colleges', 'offer', 'men', 'volley...</td>\n",
       "      <td>['little', 'college', 'offer', 'men', 'volleyb...</td>\n",
       "      <td>little college offer men volleyball lacrosse t...</td>\n",
       "    </tr>\n",
       "    <tr>\n",
       "      <th>968</th>\n",
       "      <td>my professor keeps making transphobic jokes an...</td>\n",
       "      <td>0</td>\n",
       "      <td>['professor', 'keeps', 'making', 'transphobic'...</td>\n",
       "      <td>['professor', 'keep', 'make', 'transphobic', '...</td>\n",
       "      <td>professor keep make transphobic joke offensive...</td>\n",
       "    </tr>\n",
       "    <tr>\n",
       "      <th>1161</th>\n",
       "      <td>neighbors blasting bass boosted musici live in...</td>\n",
       "      <td>0</td>\n",
       "      <td>['neighbors', 'blasting', 'bass', 'boosted', '...</td>\n",
       "      <td>['neighbor', 'blast', 'bass', 'boost', 'musici...</td>\n",
       "      <td>neighbor blast bass boost musici live dorm nei...</td>\n",
       "    </tr>\n",
       "    <tr>\n",
       "      <th>1453</th>\n",
       "      <td>feeling out of placei don’t think i belong her...</td>\n",
       "      <td>0</td>\n",
       "      <td>['feeling', 'placei', 'think', 'belong', 'ever...</td>\n",
       "      <td>['feel', 'placei', 'think', 'belong', 'everyon...</td>\n",
       "      <td>feel placei think belong everyone much good ac...</td>\n",
       "    </tr>\n",
       "  </tbody>\n",
       "</table>\n",
       "</div>"
      ],
      "text/plain": [
       "                                                   post  sent_score  \\\n",
       "45    it’s honestly disgusting what happened to easy...           0   \n",
       "47    writing prof here: how to add to essay length ...           0   \n",
       "51    roomate goes to bed so early and gets annoyed ...           0   \n",
       "64    i just flashed in front of   peoplei was on a ...           0   \n",
       "100   i don't know who needs to hear this, but... . ...           0   \n",
       "135   just a reminder for incoming freshman to make ...           0   \n",
       "143   safety tips for college womeni am reposting fr...           0   \n",
       "207   yo peeps, weekends are supposed to be for rela...           0   \n",
       "278   do not, under any circumstances, attempt to ma...           0   \n",
       "349   what are some college culture moments or unspo...           0   \n",
       "364   don't get an animal you can't keepformer human...           0   \n",
       "376   just wet my bed what do i doi wet my bed last ...           0   \n",
       "398         i know you’re procrastinatingget off reddit           0   \n",
       "443   don’t compete over your trialsyou guys are all...           0   \n",
       "606   [meta] can we please ban \"am it too old for x\"...           0   \n",
       "659   i love it when teachers put memes on their sli...           0   \n",
       "689   dating is so hard as a woman of color in a pre...           0   \n",
       "714   what is up with all these absolute garbage stu...           0   \n",
       "794   my roommates are greedy and lazy and i can’t t...           0   \n",
       "828   why do only so little colleges offer men’s vol...           0   \n",
       "968   my professor keeps making transphobic jokes an...           0   \n",
       "1161  neighbors blasting bass boosted musici live in...           0   \n",
       "1453  feeling out of placei don’t think i belong her...           0   \n",
       "\n",
       "                                         post_tokenized  \\\n",
       "45    ['honestly', 'disgusting', 'happened', 'easybi...   \n",
       "47    ['writing', 'prof', 'add', 'essay', 'length', ...   \n",
       "51    ['roomate', 'goes', 'bed', 'early', 'gets', 'a...   \n",
       "64    ['flashed', 'front', 'peoplei', 'zoom', 'call'...   \n",
       "100   ['know', 'needs', 'hear', 'go', 'drink', 'glas...   \n",
       "135   ['reminder', 'incoming', 'freshman', 'make', '...   \n",
       "143   ['safety', 'tips', 'college', 'womeni', 'repos...   \n",
       "207   ['yo', 'peeps', 'weekends', 'supposed', 'relax...   \n",
       "278   ['circumstances', 'attempt', 'make', 'macaroni...   \n",
       "349   ['college', 'culture', 'moments', 'unspoken', ...   \n",
       "364   ['get', 'animal', 'keepformer', 'humane', 'soc...   \n",
       "376   ['wet', 'bed', 'doi', 'wet', 'bed', 'last', 'n...   \n",
       "398            ['know', 'procrastinatingget', 'reddit']   \n",
       "443   ['compete', 'trialsyou', 'guys', 'great', 'thi...   \n",
       "606   ['meta', 'please', 'ban', 'old', 'x', 'posts',...   \n",
       "659   ['love', 'teachers', 'put', 'memes', 'slidesi'...   \n",
       "689   ['dating', 'hard', 'woman', 'color', 'predomin...   \n",
       "714   ['absolute', 'garbage', 'student', 'apartments...   \n",
       "794   ['roommates', 'greedy', 'lazy', 'take', 'anymo...   \n",
       "828   ['little', 'colleges', 'offer', 'men', 'volley...   \n",
       "968   ['professor', 'keeps', 'making', 'transphobic'...   \n",
       "1161  ['neighbors', 'blasting', 'bass', 'boosted', '...   \n",
       "1453  ['feeling', 'placei', 'think', 'belong', 'ever...   \n",
       "\n",
       "                                        post_lemmatized  \\\n",
       "45    ['honestly', 'disgust', 'happen', 'easybibyoun...   \n",
       "47    ['write', 'prof', 'add', 'essay', 'length', 'w...   \n",
       "51    ['roomate', 'go', 'bed', 'early', 'get', 'anno...   \n",
       "64    ['flash', 'front', 'peoplei', 'zoom', 'call', ...   \n",
       "100   ['know', 'need', 'hear', 'go', 'drink', 'glass...   \n",
       "135   ['reminder', 'incoming', 'freshman', 'make', '...   \n",
       "143   ['safety', 'tip', 'college', 'womeni', 'repost...   \n",
       "207   ['yo', 'peep', 'weekend', 'suppose', 'relaxati...   \n",
       "278   ['circumstance', 'attempt', 'make', 'macaroni'...   \n",
       "349   ['college', 'culture', 'moment', 'unspoken', '...   \n",
       "364   ['get', 'animal', 'keepformer', 'humane', 'soc...   \n",
       "376   ['wet', 'bed', 'doi', 'wet', 'bed', 'last', 'n...   \n",
       "398            ['know', 'procrastinatingget', 'reddit']   \n",
       "443   ['compete', 'trialsyou', 'guy', 'great', 'thin...   \n",
       "606   ['meta', 'please', 'ban', 'old', 'x', 'post', ...   \n",
       "659   ['love', 'teacher', 'put', 'meme', 'slidesi', ...   \n",
       "689   ['date', 'hard', 'woman', 'color', 'predominan...   \n",
       "714   ['absolute', 'garbage', 'student', 'apartment'...   \n",
       "794   ['roommate', 'greedy', 'lazy', 'take', 'anymor...   \n",
       "828   ['little', 'college', 'offer', 'men', 'volleyb...   \n",
       "968   ['professor', 'keep', 'make', 'transphobic', '...   \n",
       "1161  ['neighbor', 'blast', 'bass', 'boost', 'musici...   \n",
       "1453  ['feel', 'placei', 'think', 'belong', 'everyon...   \n",
       "\n",
       "                                           joined_words  \n",
       "45    honestly disgust happen easybibyounger zoomers...  \n",
       "47    write prof add essay length without fluff form...  \n",
       "51    roomate go bed early get annoy tok move dorm f...  \n",
       "64    flash front peoplei zoom call know camera chan...  \n",
       "100   know need hear go drink glass water eat health...  \n",
       "135   reminder incoming freshman make smart decision...  \n",
       "143   safety tip college womeni reposting list make ...  \n",
       "207   yo peep weekend suppose relaxation fuck much shit  \n",
       "278   circumstance attempt make macaroni cheese elec...  \n",
       "349   college culture moment unspoken rulesi go firs...  \n",
       "364   get animal keepformer humane society volunteer...  \n",
       "376   wet bed doi wet bed last night right go remove...  \n",
       "398                      know procrastinatingget reddit  \n",
       "443   compete trialsyou guy great thing concern freq...  \n",
       "606   meta please ban old x post answer always there...  \n",
       "659   love teacher put meme slidesi notice friend fi...  \n",
       "689   date hard woman color predominantly white coll...  \n",
       "714   absolute garbage student apartment right outsi...  \n",
       "794   roommate greedy lazy take anymoreto preface li...  \n",
       "828   little college offer men volleyball lacrosse t...  \n",
       "968   professor keep make transphobic joke offensive...  \n",
       "1161  neighbor blast bass boost musici live dorm nei...  \n",
       "1453  feel placei think belong everyone much good ac...  "
      ]
     },
     "execution_count": 106,
     "metadata": {},
     "output_type": "execute_result"
    }
   ],
   "source": [
    "\n",
    "false_pred = college.iloc[pred_colls[pred_colls['predictions'] == 1].index]\n",
    "false_pred"
   ]
  },
  {
   "cell_type": "code",
   "execution_count": 107,
   "id": "0ba6acc8-cf18-4a06-a7cc-115d9a022b5f",
   "metadata": {},
   "outputs": [
    {
     "data": {
      "text/plain": [
       "'it’s honestly disgusting what happened to easybibyounger zoomers might not catch my drift here but damn i remember when easybib was a accessible website with literally two buttons “cite” and “search” now it’s the digital equivalent of a magazine tabloid. there’s a ton of ads everywhere, a bunch of annoying pop ups, a lot of text all around the site that blocks and obstructs everything. i also now have to watch a   second ad just to cite a source. i’m just saddened to see what was a simple and helpful service now become a monstrosity of web design.'"
      ]
     },
     "execution_count": 107,
     "metadata": {},
     "output_type": "execute_result"
    }
   ],
   "source": [
    "false_pred['post'][45]"
   ]
  },
  {
   "cell_type": "code",
   "execution_count": 108,
   "id": "bde583ad-4794-4e88-b6ce-5980d3f9dbda",
   "metadata": {},
   "outputs": [
    {
     "data": {
      "text/plain": [
       "'neighbors blasting bass boosted musici live in a dorm and my neighbors just blast heavy bass music for hours on end. i’ve told them to turn it down multiple times and whenever they answer the door they always say ‘is it the music?’ so they know it’s a problem but they just don’t care. they know that i can hear it and that’s it’s loud. i just cannot fathom how people can just blast music without a care in the world for other people. there’s no point in me going to the ra because he’s so passive he won’t do anything. it’s genuinely so frustrating because i can’t even hear music, it’s just straight bass and vibrations and it feels like the same   fucking beats over and over again. it’s a little pill shaped speaker but the base is so ridiculously loud. i just have no idea what i should do.'"
      ]
     },
     "execution_count": 108,
     "metadata": {},
     "output_type": "execute_result"
    }
   ],
   "source": [
    "false_pred['post'][1161]"
   ]
  },
  {
   "cell_type": "code",
   "execution_count": 109,
   "id": "73d26bcf-7f48-425a-9c29-e8888df03e1a",
   "metadata": {},
   "outputs": [
    {
     "data": {
      "text/plain": [
       "'why do only so little colleges offer men’s volleyball or lacrosse?the only two good sports i’m good at, and my state (nj) barely has any colleges that do have the sport, even nationally the sports aren’t very available. it’s already annoying that i had to join a men’s club since no highschool offers it but almost everywhere there is an equivalent for women’s lacrosse and volleyball. i understand that there are/were a lot of sports that women didn’t have that men did, but nowadays it’s mostly equal '"
      ]
     },
     "execution_count": 109,
     "metadata": {},
     "output_type": "execute_result"
    }
   ],
   "source": [
    "false_pred['post'][828]"
   ]
  },
  {
   "cell_type": "code",
   "execution_count": 110,
   "id": "064235e7-2762-4f71-9ea2-a609577301f9",
   "metadata": {},
   "outputs": [
    {
     "data": {
      "text/plain": [
       "'feeling out of placei don’t think i belong here, everyone here is so much better than me, at academics, at extracurriculars, at everything single damn thing! all i do is wallow in my own self-pity!\\ni can’t do anything right for the life of me!\\ni think i am literally the most boring person in class. and all i can do is wallow in my own self-pity. \\nplease help a stranger find their identity or peace in their uselessness🙏'"
      ]
     },
     "execution_count": 110,
     "metadata": {},
     "output_type": "execute_result"
    }
   ],
   "source": [
    "false_pred['post'][1453]"
   ]
  },
  {
   "cell_type": "code",
   "execution_count": null,
   "id": "e5715911-15ba-4144-833f-50661ff7a8dd",
   "metadata": {},
   "outputs": [],
   "source": []
  },
  {
   "cell_type": "code",
   "execution_count": null,
   "id": "24c9154b-ea82-4eb7-a449-6987a6f53132",
   "metadata": {},
   "outputs": [],
   "source": []
  }
 ],
 "metadata": {
  "kernelspec": {
   "display_name": "Python 3 (ipykernel)",
   "language": "python",
   "name": "python3"
  },
  "language_info": {
   "codemirror_mode": {
    "name": "ipython",
    "version": 3
   },
   "file_extension": ".py",
   "mimetype": "text/x-python",
   "name": "python",
   "nbconvert_exporter": "python",
   "pygments_lexer": "ipython3",
   "version": "3.11.5"
  }
 },
 "nbformat": 4,
 "nbformat_minor": 5
}

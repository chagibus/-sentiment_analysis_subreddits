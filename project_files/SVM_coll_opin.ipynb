{
 "cells": [
  {
   "cell_type": "code",
   "execution_count": 35,
   "id": "2e8c8513-331a-443d-8d94-09c3c0d715c7",
   "metadata": {},
   "outputs": [],
   "source": [
    "import pandas as pd\n",
    "import numpy as np\n",
    "import matplotlib.pyplot as plt\n",
    "import seaborn as sns\n",
    "\n",
    "\n",
    "from sklearn.feature_extraction.text import CountVectorizer\n",
    "from sklearn.model_selection import train_test_split, GridSearchCV,  RandomizedSearchCV, StratifiedKFold, cross_val_score\n",
    "from sklearn.pipeline import Pipeline\n",
    "\n",
    "from sklearn.svm import LinearSVC, SVC\n",
    "from sklearn.model_selection import GridSearchCV\n",
    "from sklearn.metrics import confusion_matrix, ConfusionMatrixDisplay\n",
    "from sklearn.metrics import classification_report"
   ]
  },
  {
   "cell_type": "code",
   "execution_count": 36,
   "id": "eef99a44-a9b2-4963-8e96-58f0ea83562d",
   "metadata": {},
   "outputs": [],
   "source": [
    "data = pd.read_csv('./data/lemmatized_posts.csv')"
   ]
  },
  {
   "cell_type": "code",
   "execution_count": 37,
   "id": "3520bb9e-e54f-4193-b520-91f58bc7b880",
   "metadata": {},
   "outputs": [
    {
     "data": {
      "text/html": [
       "<div>\n",
       "<style scoped>\n",
       "    .dataframe tbody tr th:only-of-type {\n",
       "        vertical-align: middle;\n",
       "    }\n",
       "\n",
       "    .dataframe tbody tr th {\n",
       "        vertical-align: top;\n",
       "    }\n",
       "\n",
       "    .dataframe thead th {\n",
       "        text-align: right;\n",
       "    }\n",
       "</style>\n",
       "<table border=\"1\" class=\"dataframe\">\n",
       "  <thead>\n",
       "    <tr style=\"text-align: right;\">\n",
       "      <th></th>\n",
       "      <th>post</th>\n",
       "      <th>sent_score</th>\n",
       "      <th>post_nochars</th>\n",
       "      <th>post_tokenized</th>\n",
       "      <th>post_lemmatized</th>\n",
       "      <th>joined_words</th>\n",
       "    </tr>\n",
       "  </thead>\n",
       "  <tbody>\n",
       "    <tr>\n",
       "      <th>0</th>\n",
       "      <td>middle aged guys don't buy sports cars because...</td>\n",
       "      <td>1</td>\n",
       "      <td>middle aged guys don't buy sports cars because...</td>\n",
       "      <td>['middle', 'aged', 'guys', 'buy', 'sports', 'c...</td>\n",
       "      <td>['middle', 'age', 'guy', 'buy', 'sport', 'car'...</td>\n",
       "      <td>middle age guy buy sport car mid life crisis f...</td>\n",
       "    </tr>\n",
       "    <tr>\n",
       "      <th>1</th>\n",
       "      <td>\"y'all\" is a brilliant use of the english lang...</td>\n",
       "      <td>1</td>\n",
       "      <td>\"y'all\" is a brilliant use of the english lang...</td>\n",
       "      <td>['brilliant', 'use', 'english', 'language', 'r...</td>\n",
       "      <td>['brilliant', 'use', 'english', 'language', 'r...</td>\n",
       "      <td>brilliant use english language refuse tell oth...</td>\n",
       "    </tr>\n",
       "  </tbody>\n",
       "</table>\n",
       "</div>"
      ],
      "text/plain": [
       "                                                post  sent_score  \\\n",
       "0  middle aged guys don't buy sports cars because...           1   \n",
       "1  \"y'all\" is a brilliant use of the english lang...           1   \n",
       "\n",
       "                                        post_nochars  \\\n",
       "0  middle aged guys don't buy sports cars because...   \n",
       "1  \"y'all\" is a brilliant use of the english lang...   \n",
       "\n",
       "                                      post_tokenized  \\\n",
       "0  ['middle', 'aged', 'guys', 'buy', 'sports', 'c...   \n",
       "1  ['brilliant', 'use', 'english', 'language', 'r...   \n",
       "\n",
       "                                     post_lemmatized  \\\n",
       "0  ['middle', 'age', 'guy', 'buy', 'sport', 'car'...   \n",
       "1  ['brilliant', 'use', 'english', 'language', 'r...   \n",
       "\n",
       "                                        joined_words  \n",
       "0  middle age guy buy sport car mid life crisis f...  \n",
       "1  brilliant use english language refuse tell oth...  "
      ]
     },
     "execution_count": 37,
     "metadata": {},
     "output_type": "execute_result"
    }
   ],
   "source": [
    "data.head(2)"
   ]
  },
  {
   "cell_type": "code",
   "execution_count": 38,
   "id": "26e9abae-113d-4856-a56e-2b193ade96e0",
   "metadata": {},
   "outputs": [
    {
     "data": {
      "text/plain": [
       "(3584, 6)"
      ]
     },
     "execution_count": 38,
     "metadata": {},
     "output_type": "execute_result"
    }
   ],
   "source": [
    "data.shape"
   ]
  },
  {
   "cell_type": "markdown",
   "id": "ded45cc1-d749-48b2-a836-910fb8b189aa",
   "metadata": {},
   "source": [
    "### Linear Support Vector Machine ML model using lammatized data"
   ]
  },
  {
   "cell_type": "code",
   "execution_count": 39,
   "id": "bf103b6f-5f91-4615-b8b7-ca349cbe143b",
   "metadata": {},
   "outputs": [],
   "source": [
    "X = data['joined_words']\n",
    "y = data['sent_score']"
   ]
  },
  {
   "cell_type": "code",
   "execution_count": 40,
   "id": "5a7c344f-0269-40f1-835b-74a20d7b18df",
   "metadata": {},
   "outputs": [
    {
     "data": {
      "text/plain": [
       "sent_score\n",
       "1    0.53404\n",
       "0    0.46596\n",
       "Name: proportion, dtype: float64"
      ]
     },
     "execution_count": 40,
     "metadata": {},
     "output_type": "execute_result"
    }
   ],
   "source": [
    "y.value_counts(normalize = True)"
   ]
  },
  {
   "cell_type": "code",
   "execution_count": 41,
   "id": "81ab2c76-2966-45c2-b889-5c52483fc6c3",
   "metadata": {},
   "outputs": [],
   "source": [
    "# split the data\n",
    "X_train, X_test, y_train, y_test = train_test_split(X,y, test_size = 0.4, random_state = 2024)"
   ]
  },
  {
   "cell_type": "code",
   "execution_count": 42,
   "id": "ddc3c20b-8237-41d9-b719-230743e3df21",
   "metadata": {},
   "outputs": [
    {
     "data": {
      "text/plain": [
       "0.4659598214285714"
      ]
     },
     "execution_count": 42,
     "metadata": {},
     "output_type": "execute_result"
    }
   ],
   "source": [
    "1 - y.mean()"
   ]
  },
  {
   "cell_type": "code",
   "execution_count": 43,
   "id": "09746e3f-93d8-408e-850c-1bd127136434",
   "metadata": {},
   "outputs": [
    {
     "data": {
      "text/html": [
       "<style>#sk-container-id-4 {color: black;background-color: white;}#sk-container-id-4 pre{padding: 0;}#sk-container-id-4 div.sk-toggleable {background-color: white;}#sk-container-id-4 label.sk-toggleable__label {cursor: pointer;display: block;width: 100%;margin-bottom: 0;padding: 0.3em;box-sizing: border-box;text-align: center;}#sk-container-id-4 label.sk-toggleable__label-arrow:before {content: \"▸\";float: left;margin-right: 0.25em;color: #696969;}#sk-container-id-4 label.sk-toggleable__label-arrow:hover:before {color: black;}#sk-container-id-4 div.sk-estimator:hover label.sk-toggleable__label-arrow:before {color: black;}#sk-container-id-4 div.sk-toggleable__content {max-height: 0;max-width: 0;overflow: hidden;text-align: left;background-color: #f0f8ff;}#sk-container-id-4 div.sk-toggleable__content pre {margin: 0.2em;color: black;border-radius: 0.25em;background-color: #f0f8ff;}#sk-container-id-4 input.sk-toggleable__control:checked~div.sk-toggleable__content {max-height: 200px;max-width: 100%;overflow: auto;}#sk-container-id-4 input.sk-toggleable__control:checked~label.sk-toggleable__label-arrow:before {content: \"▾\";}#sk-container-id-4 div.sk-estimator input.sk-toggleable__control:checked~label.sk-toggleable__label {background-color: #d4ebff;}#sk-container-id-4 div.sk-label input.sk-toggleable__control:checked~label.sk-toggleable__label {background-color: #d4ebff;}#sk-container-id-4 input.sk-hidden--visually {border: 0;clip: rect(1px 1px 1px 1px);clip: rect(1px, 1px, 1px, 1px);height: 1px;margin: -1px;overflow: hidden;padding: 0;position: absolute;width: 1px;}#sk-container-id-4 div.sk-estimator {font-family: monospace;background-color: #f0f8ff;border: 1px dotted black;border-radius: 0.25em;box-sizing: border-box;margin-bottom: 0.5em;}#sk-container-id-4 div.sk-estimator:hover {background-color: #d4ebff;}#sk-container-id-4 div.sk-parallel-item::after {content: \"\";width: 100%;border-bottom: 1px solid gray;flex-grow: 1;}#sk-container-id-4 div.sk-label:hover label.sk-toggleable__label {background-color: #d4ebff;}#sk-container-id-4 div.sk-serial::before {content: \"\";position: absolute;border-left: 1px solid gray;box-sizing: border-box;top: 0;bottom: 0;left: 50%;z-index: 0;}#sk-container-id-4 div.sk-serial {display: flex;flex-direction: column;align-items: center;background-color: white;padding-right: 0.2em;padding-left: 0.2em;position: relative;}#sk-container-id-4 div.sk-item {position: relative;z-index: 1;}#sk-container-id-4 div.sk-parallel {display: flex;align-items: stretch;justify-content: center;background-color: white;position: relative;}#sk-container-id-4 div.sk-item::before, #sk-container-id-4 div.sk-parallel-item::before {content: \"\";position: absolute;border-left: 1px solid gray;box-sizing: border-box;top: 0;bottom: 0;left: 50%;z-index: -1;}#sk-container-id-4 div.sk-parallel-item {display: flex;flex-direction: column;z-index: 1;position: relative;background-color: white;}#sk-container-id-4 div.sk-parallel-item:first-child::after {align-self: flex-end;width: 50%;}#sk-container-id-4 div.sk-parallel-item:last-child::after {align-self: flex-start;width: 50%;}#sk-container-id-4 div.sk-parallel-item:only-child::after {width: 0;}#sk-container-id-4 div.sk-dashed-wrapped {border: 1px dashed gray;margin: 0 0.4em 0.5em 0.4em;box-sizing: border-box;padding-bottom: 0.4em;background-color: white;}#sk-container-id-4 div.sk-label label {font-family: monospace;font-weight: bold;display: inline-block;line-height: 1.2em;}#sk-container-id-4 div.sk-label-container {text-align: center;}#sk-container-id-4 div.sk-container {/* jupyter's `normalize.less` sets `[hidden] { display: none; }` but bootstrap.min.css set `[hidden] { display: none !important; }` so we also need the `!important` here to be able to override the default hidden behavior on the sphinx rendered scikit-learn.org. See: https://github.com/scikit-learn/scikit-learn/issues/21755 */display: inline-block !important;position: relative;}#sk-container-id-4 div.sk-text-repr-fallback {display: none;}</style><div id=\"sk-container-id-4\" class=\"sk-top-container\"><div class=\"sk-text-repr-fallback\"><pre>CountVectorizer()</pre><b>In a Jupyter environment, please rerun this cell to show the HTML representation or trust the notebook. <br />On GitHub, the HTML representation is unable to render, please try loading this page with nbviewer.org.</b></div><div class=\"sk-container\" hidden><div class=\"sk-item\"><div class=\"sk-estimator sk-toggleable\"><input class=\"sk-toggleable__control sk-hidden--visually\" id=\"sk-estimator-id-4\" type=\"checkbox\" checked><label for=\"sk-estimator-id-4\" class=\"sk-toggleable__label sk-toggleable__label-arrow\">CountVectorizer</label><div class=\"sk-toggleable__content\"><pre>CountVectorizer()</pre></div></div></div></div></div>"
      ],
      "text/plain": [
       "CountVectorizer()"
      ]
     },
     "execution_count": 43,
     "metadata": {},
     "output_type": "execute_result"
    }
   ],
   "source": [
    "#instantiate a CounterVectorizer\n",
    "cvec = CountVectorizer()\n",
    "cvec.fit(X_train)"
   ]
  },
  {
   "cell_type": "code",
   "execution_count": 44,
   "id": "ac97d83a-d162-4e02-bda9-d784b4206b03",
   "metadata": {},
   "outputs": [],
   "source": [
    "X_train_cv = cvec.transform(X_train)\n",
    "X_test_cv = cvec.transform(X_test)"
   ]
  },
  {
   "cell_type": "code",
   "execution_count": 45,
   "id": "c0e7dd36-5cc6-4a01-b54b-5c5ad62616fe",
   "metadata": {},
   "outputs": [
    {
     "data": {
      "text/plain": [
       "(2150, 13220)"
      ]
     },
     "execution_count": 45,
     "metadata": {},
     "output_type": "execute_result"
    }
   ],
   "source": [
    "X_train_cv.shape"
   ]
  },
  {
   "cell_type": "code",
   "execution_count": 46,
   "id": "02f74b34-bb6d-4e44-a2b2-b5e74975b84b",
   "metadata": {},
   "outputs": [],
   "source": [
    "pgrid = {\"C\": np.linspace(0.0001, 2, 10)}"
   ]
  },
  {
   "cell_type": "code",
   "execution_count": 47,
   "id": "0be7d661-5333-4f0e-9ba2-5420754d22df",
   "metadata": {},
   "outputs": [],
   "source": [
    "# Instantiate and fit a gridsearch model for this SVC!\n",
    "svc = LinearSVC(max_iter = 20000)\n",
    "\n",
    "cv = StratifiedKFold(n_splits=5, shuffle=True, random_state=42)\n",
    "\n",
    "gcv = GridSearchCV(svc, pgrid, cv=5)\n",
    "gcv.fit(X_train_cv, y_train);"
   ]
  },
  {
   "cell_type": "code",
   "execution_count": 48,
   "id": "a37a5fcb-784d-4a95-b12e-bdfa902ca6ed",
   "metadata": {},
   "outputs": [
    {
     "data": {
      "text/html": [
       "<style>#sk-container-id-5 {color: black;background-color: white;}#sk-container-id-5 pre{padding: 0;}#sk-container-id-5 div.sk-toggleable {background-color: white;}#sk-container-id-5 label.sk-toggleable__label {cursor: pointer;display: block;width: 100%;margin-bottom: 0;padding: 0.3em;box-sizing: border-box;text-align: center;}#sk-container-id-5 label.sk-toggleable__label-arrow:before {content: \"▸\";float: left;margin-right: 0.25em;color: #696969;}#sk-container-id-5 label.sk-toggleable__label-arrow:hover:before {color: black;}#sk-container-id-5 div.sk-estimator:hover label.sk-toggleable__label-arrow:before {color: black;}#sk-container-id-5 div.sk-toggleable__content {max-height: 0;max-width: 0;overflow: hidden;text-align: left;background-color: #f0f8ff;}#sk-container-id-5 div.sk-toggleable__content pre {margin: 0.2em;color: black;border-radius: 0.25em;background-color: #f0f8ff;}#sk-container-id-5 input.sk-toggleable__control:checked~div.sk-toggleable__content {max-height: 200px;max-width: 100%;overflow: auto;}#sk-container-id-5 input.sk-toggleable__control:checked~label.sk-toggleable__label-arrow:before {content: \"▾\";}#sk-container-id-5 div.sk-estimator input.sk-toggleable__control:checked~label.sk-toggleable__label {background-color: #d4ebff;}#sk-container-id-5 div.sk-label input.sk-toggleable__control:checked~label.sk-toggleable__label {background-color: #d4ebff;}#sk-container-id-5 input.sk-hidden--visually {border: 0;clip: rect(1px 1px 1px 1px);clip: rect(1px, 1px, 1px, 1px);height: 1px;margin: -1px;overflow: hidden;padding: 0;position: absolute;width: 1px;}#sk-container-id-5 div.sk-estimator {font-family: monospace;background-color: #f0f8ff;border: 1px dotted black;border-radius: 0.25em;box-sizing: border-box;margin-bottom: 0.5em;}#sk-container-id-5 div.sk-estimator:hover {background-color: #d4ebff;}#sk-container-id-5 div.sk-parallel-item::after {content: \"\";width: 100%;border-bottom: 1px solid gray;flex-grow: 1;}#sk-container-id-5 div.sk-label:hover label.sk-toggleable__label {background-color: #d4ebff;}#sk-container-id-5 div.sk-serial::before {content: \"\";position: absolute;border-left: 1px solid gray;box-sizing: border-box;top: 0;bottom: 0;left: 50%;z-index: 0;}#sk-container-id-5 div.sk-serial {display: flex;flex-direction: column;align-items: center;background-color: white;padding-right: 0.2em;padding-left: 0.2em;position: relative;}#sk-container-id-5 div.sk-item {position: relative;z-index: 1;}#sk-container-id-5 div.sk-parallel {display: flex;align-items: stretch;justify-content: center;background-color: white;position: relative;}#sk-container-id-5 div.sk-item::before, #sk-container-id-5 div.sk-parallel-item::before {content: \"\";position: absolute;border-left: 1px solid gray;box-sizing: border-box;top: 0;bottom: 0;left: 50%;z-index: -1;}#sk-container-id-5 div.sk-parallel-item {display: flex;flex-direction: column;z-index: 1;position: relative;background-color: white;}#sk-container-id-5 div.sk-parallel-item:first-child::after {align-self: flex-end;width: 50%;}#sk-container-id-5 div.sk-parallel-item:last-child::after {align-self: flex-start;width: 50%;}#sk-container-id-5 div.sk-parallel-item:only-child::after {width: 0;}#sk-container-id-5 div.sk-dashed-wrapped {border: 1px dashed gray;margin: 0 0.4em 0.5em 0.4em;box-sizing: border-box;padding-bottom: 0.4em;background-color: white;}#sk-container-id-5 div.sk-label label {font-family: monospace;font-weight: bold;display: inline-block;line-height: 1.2em;}#sk-container-id-5 div.sk-label-container {text-align: center;}#sk-container-id-5 div.sk-container {/* jupyter's `normalize.less` sets `[hidden] { display: none; }` but bootstrap.min.css set `[hidden] { display: none !important; }` so we also need the `!important` here to be able to override the default hidden behavior on the sphinx rendered scikit-learn.org. See: https://github.com/scikit-learn/scikit-learn/issues/21755 */display: inline-block !important;position: relative;}#sk-container-id-5 div.sk-text-repr-fallback {display: none;}</style><div id=\"sk-container-id-5\" class=\"sk-top-container\"><div class=\"sk-text-repr-fallback\"><pre>LinearSVC(max_iter=20000)</pre><b>In a Jupyter environment, please rerun this cell to show the HTML representation or trust the notebook. <br />On GitHub, the HTML representation is unable to render, please try loading this page with nbviewer.org.</b></div><div class=\"sk-container\" hidden><div class=\"sk-item\"><div class=\"sk-estimator sk-toggleable\"><input class=\"sk-toggleable__control sk-hidden--visually\" id=\"sk-estimator-id-5\" type=\"checkbox\" checked><label for=\"sk-estimator-id-5\" class=\"sk-toggleable__label sk-toggleable__label-arrow\">LinearSVC</label><div class=\"sk-toggleable__content\"><pre>LinearSVC(max_iter=20000)</pre></div></div></div></div></div>"
      ],
      "text/plain": [
       "LinearSVC(max_iter=20000)"
      ]
     },
     "execution_count": 48,
     "metadata": {},
     "output_type": "execute_result"
    }
   ],
   "source": [
    "svc.fit(X_train_cv, y_train)"
   ]
  },
  {
   "cell_type": "code",
   "execution_count": 49,
   "id": "df44d2cb-9237-4455-8c0b-6a7897a0963c",
   "metadata": {},
   "outputs": [
    {
     "data": {
      "text/plain": [
       "1.0"
      ]
     },
     "execution_count": 49,
     "metadata": {},
     "output_type": "execute_result"
    }
   ],
   "source": [
    "svc.score(X_train_cv, y_train)"
   ]
  },
  {
   "cell_type": "code",
   "execution_count": 50,
   "id": "a06909c6-51c1-488e-b05d-656a3302e13d",
   "metadata": {},
   "outputs": [
    {
     "data": {
      "text/plain": [
       "0.9490934449093444"
      ]
     },
     "execution_count": 50,
     "metadata": {},
     "output_type": "execute_result"
    }
   ],
   "source": [
    "svc.score(X_test_cv, y_test)"
   ]
  },
  {
   "cell_type": "code",
   "execution_count": 51,
   "id": "41f5ae55-30e6-438f-8c58-55663d0b06a1",
   "metadata": {},
   "outputs": [
    {
     "data": {
      "text/plain": [
       "0.9483720930232558"
      ]
     },
     "execution_count": 51,
     "metadata": {},
     "output_type": "execute_result"
    }
   ],
   "source": [
    "gcv.best_score_"
   ]
  },
  {
   "cell_type": "code",
   "execution_count": 52,
   "id": "ccd80416-a903-4620-930a-160981086eac",
   "metadata": {},
   "outputs": [
    {
     "data": {
      "text/plain": [
       "{'C': 0.2223111111111111}"
      ]
     },
     "execution_count": 52,
     "metadata": {},
     "output_type": "execute_result"
    }
   ],
   "source": [
    "gcv.best_params_"
   ]
  },
  {
   "cell_type": "code",
   "execution_count": 53,
   "id": "ebc28190-1fa3-4e6b-8652-19ca584c3063",
   "metadata": {},
   "outputs": [
    {
     "data": {
      "text/plain": [
       "{'mean_fit_time': array([0.0060689 , 0.0065413 , 0.00900874, 0.0070395 , 0.00882483,\n",
       "        0.00354033, 0.0062664 , 0.00312285, 0.00625539, 0.00947046]),\n",
       " 'std_fit_time': array([0.00538899, 0.00160737, 0.00752865, 0.00848289, 0.00407088,\n",
       "        0.0028935 , 0.00767479, 0.00624571, 0.00766125, 0.00933094]),\n",
       " 'mean_score_time': array([0.00019774, 0.00076838, 0.00323277, 0.00309534, 0.00039659,\n",
       "        0.00353017, 0.        , 0.00312395, 0.        , 0.        ]),\n",
       " 'std_score_time': array([0.00039549, 0.00038603, 0.00646553, 0.00619068, 0.00048575,\n",
       "        0.00607068, 0.        , 0.0062479 , 0.        , 0.        ]),\n",
       " 'param_C': masked_array(data=[0.0001, 0.2223111111111111, 0.4445222222222222,\n",
       "                    0.6667333333333333, 0.8889444444444444,\n",
       "                    1.1111555555555555, 1.3333666666666666,\n",
       "                    1.5555777777777777, 1.7777888888888889, 2.0],\n",
       "              mask=[False, False, False, False, False, False, False, False,\n",
       "                    False, False],\n",
       "        fill_value='?',\n",
       "             dtype=object),\n",
       " 'params': [{'C': 0.0001},\n",
       "  {'C': 0.2223111111111111},\n",
       "  {'C': 0.4445222222222222},\n",
       "  {'C': 0.6667333333333333},\n",
       "  {'C': 0.8889444444444444},\n",
       "  {'C': 1.1111555555555555},\n",
       "  {'C': 1.3333666666666666},\n",
       "  {'C': 1.5555777777777777},\n",
       "  {'C': 1.7777888888888889},\n",
       "  {'C': 2.0}],\n",
       " 'split0_test_score': array([0.91395349, 0.93488372, 0.93488372, 0.93488372, 0.93255814,\n",
       "        0.93255814, 0.93255814, 0.93255814, 0.93255814, 0.93255814]),\n",
       " 'split1_test_score': array([0.92325581, 0.94186047, 0.93023256, 0.93023256, 0.92790698,\n",
       "        0.93023256, 0.93023256, 0.93023256, 0.92790698, 0.92790698]),\n",
       " 'split2_test_score': array([0.9255814 , 0.95813953, 0.95581395, 0.94186047, 0.94186047,\n",
       "        0.9372093 , 0.9372093 , 0.93953488, 0.93953488, 0.93953488]),\n",
       " 'split3_test_score': array([0.9372093 , 0.95581395, 0.95116279, 0.95116279, 0.94883721,\n",
       "        0.94883721, 0.94883721, 0.94651163, 0.94651163, 0.94651163]),\n",
       " 'split4_test_score': array([0.94883721, 0.95116279, 0.94651163, 0.94651163, 0.94651163,\n",
       "        0.94651163, 0.94418605, 0.94186047, 0.94186047, 0.94186047]),\n",
       " 'mean_test_score': array([0.92976744, 0.94837209, 0.94372093, 0.94093023, 0.93953488,\n",
       "        0.93906977, 0.93860465, 0.93813953, 0.93767442, 0.93767442]),\n",
       " 'std_test_score': array([0.01207512, 0.00875111, 0.00968961, 0.00758582, 0.00805605,\n",
       "        0.00741273, 0.00699223, 0.0059926 , 0.00664319, 0.00664319]),\n",
       " 'rank_test_score': array([10,  1,  2,  3,  4,  5,  6,  7,  8,  8])}"
      ]
     },
     "execution_count": 53,
     "metadata": {},
     "output_type": "execute_result"
    }
   ],
   "source": [
    "gcv.cv_results_"
   ]
  },
  {
   "cell_type": "code",
   "execution_count": 54,
   "id": "790fea0a-15a2-4f52-9076-b586dee9553a",
   "metadata": {
    "scrolled": true
   },
   "outputs": [
    {
     "data": {
      "text/html": [
       "<div>\n",
       "<style scoped>\n",
       "    .dataframe tbody tr th:only-of-type {\n",
       "        vertical-align: middle;\n",
       "    }\n",
       "\n",
       "    .dataframe tbody tr th {\n",
       "        vertical-align: top;\n",
       "    }\n",
       "\n",
       "    .dataframe thead th {\n",
       "        text-align: right;\n",
       "    }\n",
       "</style>\n",
       "<table border=\"1\" class=\"dataframe\">\n",
       "  <thead>\n",
       "    <tr style=\"text-align: right;\">\n",
       "      <th></th>\n",
       "      <th>mean_fit_time</th>\n",
       "      <th>std_fit_time</th>\n",
       "      <th>mean_score_time</th>\n",
       "      <th>std_score_time</th>\n",
       "      <th>param_C</th>\n",
       "      <th>params</th>\n",
       "      <th>split0_test_score</th>\n",
       "      <th>split1_test_score</th>\n",
       "      <th>split2_test_score</th>\n",
       "      <th>split3_test_score</th>\n",
       "      <th>split4_test_score</th>\n",
       "      <th>mean_test_score</th>\n",
       "      <th>std_test_score</th>\n",
       "      <th>rank_test_score</th>\n",
       "    </tr>\n",
       "  </thead>\n",
       "  <tbody>\n",
       "    <tr>\n",
       "      <th>0</th>\n",
       "      <td>0.006069</td>\n",
       "      <td>0.005389</td>\n",
       "      <td>0.000198</td>\n",
       "      <td>0.000395</td>\n",
       "      <td>0.0001</td>\n",
       "      <td>{'C': 0.0001}</td>\n",
       "      <td>0.913953</td>\n",
       "      <td>0.923256</td>\n",
       "      <td>0.925581</td>\n",
       "      <td>0.937209</td>\n",
       "      <td>0.948837</td>\n",
       "      <td>0.929767</td>\n",
       "      <td>0.012075</td>\n",
       "      <td>10</td>\n",
       "    </tr>\n",
       "    <tr>\n",
       "      <th>1</th>\n",
       "      <td>0.006541</td>\n",
       "      <td>0.001607</td>\n",
       "      <td>0.000768</td>\n",
       "      <td>0.000386</td>\n",
       "      <td>0.222311</td>\n",
       "      <td>{'C': 0.2223111111111111}</td>\n",
       "      <td>0.934884</td>\n",
       "      <td>0.941860</td>\n",
       "      <td>0.958140</td>\n",
       "      <td>0.955814</td>\n",
       "      <td>0.951163</td>\n",
       "      <td>0.948372</td>\n",
       "      <td>0.008751</td>\n",
       "      <td>1</td>\n",
       "    </tr>\n",
       "    <tr>\n",
       "      <th>2</th>\n",
       "      <td>0.009009</td>\n",
       "      <td>0.007529</td>\n",
       "      <td>0.003233</td>\n",
       "      <td>0.006466</td>\n",
       "      <td>0.444522</td>\n",
       "      <td>{'C': 0.4445222222222222}</td>\n",
       "      <td>0.934884</td>\n",
       "      <td>0.930233</td>\n",
       "      <td>0.955814</td>\n",
       "      <td>0.951163</td>\n",
       "      <td>0.946512</td>\n",
       "      <td>0.943721</td>\n",
       "      <td>0.009690</td>\n",
       "      <td>2</td>\n",
       "    </tr>\n",
       "    <tr>\n",
       "      <th>3</th>\n",
       "      <td>0.007039</td>\n",
       "      <td>0.008483</td>\n",
       "      <td>0.003095</td>\n",
       "      <td>0.006191</td>\n",
       "      <td>0.666733</td>\n",
       "      <td>{'C': 0.6667333333333333}</td>\n",
       "      <td>0.934884</td>\n",
       "      <td>0.930233</td>\n",
       "      <td>0.941860</td>\n",
       "      <td>0.951163</td>\n",
       "      <td>0.946512</td>\n",
       "      <td>0.940930</td>\n",
       "      <td>0.007586</td>\n",
       "      <td>3</td>\n",
       "    </tr>\n",
       "    <tr>\n",
       "      <th>4</th>\n",
       "      <td>0.008825</td>\n",
       "      <td>0.004071</td>\n",
       "      <td>0.000397</td>\n",
       "      <td>0.000486</td>\n",
       "      <td>0.888944</td>\n",
       "      <td>{'C': 0.8889444444444444}</td>\n",
       "      <td>0.932558</td>\n",
       "      <td>0.927907</td>\n",
       "      <td>0.941860</td>\n",
       "      <td>0.948837</td>\n",
       "      <td>0.946512</td>\n",
       "      <td>0.939535</td>\n",
       "      <td>0.008056</td>\n",
       "      <td>4</td>\n",
       "    </tr>\n",
       "    <tr>\n",
       "      <th>5</th>\n",
       "      <td>0.003540</td>\n",
       "      <td>0.002894</td>\n",
       "      <td>0.003530</td>\n",
       "      <td>0.006071</td>\n",
       "      <td>1.111156</td>\n",
       "      <td>{'C': 1.1111555555555555}</td>\n",
       "      <td>0.932558</td>\n",
       "      <td>0.930233</td>\n",
       "      <td>0.937209</td>\n",
       "      <td>0.948837</td>\n",
       "      <td>0.946512</td>\n",
       "      <td>0.939070</td>\n",
       "      <td>0.007413</td>\n",
       "      <td>5</td>\n",
       "    </tr>\n",
       "    <tr>\n",
       "      <th>6</th>\n",
       "      <td>0.006266</td>\n",
       "      <td>0.007675</td>\n",
       "      <td>0.000000</td>\n",
       "      <td>0.000000</td>\n",
       "      <td>1.333367</td>\n",
       "      <td>{'C': 1.3333666666666666}</td>\n",
       "      <td>0.932558</td>\n",
       "      <td>0.930233</td>\n",
       "      <td>0.937209</td>\n",
       "      <td>0.948837</td>\n",
       "      <td>0.944186</td>\n",
       "      <td>0.938605</td>\n",
       "      <td>0.006992</td>\n",
       "      <td>6</td>\n",
       "    </tr>\n",
       "    <tr>\n",
       "      <th>7</th>\n",
       "      <td>0.003123</td>\n",
       "      <td>0.006246</td>\n",
       "      <td>0.003124</td>\n",
       "      <td>0.006248</td>\n",
       "      <td>1.555578</td>\n",
       "      <td>{'C': 1.5555777777777777}</td>\n",
       "      <td>0.932558</td>\n",
       "      <td>0.930233</td>\n",
       "      <td>0.939535</td>\n",
       "      <td>0.946512</td>\n",
       "      <td>0.941860</td>\n",
       "      <td>0.938140</td>\n",
       "      <td>0.005993</td>\n",
       "      <td>7</td>\n",
       "    </tr>\n",
       "    <tr>\n",
       "      <th>8</th>\n",
       "      <td>0.006255</td>\n",
       "      <td>0.007661</td>\n",
       "      <td>0.000000</td>\n",
       "      <td>0.000000</td>\n",
       "      <td>1.777789</td>\n",
       "      <td>{'C': 1.7777888888888889}</td>\n",
       "      <td>0.932558</td>\n",
       "      <td>0.927907</td>\n",
       "      <td>0.939535</td>\n",
       "      <td>0.946512</td>\n",
       "      <td>0.941860</td>\n",
       "      <td>0.937674</td>\n",
       "      <td>0.006643</td>\n",
       "      <td>8</td>\n",
       "    </tr>\n",
       "    <tr>\n",
       "      <th>9</th>\n",
       "      <td>0.009470</td>\n",
       "      <td>0.009331</td>\n",
       "      <td>0.000000</td>\n",
       "      <td>0.000000</td>\n",
       "      <td>2.0</td>\n",
       "      <td>{'C': 2.0}</td>\n",
       "      <td>0.932558</td>\n",
       "      <td>0.927907</td>\n",
       "      <td>0.939535</td>\n",
       "      <td>0.946512</td>\n",
       "      <td>0.941860</td>\n",
       "      <td>0.937674</td>\n",
       "      <td>0.006643</td>\n",
       "      <td>8</td>\n",
       "    </tr>\n",
       "  </tbody>\n",
       "</table>\n",
       "</div>"
      ],
      "text/plain": [
       "   mean_fit_time  std_fit_time  mean_score_time  std_score_time   param_C  \\\n",
       "0       0.006069      0.005389         0.000198        0.000395    0.0001   \n",
       "1       0.006541      0.001607         0.000768        0.000386  0.222311   \n",
       "2       0.009009      0.007529         0.003233        0.006466  0.444522   \n",
       "3       0.007039      0.008483         0.003095        0.006191  0.666733   \n",
       "4       0.008825      0.004071         0.000397        0.000486  0.888944   \n",
       "5       0.003540      0.002894         0.003530        0.006071  1.111156   \n",
       "6       0.006266      0.007675         0.000000        0.000000  1.333367   \n",
       "7       0.003123      0.006246         0.003124        0.006248  1.555578   \n",
       "8       0.006255      0.007661         0.000000        0.000000  1.777789   \n",
       "9       0.009470      0.009331         0.000000        0.000000       2.0   \n",
       "\n",
       "                      params  split0_test_score  split1_test_score  \\\n",
       "0              {'C': 0.0001}           0.913953           0.923256   \n",
       "1  {'C': 0.2223111111111111}           0.934884           0.941860   \n",
       "2  {'C': 0.4445222222222222}           0.934884           0.930233   \n",
       "3  {'C': 0.6667333333333333}           0.934884           0.930233   \n",
       "4  {'C': 0.8889444444444444}           0.932558           0.927907   \n",
       "5  {'C': 1.1111555555555555}           0.932558           0.930233   \n",
       "6  {'C': 1.3333666666666666}           0.932558           0.930233   \n",
       "7  {'C': 1.5555777777777777}           0.932558           0.930233   \n",
       "8  {'C': 1.7777888888888889}           0.932558           0.927907   \n",
       "9                 {'C': 2.0}           0.932558           0.927907   \n",
       "\n",
       "   split2_test_score  split3_test_score  split4_test_score  mean_test_score  \\\n",
       "0           0.925581           0.937209           0.948837         0.929767   \n",
       "1           0.958140           0.955814           0.951163         0.948372   \n",
       "2           0.955814           0.951163           0.946512         0.943721   \n",
       "3           0.941860           0.951163           0.946512         0.940930   \n",
       "4           0.941860           0.948837           0.946512         0.939535   \n",
       "5           0.937209           0.948837           0.946512         0.939070   \n",
       "6           0.937209           0.948837           0.944186         0.938605   \n",
       "7           0.939535           0.946512           0.941860         0.938140   \n",
       "8           0.939535           0.946512           0.941860         0.937674   \n",
       "9           0.939535           0.946512           0.941860         0.937674   \n",
       "\n",
       "   std_test_score  rank_test_score  \n",
       "0        0.012075               10  \n",
       "1        0.008751                1  \n",
       "2        0.009690                2  \n",
       "3        0.007586                3  \n",
       "4        0.008056                4  \n",
       "5        0.007413                5  \n",
       "6        0.006992                6  \n",
       "7        0.005993                7  \n",
       "8        0.006643                8  \n",
       "9        0.006643                8  "
      ]
     },
     "execution_count": 54,
     "metadata": {},
     "output_type": "execute_result"
    }
   ],
   "source": [
    "pd.DataFrame(gcv.cv_results_)"
   ]
  },
  {
   "cell_type": "markdown",
   "id": "b4441253-0c4d-474b-94da-454f66df7bd1",
   "metadata": {},
   "source": [
    "#### KFold cross-validation"
   ]
  },
  {
   "cell_type": "code",
   "execution_count": 69,
   "id": "5f5cf125-aaed-48b1-852b-ecd3f04bf74c",
   "metadata": {},
   "outputs": [
    {
     "data": {
      "text/plain": [
       "array([0.93255814, 0.92790698, 0.9372093 , 0.94883721, 0.94651163])"
      ]
     },
     "execution_count": 69,
     "metadata": {},
     "output_type": "execute_result"
    }
   ],
   "source": [
    "cross_val_score(svc, X_train_cv, y_train, cv=5)"
   ]
  },
  {
   "cell_type": "code",
   "execution_count": 70,
   "id": "d292a9d1-ac3d-4087-b253-437cfebf9ae6",
   "metadata": {},
   "outputs": [
    {
     "data": {
      "text/plain": [
       "array([0.93728223, 0.91986063, 0.94076655, 0.93728223, 0.91958042])"
      ]
     },
     "execution_count": 70,
     "metadata": {},
     "output_type": "execute_result"
    }
   ],
   "source": [
    "cross_val_score(svc, X_test_cv, y_test, cv=5)"
   ]
  },
  {
   "cell_type": "code",
   "execution_count": null,
   "id": "07dfe7ec-2a67-4ebb-927b-8fb0322df837",
   "metadata": {},
   "outputs": [],
   "source": []
  },
  {
   "cell_type": "code",
   "execution_count": 55,
   "id": "e99c8759-a262-4a36-a722-a7e5cf6ff5d4",
   "metadata": {},
   "outputs": [
    {
     "data": {
      "text/plain": [
       "0.9386046511627907"
      ]
     },
     "execution_count": 55,
     "metadata": {},
     "output_type": "execute_result"
    }
   ],
   "source": [
    "np.mean(cross_val_score(svc, X_train_cv, y_train, cv=5))"
   ]
  },
  {
   "cell_type": "code",
   "execution_count": 56,
   "id": "eda978f7-d290-4984-8ee1-09a90e5b2faf",
   "metadata": {},
   "outputs": [
    {
     "data": {
      "text/plain": [
       "0.9437209302325581"
      ]
     },
     "execution_count": 56,
     "metadata": {},
     "output_type": "execute_result"
    }
   ],
   "source": [
    "from sklearn.model_selection import KFold\n",
    "kf = KFold(n_splits=5, shuffle = True, random_state=2024)\n",
    "np.mean(cross_val_score(svc, X_train_cv, y_train, cv = kf))"
   ]
  },
  {
   "cell_type": "markdown",
   "id": "f0e2ec5d-5531-4e07-b99e-3f3d55fa93dc",
   "metadata": {},
   "source": [
    "#### Apply trained SVM ML for Sentiment prediction of  college posts"
   ]
  },
  {
   "cell_type": "code",
   "execution_count": 57,
   "id": "d731947f-bf4b-4cfd-a439-9e8ffd9bc8b7",
   "metadata": {},
   "outputs": [],
   "source": [
    "college = pd.read_csv('./data/coll_lemmatized_posts.csv')"
   ]
  },
  {
   "cell_type": "code",
   "execution_count": 58,
   "id": "04287262-84d6-4bfc-b680-cbccbd832b2c",
   "metadata": {},
   "outputs": [
    {
     "data": {
      "text/html": [
       "<div>\n",
       "<style scoped>\n",
       "    .dataframe tbody tr th:only-of-type {\n",
       "        vertical-align: middle;\n",
       "    }\n",
       "\n",
       "    .dataframe tbody tr th {\n",
       "        vertical-align: top;\n",
       "    }\n",
       "\n",
       "    .dataframe thead th {\n",
       "        text-align: right;\n",
       "    }\n",
       "</style>\n",
       "<table border=\"1\" class=\"dataframe\">\n",
       "  <thead>\n",
       "    <tr style=\"text-align: right;\">\n",
       "      <th></th>\n",
       "      <th>post</th>\n",
       "      <th>sent_score</th>\n",
       "      <th>post_tokenized</th>\n",
       "      <th>post_lemmatized</th>\n",
       "      <th>joined_words</th>\n",
       "    </tr>\n",
       "  </thead>\n",
       "  <tbody>\n",
       "    <tr>\n",
       "      <th>0</th>\n",
       "      <td>ever have a kid in class show up and realize i...</td>\n",
       "      <td>0</td>\n",
       "      <td>['ever', 'kid', 'class', 'show', 'realize', 'e...</td>\n",
       "      <td>['ever', 'kid', 'class', 'show', 'realize', 'e...</td>\n",
       "      <td>ever kid class show realize exam day get leave...</td>\n",
       "    </tr>\n",
       "    <tr>\n",
       "      <th>1</th>\n",
       "      <td>it’s the little things that count, this profes...</td>\n",
       "      <td>0</td>\n",
       "      <td>['little', 'things', 'count', 'professor', 'ge...</td>\n",
       "      <td>['little', 'thing', 'count', 'professor', 'gem...</td>\n",
       "      <td>little thing count professor gem stay late com...</td>\n",
       "    </tr>\n",
       "    <tr>\n",
       "      <th>2</th>\n",
       "      <td>professor saved my assduring winter term at my...</td>\n",
       "      <td>0</td>\n",
       "      <td>['professor', 'saved', 'assduring', 'winter', ...</td>\n",
       "      <td>['professor', 'save', 'assduring', 'winter', '...</td>\n",
       "      <td>professor save assduring winter term uni bad m...</td>\n",
       "    </tr>\n",
       "    <tr>\n",
       "      <th>3</th>\n",
       "      <td>my professor gave out all the answers to the f...</td>\n",
       "      <td>0</td>\n",
       "      <td>['professor', 'gave', 'answers', 'final', 'lef...</td>\n",
       "      <td>['professor', 'give', 'answer', 'final', 'leav...</td>\n",
       "      <td>professor give answer final leave exam hall ce...</td>\n",
       "    </tr>\n",
       "    <tr>\n",
       "      <th>4</th>\n",
       "      <td>an honest letter from your university presiden...</td>\n",
       "      <td>0</td>\n",
       "      <td>['honest', 'letter', 'university', 'president'...</td>\n",
       "      <td>['honest', 'letter', 'university', 'president'...</td>\n",
       "      <td>honest letter university president open fallde...</td>\n",
       "    </tr>\n",
       "  </tbody>\n",
       "</table>\n",
       "</div>"
      ],
      "text/plain": [
       "                                                post  sent_score  \\\n",
       "0  ever have a kid in class show up and realize i...           0   \n",
       "1  it’s the little things that count, this profes...           0   \n",
       "2  professor saved my assduring winter term at my...           0   \n",
       "3  my professor gave out all the answers to the f...           0   \n",
       "4  an honest letter from your university presiden...           0   \n",
       "\n",
       "                                      post_tokenized  \\\n",
       "0  ['ever', 'kid', 'class', 'show', 'realize', 'e...   \n",
       "1  ['little', 'things', 'count', 'professor', 'ge...   \n",
       "2  ['professor', 'saved', 'assduring', 'winter', ...   \n",
       "3  ['professor', 'gave', 'answers', 'final', 'lef...   \n",
       "4  ['honest', 'letter', 'university', 'president'...   \n",
       "\n",
       "                                     post_lemmatized  \\\n",
       "0  ['ever', 'kid', 'class', 'show', 'realize', 'e...   \n",
       "1  ['little', 'thing', 'count', 'professor', 'gem...   \n",
       "2  ['professor', 'save', 'assduring', 'winter', '...   \n",
       "3  ['professor', 'give', 'answer', 'final', 'leav...   \n",
       "4  ['honest', 'letter', 'university', 'president'...   \n",
       "\n",
       "                                        joined_words  \n",
       "0  ever kid class show realize exam day get leave...  \n",
       "1  little thing count professor gem stay late com...  \n",
       "2  professor save assduring winter term uni bad m...  \n",
       "3  professor give answer final leave exam hall ce...  \n",
       "4  honest letter university president open fallde...  "
      ]
     },
     "execution_count": 58,
     "metadata": {},
     "output_type": "execute_result"
    }
   ],
   "source": [
    "college.head()"
   ]
  },
  {
   "cell_type": "code",
   "execution_count": 59,
   "id": "b562279a-d4c6-4f6e-8a01-86e366928939",
   "metadata": {},
   "outputs": [],
   "source": [
    "X_coll = college['joined_words']\n",
    "y_coll = college['sent_score']"
   ]
  },
  {
   "cell_type": "code",
   "execution_count": 60,
   "id": "4d89e1f6-93f9-4157-a2d0-b7bb89e7c1ed",
   "metadata": {},
   "outputs": [
    {
     "data": {
      "text/html": [
       "<style>#sk-container-id-6 {color: black;background-color: white;}#sk-container-id-6 pre{padding: 0;}#sk-container-id-6 div.sk-toggleable {background-color: white;}#sk-container-id-6 label.sk-toggleable__label {cursor: pointer;display: block;width: 100%;margin-bottom: 0;padding: 0.3em;box-sizing: border-box;text-align: center;}#sk-container-id-6 label.sk-toggleable__label-arrow:before {content: \"▸\";float: left;margin-right: 0.25em;color: #696969;}#sk-container-id-6 label.sk-toggleable__label-arrow:hover:before {color: black;}#sk-container-id-6 div.sk-estimator:hover label.sk-toggleable__label-arrow:before {color: black;}#sk-container-id-6 div.sk-toggleable__content {max-height: 0;max-width: 0;overflow: hidden;text-align: left;background-color: #f0f8ff;}#sk-container-id-6 div.sk-toggleable__content pre {margin: 0.2em;color: black;border-radius: 0.25em;background-color: #f0f8ff;}#sk-container-id-6 input.sk-toggleable__control:checked~div.sk-toggleable__content {max-height: 200px;max-width: 100%;overflow: auto;}#sk-container-id-6 input.sk-toggleable__control:checked~label.sk-toggleable__label-arrow:before {content: \"▾\";}#sk-container-id-6 div.sk-estimator input.sk-toggleable__control:checked~label.sk-toggleable__label {background-color: #d4ebff;}#sk-container-id-6 div.sk-label input.sk-toggleable__control:checked~label.sk-toggleable__label {background-color: #d4ebff;}#sk-container-id-6 input.sk-hidden--visually {border: 0;clip: rect(1px 1px 1px 1px);clip: rect(1px, 1px, 1px, 1px);height: 1px;margin: -1px;overflow: hidden;padding: 0;position: absolute;width: 1px;}#sk-container-id-6 div.sk-estimator {font-family: monospace;background-color: #f0f8ff;border: 1px dotted black;border-radius: 0.25em;box-sizing: border-box;margin-bottom: 0.5em;}#sk-container-id-6 div.sk-estimator:hover {background-color: #d4ebff;}#sk-container-id-6 div.sk-parallel-item::after {content: \"\";width: 100%;border-bottom: 1px solid gray;flex-grow: 1;}#sk-container-id-6 div.sk-label:hover label.sk-toggleable__label {background-color: #d4ebff;}#sk-container-id-6 div.sk-serial::before {content: \"\";position: absolute;border-left: 1px solid gray;box-sizing: border-box;top: 0;bottom: 0;left: 50%;z-index: 0;}#sk-container-id-6 div.sk-serial {display: flex;flex-direction: column;align-items: center;background-color: white;padding-right: 0.2em;padding-left: 0.2em;position: relative;}#sk-container-id-6 div.sk-item {position: relative;z-index: 1;}#sk-container-id-6 div.sk-parallel {display: flex;align-items: stretch;justify-content: center;background-color: white;position: relative;}#sk-container-id-6 div.sk-item::before, #sk-container-id-6 div.sk-parallel-item::before {content: \"\";position: absolute;border-left: 1px solid gray;box-sizing: border-box;top: 0;bottom: 0;left: 50%;z-index: -1;}#sk-container-id-6 div.sk-parallel-item {display: flex;flex-direction: column;z-index: 1;position: relative;background-color: white;}#sk-container-id-6 div.sk-parallel-item:first-child::after {align-self: flex-end;width: 50%;}#sk-container-id-6 div.sk-parallel-item:last-child::after {align-self: flex-start;width: 50%;}#sk-container-id-6 div.sk-parallel-item:only-child::after {width: 0;}#sk-container-id-6 div.sk-dashed-wrapped {border: 1px dashed gray;margin: 0 0.4em 0.5em 0.4em;box-sizing: border-box;padding-bottom: 0.4em;background-color: white;}#sk-container-id-6 div.sk-label label {font-family: monospace;font-weight: bold;display: inline-block;line-height: 1.2em;}#sk-container-id-6 div.sk-label-container {text-align: center;}#sk-container-id-6 div.sk-container {/* jupyter's `normalize.less` sets `[hidden] { display: none; }` but bootstrap.min.css set `[hidden] { display: none !important; }` so we also need the `!important` here to be able to override the default hidden behavior on the sphinx rendered scikit-learn.org. See: https://github.com/scikit-learn/scikit-learn/issues/21755 */display: inline-block !important;position: relative;}#sk-container-id-6 div.sk-text-repr-fallback {display: none;}</style><div id=\"sk-container-id-6\" class=\"sk-top-container\"><div class=\"sk-text-repr-fallback\"><pre>CountVectorizer()</pre><b>In a Jupyter environment, please rerun this cell to show the HTML representation or trust the notebook. <br />On GitHub, the HTML representation is unable to render, please try loading this page with nbviewer.org.</b></div><div class=\"sk-container\" hidden><div class=\"sk-item\"><div class=\"sk-estimator sk-toggleable\"><input class=\"sk-toggleable__control sk-hidden--visually\" id=\"sk-estimator-id-6\" type=\"checkbox\" checked><label for=\"sk-estimator-id-6\" class=\"sk-toggleable__label sk-toggleable__label-arrow\">CountVectorizer</label><div class=\"sk-toggleable__content\"><pre>CountVectorizer()</pre></div></div></div></div></div>"
      ],
      "text/plain": [
       "CountVectorizer()"
      ]
     },
     "execution_count": 60,
     "metadata": {},
     "output_type": "execute_result"
    }
   ],
   "source": [
    "cvec = CountVectorizer()\n",
    "cvec.fit(X_train)"
   ]
  },
  {
   "cell_type": "code",
   "execution_count": 61,
   "id": "0190cc9d-ee90-4334-9d9d-ffbabf8db485",
   "metadata": {},
   "outputs": [],
   "source": [
    "X_coll_cv = cvec.transform(X_coll)"
   ]
  },
  {
   "cell_type": "code",
   "execution_count": 62,
   "id": "741902d5-f9d1-433e-a10a-fee59dc7feef",
   "metadata": {},
   "outputs": [
    {
     "data": {
      "text/plain": [
       "(1670, 13220)"
      ]
     },
     "execution_count": 62,
     "metadata": {},
     "output_type": "execute_result"
    }
   ],
   "source": [
    "X_coll_cv.shape"
   ]
  },
  {
   "cell_type": "code",
   "execution_count": 63,
   "id": "be0ada08-1e15-4290-a34c-1e5aaa395acf",
   "metadata": {},
   "outputs": [],
   "source": [
    "coll_predictions = svc.predict(X_coll_cv)"
   ]
  },
  {
   "cell_type": "code",
   "execution_count": 64,
   "id": "799aadd4-5c03-4d78-b986-b0630f48654f",
   "metadata": {},
   "outputs": [
    {
     "name": "stdout",
     "output_type": "stream",
     "text": [
      "              precision    recall  f1-score   support\n",
      "\n",
      "           0      0.981     1.000     0.991      1639\n",
      "           1      0.000     0.000     0.000        31\n",
      "\n",
      "    accuracy                          0.981      1670\n",
      "   macro avg      0.491     0.500     0.495      1670\n",
      "weighted avg      0.963     0.981     0.972      1670\n",
      "\n"
     ]
    },
    {
     "name": "stderr",
     "output_type": "stream",
     "text": [
      "C:\\Users\\mudep\\anaconda3\\Lib\\site-packages\\sklearn\\metrics\\_classification.py:1344: UndefinedMetricWarning: Precision and F-score are ill-defined and being set to 0.0 in labels with no predicted samples. Use `zero_division` parameter to control this behavior.\n",
      "  _warn_prf(average, modifier, msg_start, len(result))\n",
      "C:\\Users\\mudep\\anaconda3\\Lib\\site-packages\\sklearn\\metrics\\_classification.py:1344: UndefinedMetricWarning: Precision and F-score are ill-defined and being set to 0.0 in labels with no predicted samples. Use `zero_division` parameter to control this behavior.\n",
      "  _warn_prf(average, modifier, msg_start, len(result))\n",
      "C:\\Users\\mudep\\anaconda3\\Lib\\site-packages\\sklearn\\metrics\\_classification.py:1344: UndefinedMetricWarning: Precision and F-score are ill-defined and being set to 0.0 in labels with no predicted samples. Use `zero_division` parameter to control this behavior.\n",
      "  _warn_prf(average, modifier, msg_start, len(result))\n"
     ]
    }
   ],
   "source": [
    "print(classification_report(coll_predictions, y_coll, digits = 3))"
   ]
  },
  {
   "cell_type": "code",
   "execution_count": 65,
   "id": "a43a42eb-b393-4d4c-8081-6afbd08e479d",
   "metadata": {},
   "outputs": [
    {
     "data": {
      "image/png": "[encoded data removed]",
      "text/plain": [
       "<Figure size 640x480 with 2 Axes>"
      ]
     },
     "metadata": {},
     "output_type": "display_data"
    }
   ],
   "source": [
    "ConfusionMatrixDisplay.from_predictions(y_coll, coll_predictions, cmap = 'Blues')\n",
    "plt.title('Correlation between True and Predicted label', weight = 'bold');"
   ]
  },
  {
   "cell_type": "markdown",
   "id": "8021f4d7-a289-4afb-9771-c2dcffce6ac0",
   "metadata": {},
   "source": [
    "## *Vulgar language warning!!!!*\n",
    "\n",
    "#### List of all false predicetd posts"
   ]
  },
  {
   "cell_type": "code",
   "execution_count": 67,
   "id": "502a480b-de7c-4874-b8df-62e0049bdd8d",
   "metadata": {
    "collapsed": true,
    "jupyter": {
     "outputs_hidden": true
    }
   },
   "outputs": [
    {
     "data": {
      "text/html": [
       "<div>\n",
       "<style scoped>\n",
       "    .dataframe tbody tr th:only-of-type {\n",
       "        vertical-align: middle;\n",
       "    }\n",
       "\n",
       "    .dataframe tbody tr th {\n",
       "        vertical-align: top;\n",
       "    }\n",
       "\n",
       "    .dataframe thead th {\n",
       "        text-align: right;\n",
       "    }\n",
       "</style>\n",
       "<table border=\"1\" class=\"dataframe\">\n",
       "  <thead>\n",
       "    <tr style=\"text-align: right;\">\n",
       "      <th></th>\n",
       "      <th>post</th>\n",
       "      <th>sent_score</th>\n",
       "      <th>post_tokenized</th>\n",
       "      <th>post_lemmatized</th>\n",
       "      <th>joined_words</th>\n",
       "    </tr>\n",
       "  </thead>\n",
       "  <tbody>\n",
       "    <tr>\n",
       "      <th>41</th>\n",
       "      <td>walked in on my roommate sucking his own dicki...</td>\n",
       "      <td>0</td>\n",
       "      <td>['walked', 'roommate', 'sucking', 'dicki', 'ho...</td>\n",
       "      <td>['walked', 'roommate', 'suck', 'dicki', 'hones...</td>\n",
       "      <td>walked roommate suck dicki honestly mind much ...</td>\n",
       "    </tr>\n",
       "    <tr>\n",
       "      <th>45</th>\n",
       "      <td>it’s honestly disgusting what happened to easy...</td>\n",
       "      <td>0</td>\n",
       "      <td>['honestly', 'disgusting', 'happened', 'easybi...</td>\n",
       "      <td>['honestly', 'disgust', 'happen', 'easybibyoun...</td>\n",
       "      <td>honestly disgust happen easybibyounger zoomers...</td>\n",
       "    </tr>\n",
       "    <tr>\n",
       "      <th>47</th>\n",
       "      <td>writing prof here: how to add to essay length ...</td>\n",
       "      <td>0</td>\n",
       "      <td>['writing', 'prof', 'add', 'essay', 'length', ...</td>\n",
       "      <td>['write', 'prof', 'add', 'essay', 'length', 'w...</td>\n",
       "      <td>write prof add essay length without fluff form...</td>\n",
       "    </tr>\n",
       "    <tr>\n",
       "      <th>51</th>\n",
       "      <td>roomate goes to bed so early and gets annoyed ...</td>\n",
       "      <td>0</td>\n",
       "      <td>['roomate', 'goes', 'bed', 'early', 'gets', 'a...</td>\n",
       "      <td>['roomate', 'go', 'bed', 'early', 'get', 'anno...</td>\n",
       "      <td>roomate go bed early get annoy tok move dorm f...</td>\n",
       "    </tr>\n",
       "    <tr>\n",
       "      <th>94</th>\n",
       "      <td>does anyone else feel... strange?i’ve been doi...</td>\n",
       "      <td>0</td>\n",
       "      <td>['anyone', 'else', 'feel', 'strange', 'online'...</td>\n",
       "      <td>['anyone', 'else', 'feel', 'strange', 'online'...</td>\n",
       "      <td>anyone else feel strange online college three ...</td>\n",
       "    </tr>\n",
       "    <tr>\n",
       "      <th>116</th>\n",
       "      <td>i ( f) have adhd and i've been a straight a,  ...</td>\n",
       "      <td>0</td>\n",
       "      <td>['f', 'adhd', 'straight', 'hr', 'semester', 'f...</td>\n",
       "      <td>['f', 'adhd', 'straight', 'hr', 'semester', 'f...</td>\n",
       "      <td>f adhd straight hr semester fully virtual coll...</td>\n",
       "    </tr>\n",
       "    <tr>\n",
       "      <th>152</th>\n",
       "      <td>to those of us isolating from family today or ...</td>\n",
       "      <td>0</td>\n",
       "      <td>['us', 'isolating', 'family', 'today', 'come',...</td>\n",
       "      <td>['us', 'isolate', 'family', 'today', 'come', '...</td>\n",
       "      <td>us isolate family today come happy home happy ...</td>\n",
       "    </tr>\n",
       "    <tr>\n",
       "      <th>194</th>\n",
       "      <td>i forget how loaded people are in universityli...</td>\n",
       "      <td>0</td>\n",
       "      <td>['forget', 'loaded', 'people', 'universitylike...</td>\n",
       "      <td>['forget', 'loaded', 'people', 'universitylike...</td>\n",
       "      <td>forget loaded people universitylike knewww peo...</td>\n",
       "    </tr>\n",
       "    <tr>\n",
       "      <th>202</th>\n",
       "      <td>my father suddenly committed suicide on christ...</td>\n",
       "      <td>0</td>\n",
       "      <td>['father', 'suddenly', 'committed', 'suicide',...</td>\n",
       "      <td>['father', 'suddenly', 'commit', 'suicide', 'c...</td>\n",
       "      <td>father suddenly commit suicide christmas day h...</td>\n",
       "    </tr>\n",
       "    <tr>\n",
       "      <th>238</th>\n",
       "      <td>i’m just donei’m so fucking demotivated and ti...</td>\n",
       "      <td>0</td>\n",
       "      <td>['donei', 'fucking', 'demotivated', 'tired', '...</td>\n",
       "      <td>['donei', 'fuck', 'demotivated', 'tired', 'hon...</td>\n",
       "      <td>donei fuck demotivated tired honestly know eve...</td>\n",
       "    </tr>\n",
       "    <tr>\n",
       "      <th>278</th>\n",
       "      <td>do not, under any circumstances, attempt to ma...</td>\n",
       "      <td>0</td>\n",
       "      <td>['circumstances', 'attempt', 'make', 'macaroni...</td>\n",
       "      <td>['circumstance', 'attempt', 'make', 'macaroni'...</td>\n",
       "      <td>circumstance attempt make macaroni cheese elec...</td>\n",
       "    </tr>\n",
       "    <tr>\n",
       "      <th>302</th>\n",
       "      <td>pssst. you won’t regret working on your hw.i’v...</td>\n",
       "      <td>0</td>\n",
       "      <td>['pssst', 'regret', 'working', 'hw', 'started'...</td>\n",
       "      <td>['pssst', 'regret', 'work', 'hw', 'start', 'lo...</td>\n",
       "      <td>pssst regret work hw start look school self ca...</td>\n",
       "    </tr>\n",
       "    <tr>\n",
       "      <th>314</th>\n",
       "      <td>tomorrow is my graduation ceremony! i will be ...</td>\n",
       "      <td>0</td>\n",
       "      <td>['tomorrow', 'graduation', 'ceremony', 'first'...</td>\n",
       "      <td>['tomorrow', 'graduation', 'ceremony', 'first'...</td>\n",
       "      <td>tomorrow graduation ceremony first entire fami...</td>\n",
       "    </tr>\n",
       "    <tr>\n",
       "      <th>330</th>\n",
       "      <td>let's share misunderstandings about college!i ...</td>\n",
       "      <td>0</td>\n",
       "      <td>['let', 'share', 'misunderstandings', 'college...</td>\n",
       "      <td>['let', 'share', 'misunderstanding', 'college'...</td>\n",
       "      <td>let share misunderstanding college one story s...</td>\n",
       "    </tr>\n",
       "    <tr>\n",
       "      <th>443</th>\n",
       "      <td>don’t compete over your trialsyou guys are all...</td>\n",
       "      <td>0</td>\n",
       "      <td>['compete', 'trialsyou', 'guys', 'great', 'thi...</td>\n",
       "      <td>['compete', 'trialsyou', 'guy', 'great', 'thin...</td>\n",
       "      <td>compete trialsyou guy great thing concern freq...</td>\n",
       "    </tr>\n",
       "    <tr>\n",
       "      <th>529</th>\n",
       "      <td>i am literally one submission away from gradua...</td>\n",
       "      <td>0</td>\n",
       "      <td>['literally', 'one', 'submission', 'away', 'gr...</td>\n",
       "      <td>['literally', 'one', 'submission', 'away', 'gr...</td>\n",
       "      <td>literally one submission away graduate iti fai...</td>\n",
       "    </tr>\n",
       "    <tr>\n",
       "      <th>610</th>\n",
       "      <td>how do i set myself up for a good future if i ...</td>\n",
       "      <td>0</td>\n",
       "      <td>['set', 'good', 'future', 'stupid', 'dumb', 'a...</td>\n",
       "      <td>['set', 'good', 'future', 'stupid', 'dumb', 'a...</td>\n",
       "      <td>set good future stupid dumb aware literally ze...</td>\n",
       "    </tr>\n",
       "    <tr>\n",
       "      <th>788</th>\n",
       "      <td>how often do you spend time with friends per w...</td>\n",
       "      <td>0</td>\n",
       "      <td>['often', 'spend', 'time', 'friends', 'per', '...</td>\n",
       "      <td>['often', 'spend', 'time', 'friend', 'per', 'w...</td>\n",
       "      <td>often spend time friend per week curious ask o...</td>\n",
       "    </tr>\n",
       "    <tr>\n",
       "      <th>865</th>\n",
       "      <td>how to deal with a loud snoreri think its simp...</td>\n",
       "      <td>0</td>\n",
       "      <td>['deal', 'loud', 'snoreri', 'think', 'simply',...</td>\n",
       "      <td>['deal', 'loud', 'snoreri', 'think', 'simply',...</td>\n",
       "      <td>deal loud snoreri think simply unfair loud as ...</td>\n",
       "    </tr>\n",
       "    <tr>\n",
       "      <th>868</th>\n",
       "      <td>what would you suggest for new grads?hey. what...</td>\n",
       "      <td>0</td>\n",
       "      <td>['would', 'suggest', 'new', 'grads', 'hey', 'w...</td>\n",
       "      <td>['would', 'suggest', 'new', 'grad', 'hey', 'wo...</td>\n",
       "      <td>would suggest new grad hey would suggest new g...</td>\n",
       "    </tr>\n",
       "    <tr>\n",
       "      <th>1099</th>\n",
       "      <td>microsoft two factor authentication is beyond ...</td>\n",
       "      <td>0</td>\n",
       "      <td>['microsoft', 'two', 'factor', 'authentication...</td>\n",
       "      <td>['microsoft', 'two', 'factor', 'authentication...</td>\n",
       "      <td>microsoft two factor authentication beyond inf...</td>\n",
       "    </tr>\n",
       "    <tr>\n",
       "      <th>1161</th>\n",
       "      <td>neighbors blasting bass boosted musici live in...</td>\n",
       "      <td>0</td>\n",
       "      <td>['neighbors', 'blasting', 'bass', 'boosted', '...</td>\n",
       "      <td>['neighbor', 'blast', 'bass', 'boost', 'musici...</td>\n",
       "      <td>neighbor blast bass boost musici live dorm nei...</td>\n",
       "    </tr>\n",
       "    <tr>\n",
       "      <th>1225</th>\n",
       "      <td>work and college?ive always seen other people ...</td>\n",
       "      <td>0</td>\n",
       "      <td>['work', 'college', 'ive', 'always', 'seen', '...</td>\n",
       "      <td>['work', 'college', 'ive', 'always', 'see', 'p...</td>\n",
       "      <td>work college ive always see people work collag...</td>\n",
       "    </tr>\n",
       "    <tr>\n",
       "      <th>1275</th>\n",
       "      <td>students with anxiety, how did you push throug...</td>\n",
       "      <td>0</td>\n",
       "      <td>['students', 'anxiety', 'push', 'public', 'spe...</td>\n",
       "      <td>['student', 'anxiety', 'push', 'public', 'spea...</td>\n",
       "      <td>student anxiety push public speaking requireme...</td>\n",
       "    </tr>\n",
       "    <tr>\n",
       "      <th>1310</th>\n",
       "      <td>what to do ?should i apologize to my roomate w...</td>\n",
       "      <td>0</td>\n",
       "      <td>['apologize', 'roomate', 'fault', 'third', 'ti...</td>\n",
       "      <td>['apologize', 'roomate', 'fault', 'third', 'ti...</td>\n",
       "      <td>apologize roomate fault third time apologize f...</td>\n",
       "    </tr>\n",
       "    <tr>\n",
       "      <th>1441</th>\n",
       "      <td>switching seats   weeks into semester?i’m taki...</td>\n",
       "      <td>0</td>\n",
       "      <td>['switching', 'seats', 'weeks', 'semester', 't...</td>\n",
       "      <td>['switch', 'seat', 'week', 'semester', 'take',...</td>\n",
       "      <td>switch seat week semester take calc like sit f...</td>\n",
       "    </tr>\n",
       "    <tr>\n",
       "      <th>1453</th>\n",
       "      <td>feeling out of placei don’t think i belong her...</td>\n",
       "      <td>0</td>\n",
       "      <td>['feeling', 'placei', 'think', 'belong', 'ever...</td>\n",
       "      <td>['feel', 'placei', 'think', 'belong', 'everyon...</td>\n",
       "      <td>feel placei think belong everyone much good ac...</td>\n",
       "    </tr>\n",
       "    <tr>\n",
       "      <th>1457</th>\n",
       "      <td>struggling to process extremely negative feedb...</td>\n",
       "      <td>0</td>\n",
       "      <td>['struggling', 'process', 'extremely', 'negati...</td>\n",
       "      <td>['struggle', 'process', 'extremely', 'negative...</td>\n",
       "      <td>struggle process extremely negative feedback t...</td>\n",
       "    </tr>\n",
       "    <tr>\n",
       "      <th>1491</th>\n",
       "      <td>causes for disciplinary probation?i’m curious ...</td>\n",
       "      <td>0</td>\n",
       "      <td>['causes', 'disciplinary', 'probation', 'curio...</td>\n",
       "      <td>['cause', 'disciplinary', 'probation', 'curiou...</td>\n",
       "      <td>cause disciplinary probation curious bad viola...</td>\n",
       "    </tr>\n",
       "    <tr>\n",
       "      <th>1589</th>\n",
       "      <td>in context of math: uncertainty about my abili...</td>\n",
       "      <td>0</td>\n",
       "      <td>['context', 'math', 'uncertainty', 'ability', ...</td>\n",
       "      <td>['context', 'math', 'uncertainty', 'ability', ...</td>\n",
       "      <td>context math uncertainty ability worry make ma...</td>\n",
       "    </tr>\n",
       "    <tr>\n",
       "      <th>1646</th>\n",
       "      <td>are there any health insurance options for ful...</td>\n",
       "      <td>0</td>\n",
       "      <td>['health', 'insurance', 'options', 'full', 'ti...</td>\n",
       "      <td>['health', 'insurance', 'option', 'full', 'tim...</td>\n",
       "      <td>health insurance option full time student woul...</td>\n",
       "    </tr>\n",
       "  </tbody>\n",
       "</table>\n",
       "</div>"
      ],
      "text/plain": [
       "                                                   post  sent_score  \\\n",
       "41    walked in on my roommate sucking his own dicki...           0   \n",
       "45    it’s honestly disgusting what happened to easy...           0   \n",
       "47    writing prof here: how to add to essay length ...           0   \n",
       "51    roomate goes to bed so early and gets annoyed ...           0   \n",
       "94    does anyone else feel... strange?i’ve been doi...           0   \n",
       "116   i ( f) have adhd and i've been a straight a,  ...           0   \n",
       "152   to those of us isolating from family today or ...           0   \n",
       "194   i forget how loaded people are in universityli...           0   \n",
       "202   my father suddenly committed suicide on christ...           0   \n",
       "238   i’m just donei’m so fucking demotivated and ti...           0   \n",
       "278   do not, under any circumstances, attempt to ma...           0   \n",
       "302   pssst. you won’t regret working on your hw.i’v...           0   \n",
       "314   tomorrow is my graduation ceremony! i will be ...           0   \n",
       "330   let's share misunderstandings about college!i ...           0   \n",
       "443   don’t compete over your trialsyou guys are all...           0   \n",
       "529   i am literally one submission away from gradua...           0   \n",
       "610   how do i set myself up for a good future if i ...           0   \n",
       "788   how often do you spend time with friends per w...           0   \n",
       "865   how to deal with a loud snoreri think its simp...           0   \n",
       "868   what would you suggest for new grads?hey. what...           0   \n",
       "1099  microsoft two factor authentication is beyond ...           0   \n",
       "1161  neighbors blasting bass boosted musici live in...           0   \n",
       "1225  work and college?ive always seen other people ...           0   \n",
       "1275  students with anxiety, how did you push throug...           0   \n",
       "1310  what to do ?should i apologize to my roomate w...           0   \n",
       "1441  switching seats   weeks into semester?i’m taki...           0   \n",
       "1453  feeling out of placei don’t think i belong her...           0   \n",
       "1457  struggling to process extremely negative feedb...           0   \n",
       "1491  causes for disciplinary probation?i’m curious ...           0   \n",
       "1589  in context of math: uncertainty about my abili...           0   \n",
       "1646  are there any health insurance options for ful...           0   \n",
       "\n",
       "                                         post_tokenized  \\\n",
       "41    ['walked', 'roommate', 'sucking', 'dicki', 'ho...   \n",
       "45    ['honestly', 'disgusting', 'happened', 'easybi...   \n",
       "47    ['writing', 'prof', 'add', 'essay', 'length', ...   \n",
       "51    ['roomate', 'goes', 'bed', 'early', 'gets', 'a...   \n",
       "94    ['anyone', 'else', 'feel', 'strange', 'online'...   \n",
       "116   ['f', 'adhd', 'straight', 'hr', 'semester', 'f...   \n",
       "152   ['us', 'isolating', 'family', 'today', 'come',...   \n",
       "194   ['forget', 'loaded', 'people', 'universitylike...   \n",
       "202   ['father', 'suddenly', 'committed', 'suicide',...   \n",
       "238   ['donei', 'fucking', 'demotivated', 'tired', '...   \n",
       "278   ['circumstances', 'attempt', 'make', 'macaroni...   \n",
       "302   ['pssst', 'regret', 'working', 'hw', 'started'...   \n",
       "314   ['tomorrow', 'graduation', 'ceremony', 'first'...   \n",
       "330   ['let', 'share', 'misunderstandings', 'college...   \n",
       "443   ['compete', 'trialsyou', 'guys', 'great', 'thi...   \n",
       "529   ['literally', 'one', 'submission', 'away', 'gr...   \n",
       "610   ['set', 'good', 'future', 'stupid', 'dumb', 'a...   \n",
       "788   ['often', 'spend', 'time', 'friends', 'per', '...   \n",
       "865   ['deal', 'loud', 'snoreri', 'think', 'simply',...   \n",
       "868   ['would', 'suggest', 'new', 'grads', 'hey', 'w...   \n",
       "1099  ['microsoft', 'two', 'factor', 'authentication...   \n",
       "1161  ['neighbors', 'blasting', 'bass', 'boosted', '...   \n",
       "1225  ['work', 'college', 'ive', 'always', 'seen', '...   \n",
       "1275  ['students', 'anxiety', 'push', 'public', 'spe...   \n",
       "1310  ['apologize', 'roomate', 'fault', 'third', 'ti...   \n",
       "1441  ['switching', 'seats', 'weeks', 'semester', 't...   \n",
       "1453  ['feeling', 'placei', 'think', 'belong', 'ever...   \n",
       "1457  ['struggling', 'process', 'extremely', 'negati...   \n",
       "1491  ['causes', 'disciplinary', 'probation', 'curio...   \n",
       "1589  ['context', 'math', 'uncertainty', 'ability', ...   \n",
       "1646  ['health', 'insurance', 'options', 'full', 'ti...   \n",
       "\n",
       "                                        post_lemmatized  \\\n",
       "41    ['walked', 'roommate', 'suck', 'dicki', 'hones...   \n",
       "45    ['honestly', 'disgust', 'happen', 'easybibyoun...   \n",
       "47    ['write', 'prof', 'add', 'essay', 'length', 'w...   \n",
       "51    ['roomate', 'go', 'bed', 'early', 'get', 'anno...   \n",
       "94    ['anyone', 'else', 'feel', 'strange', 'online'...   \n",
       "116   ['f', 'adhd', 'straight', 'hr', 'semester', 'f...   \n",
       "152   ['us', 'isolate', 'family', 'today', 'come', '...   \n",
       "194   ['forget', 'loaded', 'people', 'universitylike...   \n",
       "202   ['father', 'suddenly', 'commit', 'suicide', 'c...   \n",
       "238   ['donei', 'fuck', 'demotivated', 'tired', 'hon...   \n",
       "278   ['circumstance', 'attempt', 'make', 'macaroni'...   \n",
       "302   ['pssst', 'regret', 'work', 'hw', 'start', 'lo...   \n",
       "314   ['tomorrow', 'graduation', 'ceremony', 'first'...   \n",
       "330   ['let', 'share', 'misunderstanding', 'college'...   \n",
       "443   ['compete', 'trialsyou', 'guy', 'great', 'thin...   \n",
       "529   ['literally', 'one', 'submission', 'away', 'gr...   \n",
       "610   ['set', 'good', 'future', 'stupid', 'dumb', 'a...   \n",
       "788   ['often', 'spend', 'time', 'friend', 'per', 'w...   \n",
       "865   ['deal', 'loud', 'snoreri', 'think', 'simply',...   \n",
       "868   ['would', 'suggest', 'new', 'grad', 'hey', 'wo...   \n",
       "1099  ['microsoft', 'two', 'factor', 'authentication...   \n",
       "1161  ['neighbor', 'blast', 'bass', 'boost', 'musici...   \n",
       "1225  ['work', 'college', 'ive', 'always', 'see', 'p...   \n",
       "1275  ['student', 'anxiety', 'push', 'public', 'spea...   \n",
       "1310  ['apologize', 'roomate', 'fault', 'third', 'ti...   \n",
       "1441  ['switch', 'seat', 'week', 'semester', 'take',...   \n",
       "1453  ['feel', 'placei', 'think', 'belong', 'everyon...   \n",
       "1457  ['struggle', 'process', 'extremely', 'negative...   \n",
       "1491  ['cause', 'disciplinary', 'probation', 'curiou...   \n",
       "1589  ['context', 'math', 'uncertainty', 'ability', ...   \n",
       "1646  ['health', 'insurance', 'option', 'full', 'tim...   \n",
       "\n",
       "                                           joined_words  \n",
       "41    walked roommate suck dicki honestly mind much ...  \n",
       "45    honestly disgust happen easybibyounger zoomers...  \n",
       "47    write prof add essay length without fluff form...  \n",
       "51    roomate go bed early get annoy tok move dorm f...  \n",
       "94    anyone else feel strange online college three ...  \n",
       "116   f adhd straight hr semester fully virtual coll...  \n",
       "152   us isolate family today come happy home happy ...  \n",
       "194   forget loaded people universitylike knewww peo...  \n",
       "202   father suddenly commit suicide christmas day h...  \n",
       "238   donei fuck demotivated tired honestly know eve...  \n",
       "278   circumstance attempt make macaroni cheese elec...  \n",
       "302   pssst regret work hw start look school self ca...  \n",
       "314   tomorrow graduation ceremony first entire fami...  \n",
       "330   let share misunderstanding college one story s...  \n",
       "443   compete trialsyou guy great thing concern freq...  \n",
       "529   literally one submission away graduate iti fai...  \n",
       "610   set good future stupid dumb aware literally ze...  \n",
       "788   often spend time friend per week curious ask o...  \n",
       "865   deal loud snoreri think simply unfair loud as ...  \n",
       "868   would suggest new grad hey would suggest new g...  \n",
       "1099  microsoft two factor authentication beyond inf...  \n",
       "1161  neighbor blast bass boost musici live dorm nei...  \n",
       "1225  work college ive always see people work collag...  \n",
       "1275  student anxiety push public speaking requireme...  \n",
       "1310  apologize roomate fault third time apologize f...  \n",
       "1441  switch seat week semester take calc like sit f...  \n",
       "1453  feel placei think belong everyone much good ac...  \n",
       "1457  struggle process extremely negative feedback t...  \n",
       "1491  cause disciplinary probation curious bad viola...  \n",
       "1589  context math uncertainty ability worry make ma...  \n",
       "1646  health insurance option full time student woul...  "
      ]
     },
     "execution_count": 67,
     "metadata": {},
     "output_type": "execute_result"
    }
   ],
   "source": [
    "pred_colls = pd.DataFrame(coll_predictions, columns=['predictions'])\n",
    "\n",
    "false_pred = college.iloc[pred_colls[pred_colls['predictions'] == 1].index]\n",
    "false_pred"
   ]
  },
  {
   "cell_type": "code",
   "execution_count": null,
   "id": "a722208f-1d5b-40b3-953a-ee494cbdf7cd",
   "metadata": {},
   "outputs": [],
   "source": []
  }
 ],
 "metadata": {
  "kernelspec": {
   "display_name": "Python 3 (ipykernel)",
   "language": "python",
   "name": "python3"
  },
  "language_info": {
   "codemirror_mode": {
    "name": "ipython",
    "version": 3
   },
   "file_extension": ".py",
   "mimetype": "text/x-python",
   "name": "python",
   "nbconvert_exporter": "python",
   "pygments_lexer": "ipython3",
   "version": "3.11.5"
  }
 },
 "nbformat": 4,
 "nbformat_minor": 5
}

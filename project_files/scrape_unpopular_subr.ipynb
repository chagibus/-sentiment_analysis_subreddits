{
 "cells": [
  {
   "cell_type": "code",
   "execution_count": 14,
   "id": "d2a067be-2e79-4e53-ac39-7713673375d0",
   "metadata": {},
   "outputs": [],
   "source": [
    "import praw\n",
    "import pandas as pd\n",
    "from time import sleep"
   ]
  },
  {
   "cell_type": "code",
   "execution_count": 15,
   "id": "bf0005b3-900c-43ff-af2e-f13d7f59289d",
   "metadata": {},
   "outputs": [],
   "source": [
    "reddit = praw.Reddit(\n",
    "    client_id=\"TGAWm3MB_auVym2epZVP2A\",\n",
    "    client_secret='NVgy-yspAtMxItvgNirUMf9JvheU5Q',\n",
    "    user_agent='RelevantBar9243_aget',\n",
    "    username='RelevantBar9243',\n",
    "    password='Reddit@2024'\n",
    ")"
   ]
  },
  {
   "cell_type": "code",
   "execution_count": 16,
   "id": "f0494f2f-a110-418f-8ca4-e49595d136ce",
   "metadata": {},
   "outputs": [
    {
     "name": "stdout",
     "output_type": "stream",
     "text": [
      "RelevantBar9243\n"
     ]
    }
   ],
   "source": [
    "print(reddit.user.me())"
   ]
  },
  {
   "cell_type": "code",
   "execution_count": 17,
   "id": "ead73d14-8747-4b4e-bdbd-2a88cd82c0e1",
   "metadata": {},
   "outputs": [],
   "source": [
    "subreddit = reddit.subreddit('unpopularopinion')"
   ]
  },
  {
   "cell_type": "code",
   "execution_count": 18,
   "id": "18c48b9e-ca50-43d5-a49e-0de7559ea587",
   "metadata": {},
   "outputs": [],
   "source": [
    "nonoverlapp_post = []\n",
    "data = []"
   ]
  },
  {
   "cell_type": "code",
   "execution_count": 20,
   "id": "305dd95d-5a10-4e18-bdf3-d47d6b10ffae",
   "metadata": {},
   "outputs": [],
   "source": [
    "# https://www.reddit.com/r/redditdev/comments/10yuc7o/how_to_get_more_than_the_1000_post_limit_using/\n",
    "#sort by top\n",
    "posts = subreddit.top(limit=1000)\n",
    "for post in posts:\n",
    "    if post not in nonoverlapp_post:\n",
    "        data.append([post.created_utc, post.title, post.selftext, post.subreddit])\n",
    "        nonoverlapp_post.append(post)\n",
    "sleep(300)        \n",
    "posts = subreddit.new(limit=1000)\n",
    "for post in posts:\n",
    "    if post not in nonoverlapp_post:\n",
    "        data.append([post.created_utc, post.title, post.selftext, post.subreddit])\n",
    "        nonoverlapp_post.append(post)"
   ]
  },
  {
   "cell_type": "code",
   "execution_count": 21,
   "id": "54819d03-2137-47a3-ba70-53e75e06807c",
   "metadata": {},
   "outputs": [],
   "source": [
    "# Turn into a dataframe\n",
    "opinions = pd.DataFrame(data, columns = ['created_utc', 'title', 'self_text', 'subreddit'])"
   ]
  },
  {
   "cell_type": "code",
   "execution_count": 22,
   "id": "77c7d385-7f2a-428e-a6d9-6a04adfba5c2",
   "metadata": {},
   "outputs": [
    {
     "data": {
      "text/plain": [
       "(1902, 4)"
      ]
     },
     "execution_count": 22,
     "metadata": {},
     "output_type": "execute_result"
    }
   ],
   "source": [
    "opinions.shape"
   ]
  },
  {
   "cell_type": "code",
   "execution_count": 26,
   "id": "95979e1e-fc9e-4353-b5a7-74f427314996",
   "metadata": {},
   "outputs": [],
   "source": [
    "x = opinions.drop_duplicates()"
   ]
  },
  {
   "cell_type": "code",
   "execution_count": 28,
   "id": "bbd0ffce-8df6-44ed-b3c3-f053e366c929",
   "metadata": {},
   "outputs": [],
   "source": [
    "opinions.to_csv('data/unpopularopinion.csv')"
   ]
  },
  {
   "cell_type": "code",
   "execution_count": 25,
   "id": "d7c3c2d3-0ea7-4f8d-87db-c43eeaf6d09a",
   "metadata": {},
   "outputs": [
    {
     "data": {
      "text/html": [
       "<div>\n",
       "<style scoped>\n",
       "    .dataframe tbody tr th:only-of-type {\n",
       "        vertical-align: middle;\n",
       "    }\n",
       "\n",
       "    .dataframe tbody tr th {\n",
       "        vertical-align: top;\n",
       "    }\n",
       "\n",
       "    .dataframe thead th {\n",
       "        text-align: right;\n",
       "    }\n",
       "</style>\n",
       "<table border=\"1\" class=\"dataframe\">\n",
       "  <thead>\n",
       "    <tr style=\"text-align: right;\">\n",
       "      <th></th>\n",
       "      <th>created_utc</th>\n",
       "      <th>title</th>\n",
       "      <th>self_text</th>\n",
       "      <th>subreddit</th>\n",
       "    </tr>\n",
       "  </thead>\n",
       "  <tbody>\n",
       "    <tr>\n",
       "      <th>0</th>\n",
       "      <td>1.597545e+09</td>\n",
       "      <td>Middle aged guys don't buy sports cars because...</td>\n",
       "      <td>I hate hearing people say, \"oh, he bought a Co...</td>\n",
       "      <td>unpopularopinion</td>\n",
       "    </tr>\n",
       "    <tr>\n",
       "      <th>1</th>\n",
       "      <td>1.613406e+09</td>\n",
       "      <td>\"Y'all\" is a brilliant use of the English lang...</td>\n",
       "      <td>I'm British, from a small town in the middle o...</td>\n",
       "      <td>unpopularopinion</td>\n",
       "    </tr>\n",
       "    <tr>\n",
       "      <th>2</th>\n",
       "      <td>1.623629e+09</td>\n",
       "      <td>I always eat dessert before dinner at a restau...</td>\n",
       "      <td>When at a restaurant, waiting staff always fin...</td>\n",
       "      <td>unpopularopinion</td>\n",
       "    </tr>\n",
       "    <tr>\n",
       "      <th>3</th>\n",
       "      <td>1.612532e+09</td>\n",
       "      <td>It should be illegal for a company to list an ...</td>\n",
       "      <td>Graduates and school leavers already have an e...</td>\n",
       "      <td>unpopularopinion</td>\n",
       "    </tr>\n",
       "    <tr>\n",
       "      <th>4</th>\n",
       "      <td>1.592917e+09</td>\n",
       "      <td>News should be a dry recitation of facts. If i...</td>\n",
       "      <td>It's so hard to find a news outlet that will j...</td>\n",
       "      <td>unpopularopinion</td>\n",
       "    </tr>\n",
       "    <tr>\n",
       "      <th>...</th>\n",
       "      <td>...</td>\n",
       "      <td>...</td>\n",
       "      <td>...</td>\n",
       "      <td>...</td>\n",
       "    </tr>\n",
       "    <tr>\n",
       "      <th>1897</th>\n",
       "      <td>1.705554e+09</td>\n",
       "      <td>Forgetting Sarah Marshall is not a good immedi...</td>\n",
       "      <td>Example link of a post below\\n\\nPossible spoil...</td>\n",
       "      <td>unpopularopinion</td>\n",
       "    </tr>\n",
       "    <tr>\n",
       "      <th>1898</th>\n",
       "      <td>1.705613e+09</td>\n",
       "      <td>Locking all items up, Is a good idea.</td>\n",
       "      <td>\\n\\nRecently, at one of the stores i frequent,...</td>\n",
       "      <td>unpopularopinion</td>\n",
       "    </tr>\n",
       "    <tr>\n",
       "      <th>1899</th>\n",
       "      <td>1.705616e+09</td>\n",
       "      <td>Instant coffee is better than brewed coffee</td>\n",
       "      <td>I said it. I’m no coffee snob, I’m your averag...</td>\n",
       "      <td>unpopularopinion</td>\n",
       "    </tr>\n",
       "    <tr>\n",
       "      <th>1900</th>\n",
       "      <td>1.705623e+09</td>\n",
       "      <td>People who say that something was so funny the...</td>\n",
       "      <td>This happens almost exclusively with women, bu...</td>\n",
       "      <td>unpopularopinion</td>\n",
       "    </tr>\n",
       "    <tr>\n",
       "      <th>1901</th>\n",
       "      <td>1.705621e+09</td>\n",
       "      <td>The Dallas Cowboys aren’t America’s team.</td>\n",
       "      <td>I just never understood why when they haven’t ...</td>\n",
       "      <td>unpopularopinion</td>\n",
       "    </tr>\n",
       "  </tbody>\n",
       "</table>\n",
       "<p>1902 rows × 4 columns</p>\n",
       "</div>"
      ],
      "text/plain": [
       "       created_utc                                              title  \\\n",
       "0     1.597545e+09  Middle aged guys don't buy sports cars because...   \n",
       "1     1.613406e+09  \"Y'all\" is a brilliant use of the English lang...   \n",
       "2     1.623629e+09  I always eat dessert before dinner at a restau...   \n",
       "3     1.612532e+09  It should be illegal for a company to list an ...   \n",
       "4     1.592917e+09  News should be a dry recitation of facts. If i...   \n",
       "...            ...                                                ...   \n",
       "1897  1.705554e+09  Forgetting Sarah Marshall is not a good immedi...   \n",
       "1898  1.705613e+09              Locking all items up, Is a good idea.   \n",
       "1899  1.705616e+09        Instant coffee is better than brewed coffee   \n",
       "1900  1.705623e+09  People who say that something was so funny the...   \n",
       "1901  1.705621e+09          The Dallas Cowboys aren’t America’s team.   \n",
       "\n",
       "                                              self_text         subreddit  \n",
       "0     I hate hearing people say, \"oh, he bought a Co...  unpopularopinion  \n",
       "1     I'm British, from a small town in the middle o...  unpopularopinion  \n",
       "2     When at a restaurant, waiting staff always fin...  unpopularopinion  \n",
       "3     Graduates and school leavers already have an e...  unpopularopinion  \n",
       "4     It's so hard to find a news outlet that will j...  unpopularopinion  \n",
       "...                                                 ...               ...  \n",
       "1897  Example link of a post below\\n\\nPossible spoil...  unpopularopinion  \n",
       "1898  \\n\\nRecently, at one of the stores i frequent,...  unpopularopinion  \n",
       "1899  I said it. I’m no coffee snob, I’m your averag...  unpopularopinion  \n",
       "1900  This happens almost exclusively with women, bu...  unpopularopinion  \n",
       "1901  I just never understood why when they haven’t ...  unpopularopinion  \n",
       "\n",
       "[1902 rows x 4 columns]"
      ]
     },
     "execution_count": 25,
     "metadata": {},
     "output_type": "execute_result"
    }
   ],
   "source": [
    "opinions"
   ]
  },
  {
   "cell_type": "code",
   "execution_count": null,
   "id": "ffe8a5aa-16b9-408e-b489-84aac34cbb53",
   "metadata": {},
   "outputs": [],
   "source": []
  },
  {
   "cell_type": "code",
   "execution_count": null,
   "id": "1285eac2-8266-4590-a9c2-7d3874d49397",
   "metadata": {},
   "outputs": [],
   "source": []
  },
  {
   "cell_type": "code",
   "execution_count": null,
   "id": "76100e92-b44f-4067-8438-caf5453666a4",
   "metadata": {},
   "outputs": [],
   "source": []
  }
 ],
 "metadata": {
  "kernelspec": {
   "display_name": "Python 3 (ipykernel)",
   "language": "python",
   "name": "python3"
  },
  "language_info": {
   "codemirror_mode": {
    "name": "ipython",
    "version": 3
   },
   "file_extension": ".py",
   "mimetype": "text/x-python",
   "name": "python",
   "nbconvert_exporter": "python",
   "pygments_lexer": "ipython3",
   "version": "3.11.5"
  }
 },
 "nbformat": 4,
 "nbformat_minor": 5
}
